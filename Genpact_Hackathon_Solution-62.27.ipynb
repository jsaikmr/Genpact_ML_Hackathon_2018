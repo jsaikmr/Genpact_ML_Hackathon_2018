{
 "cells": [
  {
   "cell_type": "markdown",
   "metadata": {},
   "source": [
    "# Genpact Hackathon Challenge\n",
    "The solution code is divided into the following sections:\n",
    "\n",
    "* Data understanding\n",
    "* Preprocessing\n",
    "* Remove Outliers\n",
    "* Mean Encoding\n",
    "* Lag features\n",
    "* Feature selection\n",
    "* Initial Model Building with XGBoost\n",
    "    * Model Evaluation\n",
    "    * Submission\n",
    "* Stacking with XGBoost and KNN\n",
    "    * Hyperparameter tuning\n",
    "    * Model Evaluation\n",
    "    * Model Stacking with RidgeRegression\n",
    "    * Prediction on Final Test data\n",
    "    * Prepare the Submission file"
   ]
  },
  {
   "cell_type": "markdown",
   "metadata": {},
   "source": [
    "## Load Libraries"
   ]
  },
  {
   "cell_type": "code",
   "execution_count": 13,
   "metadata": {},
   "outputs": [],
   "source": [
    "import pandas as pd\n",
    "import numpy as np\n",
    "import matplotlib.pyplot as plt\n",
    "import seaborn as sns\n",
    "\n",
    "from sklearn.preprocessing import LabelEncoder\n",
    "from sklearn.metrics import mean_squared_log_error\n",
    "\n",
    "from xgboost import XGBRegressor\n",
    "\n",
    "%matplotlib inline\n",
    "RANDOM_STATE = 42"
   ]
  },
  {
   "cell_type": "markdown",
   "metadata": {},
   "source": [
    "## Data Understanding"
   ]
  },
  {
   "cell_type": "code",
   "execution_count": 14,
   "metadata": {},
   "outputs": [
    {
     "name": "stdout",
     "output_type": "stream",
     "text": [
      "(456548, 9)\n"
     ]
    },
    {
     "data": {
      "text/html": [
       "<div>\n",
       "<style scoped>\n",
       "    .dataframe tbody tr th:only-of-type {\n",
       "        vertical-align: middle;\n",
       "    }\n",
       "\n",
       "    .dataframe tbody tr th {\n",
       "        vertical-align: top;\n",
       "    }\n",
       "\n",
       "    .dataframe thead th {\n",
       "        text-align: right;\n",
       "    }\n",
       "</style>\n",
       "<table border=\"1\" class=\"dataframe\">\n",
       "  <thead>\n",
       "    <tr style=\"text-align: right;\">\n",
       "      <th></th>\n",
       "      <th>id</th>\n",
       "      <th>week</th>\n",
       "      <th>center_id</th>\n",
       "      <th>meal_id</th>\n",
       "      <th>checkout_price</th>\n",
       "      <th>base_price</th>\n",
       "      <th>emailer_for_promotion</th>\n",
       "      <th>homepage_featured</th>\n",
       "      <th>num_orders</th>\n",
       "    </tr>\n",
       "  </thead>\n",
       "  <tbody>\n",
       "    <tr>\n",
       "      <th>0</th>\n",
       "      <td>1379560</td>\n",
       "      <td>1</td>\n",
       "      <td>55</td>\n",
       "      <td>1885</td>\n",
       "      <td>136.83</td>\n",
       "      <td>152.29</td>\n",
       "      <td>0</td>\n",
       "      <td>0</td>\n",
       "      <td>177</td>\n",
       "    </tr>\n",
       "    <tr>\n",
       "      <th>1</th>\n",
       "      <td>1466964</td>\n",
       "      <td>1</td>\n",
       "      <td>55</td>\n",
       "      <td>1993</td>\n",
       "      <td>136.83</td>\n",
       "      <td>135.83</td>\n",
       "      <td>0</td>\n",
       "      <td>0</td>\n",
       "      <td>270</td>\n",
       "    </tr>\n",
       "    <tr>\n",
       "      <th>2</th>\n",
       "      <td>1346989</td>\n",
       "      <td>1</td>\n",
       "      <td>55</td>\n",
       "      <td>2539</td>\n",
       "      <td>134.86</td>\n",
       "      <td>135.86</td>\n",
       "      <td>0</td>\n",
       "      <td>0</td>\n",
       "      <td>189</td>\n",
       "    </tr>\n",
       "    <tr>\n",
       "      <th>3</th>\n",
       "      <td>1338232</td>\n",
       "      <td>1</td>\n",
       "      <td>55</td>\n",
       "      <td>2139</td>\n",
       "      <td>339.50</td>\n",
       "      <td>437.53</td>\n",
       "      <td>0</td>\n",
       "      <td>0</td>\n",
       "      <td>54</td>\n",
       "    </tr>\n",
       "    <tr>\n",
       "      <th>4</th>\n",
       "      <td>1448490</td>\n",
       "      <td>1</td>\n",
       "      <td>55</td>\n",
       "      <td>2631</td>\n",
       "      <td>243.50</td>\n",
       "      <td>242.50</td>\n",
       "      <td>0</td>\n",
       "      <td>0</td>\n",
       "      <td>40</td>\n",
       "    </tr>\n",
       "  </tbody>\n",
       "</table>\n",
       "</div>"
      ],
      "text/plain": [
       "        id  week  center_id  meal_id  checkout_price  base_price  \\\n",
       "0  1379560     1         55     1885          136.83      152.29   \n",
       "1  1466964     1         55     1993          136.83      135.83   \n",
       "2  1346989     1         55     2539          134.86      135.86   \n",
       "3  1338232     1         55     2139          339.50      437.53   \n",
       "4  1448490     1         55     2631          243.50      242.50   \n",
       "\n",
       "   emailer_for_promotion  homepage_featured  num_orders  \n",
       "0                      0                  0         177  \n",
       "1                      0                  0         270  \n",
       "2                      0                  0         189  \n",
       "3                      0                  0          54  \n",
       "4                      0                  0          40  "
      ]
     },
     "execution_count": 14,
     "metadata": {},
     "output_type": "execute_result"
    }
   ],
   "source": [
    "train = pd.read_csv('data/train.csv')\n",
    "print(train.shape)\n",
    "train.head()"
   ]
  },
  {
   "cell_type": "code",
   "execution_count": 15,
   "metadata": {},
   "outputs": [
    {
     "name": "stdout",
     "output_type": "stream",
     "text": [
      "(77, 5)\n"
     ]
    },
    {
     "data": {
      "text/html": [
       "<div>\n",
       "<style scoped>\n",
       "    .dataframe tbody tr th:only-of-type {\n",
       "        vertical-align: middle;\n",
       "    }\n",
       "\n",
       "    .dataframe tbody tr th {\n",
       "        vertical-align: top;\n",
       "    }\n",
       "\n",
       "    .dataframe thead th {\n",
       "        text-align: right;\n",
       "    }\n",
       "</style>\n",
       "<table border=\"1\" class=\"dataframe\">\n",
       "  <thead>\n",
       "    <tr style=\"text-align: right;\">\n",
       "      <th></th>\n",
       "      <th>center_id</th>\n",
       "      <th>city_code</th>\n",
       "      <th>region_code</th>\n",
       "      <th>center_type</th>\n",
       "      <th>op_area</th>\n",
       "    </tr>\n",
       "  </thead>\n",
       "  <tbody>\n",
       "    <tr>\n",
       "      <th>0</th>\n",
       "      <td>11</td>\n",
       "      <td>679</td>\n",
       "      <td>56</td>\n",
       "      <td>TYPE_A</td>\n",
       "      <td>3.7</td>\n",
       "    </tr>\n",
       "    <tr>\n",
       "      <th>1</th>\n",
       "      <td>13</td>\n",
       "      <td>590</td>\n",
       "      <td>56</td>\n",
       "      <td>TYPE_B</td>\n",
       "      <td>6.7</td>\n",
       "    </tr>\n",
       "    <tr>\n",
       "      <th>2</th>\n",
       "      <td>124</td>\n",
       "      <td>590</td>\n",
       "      <td>56</td>\n",
       "      <td>TYPE_C</td>\n",
       "      <td>4.0</td>\n",
       "    </tr>\n",
       "    <tr>\n",
       "      <th>3</th>\n",
       "      <td>66</td>\n",
       "      <td>648</td>\n",
       "      <td>34</td>\n",
       "      <td>TYPE_A</td>\n",
       "      <td>4.1</td>\n",
       "    </tr>\n",
       "    <tr>\n",
       "      <th>4</th>\n",
       "      <td>94</td>\n",
       "      <td>632</td>\n",
       "      <td>34</td>\n",
       "      <td>TYPE_C</td>\n",
       "      <td>3.6</td>\n",
       "    </tr>\n",
       "  </tbody>\n",
       "</table>\n",
       "</div>"
      ],
      "text/plain": [
       "   center_id  city_code  region_code center_type  op_area\n",
       "0         11        679           56      TYPE_A      3.7\n",
       "1         13        590           56      TYPE_B      6.7\n",
       "2        124        590           56      TYPE_C      4.0\n",
       "3         66        648           34      TYPE_A      4.1\n",
       "4         94        632           34      TYPE_C      3.6"
      ]
     },
     "execution_count": 15,
     "metadata": {},
     "output_type": "execute_result"
    }
   ],
   "source": [
    "fullfill_center = pd.read_csv('data/fulfilment_center_info.csv')\n",
    "print(fullfill_center.shape)\n",
    "fullfill_center.head()"
   ]
  },
  {
   "cell_type": "code",
   "execution_count": 16,
   "metadata": {},
   "outputs": [
    {
     "name": "stdout",
     "output_type": "stream",
     "text": [
      "(51, 3)\n"
     ]
    },
    {
     "data": {
      "text/html": [
       "<div>\n",
       "<style scoped>\n",
       "    .dataframe tbody tr th:only-of-type {\n",
       "        vertical-align: middle;\n",
       "    }\n",
       "\n",
       "    .dataframe tbody tr th {\n",
       "        vertical-align: top;\n",
       "    }\n",
       "\n",
       "    .dataframe thead th {\n",
       "        text-align: right;\n",
       "    }\n",
       "</style>\n",
       "<table border=\"1\" class=\"dataframe\">\n",
       "  <thead>\n",
       "    <tr style=\"text-align: right;\">\n",
       "      <th></th>\n",
       "      <th>meal_id</th>\n",
       "      <th>category</th>\n",
       "      <th>cuisine</th>\n",
       "    </tr>\n",
       "  </thead>\n",
       "  <tbody>\n",
       "    <tr>\n",
       "      <th>0</th>\n",
       "      <td>1885</td>\n",
       "      <td>Beverages</td>\n",
       "      <td>Thai</td>\n",
       "    </tr>\n",
       "    <tr>\n",
       "      <th>1</th>\n",
       "      <td>1993</td>\n",
       "      <td>Beverages</td>\n",
       "      <td>Thai</td>\n",
       "    </tr>\n",
       "    <tr>\n",
       "      <th>2</th>\n",
       "      <td>2539</td>\n",
       "      <td>Beverages</td>\n",
       "      <td>Thai</td>\n",
       "    </tr>\n",
       "    <tr>\n",
       "      <th>3</th>\n",
       "      <td>1248</td>\n",
       "      <td>Beverages</td>\n",
       "      <td>Indian</td>\n",
       "    </tr>\n",
       "    <tr>\n",
       "      <th>4</th>\n",
       "      <td>2631</td>\n",
       "      <td>Beverages</td>\n",
       "      <td>Indian</td>\n",
       "    </tr>\n",
       "  </tbody>\n",
       "</table>\n",
       "</div>"
      ],
      "text/plain": [
       "   meal_id   category cuisine\n",
       "0     1885  Beverages    Thai\n",
       "1     1993  Beverages    Thai\n",
       "2     2539  Beverages    Thai\n",
       "3     1248  Beverages  Indian\n",
       "4     2631  Beverages  Indian"
      ]
     },
     "execution_count": 16,
     "metadata": {},
     "output_type": "execute_result"
    }
   ],
   "source": [
    "meal_info = pd.read_csv('data/meal_info.csv')\n",
    "print(meal_info.shape)\n",
    "meal_info.head()"
   ]
  },
  {
   "cell_type": "code",
   "execution_count": 17,
   "metadata": {},
   "outputs": [
    {
     "name": "stdout",
     "output_type": "stream",
     "text": [
      "(32573, 8)\n"
     ]
    },
    {
     "data": {
      "text/html": [
       "<div>\n",
       "<style scoped>\n",
       "    .dataframe tbody tr th:only-of-type {\n",
       "        vertical-align: middle;\n",
       "    }\n",
       "\n",
       "    .dataframe tbody tr th {\n",
       "        vertical-align: top;\n",
       "    }\n",
       "\n",
       "    .dataframe thead th {\n",
       "        text-align: right;\n",
       "    }\n",
       "</style>\n",
       "<table border=\"1\" class=\"dataframe\">\n",
       "  <thead>\n",
       "    <tr style=\"text-align: right;\">\n",
       "      <th></th>\n",
       "      <th>id</th>\n",
       "      <th>week</th>\n",
       "      <th>center_id</th>\n",
       "      <th>meal_id</th>\n",
       "      <th>checkout_price</th>\n",
       "      <th>base_price</th>\n",
       "      <th>emailer_for_promotion</th>\n",
       "      <th>homepage_featured</th>\n",
       "    </tr>\n",
       "  </thead>\n",
       "  <tbody>\n",
       "    <tr>\n",
       "      <th>0</th>\n",
       "      <td>1028232</td>\n",
       "      <td>146</td>\n",
       "      <td>55</td>\n",
       "      <td>1885</td>\n",
       "      <td>158.11</td>\n",
       "      <td>159.11</td>\n",
       "      <td>0</td>\n",
       "      <td>0</td>\n",
       "    </tr>\n",
       "    <tr>\n",
       "      <th>1</th>\n",
       "      <td>1127204</td>\n",
       "      <td>146</td>\n",
       "      <td>55</td>\n",
       "      <td>1993</td>\n",
       "      <td>160.11</td>\n",
       "      <td>159.11</td>\n",
       "      <td>0</td>\n",
       "      <td>0</td>\n",
       "    </tr>\n",
       "    <tr>\n",
       "      <th>2</th>\n",
       "      <td>1212707</td>\n",
       "      <td>146</td>\n",
       "      <td>55</td>\n",
       "      <td>2539</td>\n",
       "      <td>157.14</td>\n",
       "      <td>159.14</td>\n",
       "      <td>0</td>\n",
       "      <td>0</td>\n",
       "    </tr>\n",
       "    <tr>\n",
       "      <th>3</th>\n",
       "      <td>1082698</td>\n",
       "      <td>146</td>\n",
       "      <td>55</td>\n",
       "      <td>2631</td>\n",
       "      <td>162.02</td>\n",
       "      <td>162.02</td>\n",
       "      <td>0</td>\n",
       "      <td>0</td>\n",
       "    </tr>\n",
       "    <tr>\n",
       "      <th>4</th>\n",
       "      <td>1400926</td>\n",
       "      <td>146</td>\n",
       "      <td>55</td>\n",
       "      <td>1248</td>\n",
       "      <td>163.93</td>\n",
       "      <td>163.93</td>\n",
       "      <td>0</td>\n",
       "      <td>0</td>\n",
       "    </tr>\n",
       "  </tbody>\n",
       "</table>\n",
       "</div>"
      ],
      "text/plain": [
       "        id  week  center_id  meal_id  checkout_price  base_price  \\\n",
       "0  1028232   146         55     1885          158.11      159.11   \n",
       "1  1127204   146         55     1993          160.11      159.11   \n",
       "2  1212707   146         55     2539          157.14      159.14   \n",
       "3  1082698   146         55     2631          162.02      162.02   \n",
       "4  1400926   146         55     1248          163.93      163.93   \n",
       "\n",
       "   emailer_for_promotion  homepage_featured  \n",
       "0                      0                  0  \n",
       "1                      0                  0  \n",
       "2                      0                  0  \n",
       "3                      0                  0  \n",
       "4                      0                  0  "
      ]
     },
     "execution_count": 17,
     "metadata": {},
     "output_type": "execute_result"
    }
   ],
   "source": [
    "test = pd.read_csv('data/test_QoiMO9B.csv')\n",
    "print(test.shape)\n",
    "test.head()"
   ]
  },
  {
   "cell_type": "code",
   "execution_count": 18,
   "metadata": {},
   "outputs": [
    {
     "name": "stdout",
     "output_type": "stream",
     "text": [
      "(32573, 2)\n"
     ]
    },
    {
     "data": {
      "text/html": [
       "<div>\n",
       "<style scoped>\n",
       "    .dataframe tbody tr th:only-of-type {\n",
       "        vertical-align: middle;\n",
       "    }\n",
       "\n",
       "    .dataframe tbody tr th {\n",
       "        vertical-align: top;\n",
       "    }\n",
       "\n",
       "    .dataframe thead th {\n",
       "        text-align: right;\n",
       "    }\n",
       "</style>\n",
       "<table border=\"1\" class=\"dataframe\">\n",
       "  <thead>\n",
       "    <tr style=\"text-align: right;\">\n",
       "      <th></th>\n",
       "      <th>id</th>\n",
       "      <th>num_orders</th>\n",
       "    </tr>\n",
       "  </thead>\n",
       "  <tbody>\n",
       "    <tr>\n",
       "      <th>0</th>\n",
       "      <td>1028232</td>\n",
       "      <td>0</td>\n",
       "    </tr>\n",
       "    <tr>\n",
       "      <th>1</th>\n",
       "      <td>1127204</td>\n",
       "      <td>0</td>\n",
       "    </tr>\n",
       "    <tr>\n",
       "      <th>2</th>\n",
       "      <td>1212707</td>\n",
       "      <td>0</td>\n",
       "    </tr>\n",
       "    <tr>\n",
       "      <th>3</th>\n",
       "      <td>1082698</td>\n",
       "      <td>0</td>\n",
       "    </tr>\n",
       "    <tr>\n",
       "      <th>4</th>\n",
       "      <td>1400926</td>\n",
       "      <td>0</td>\n",
       "    </tr>\n",
       "  </tbody>\n",
       "</table>\n",
       "</div>"
      ],
      "text/plain": [
       "        id  num_orders\n",
       "0  1028232           0\n",
       "1  1127204           0\n",
       "2  1212707           0\n",
       "3  1082698           0\n",
       "4  1400926           0"
      ]
     },
     "execution_count": 18,
     "metadata": {},
     "output_type": "execute_result"
    }
   ],
   "source": [
    "final_submit = pd.read_csv('data/sample_submission_hSlSoT6.csv')\n",
    "print(final_submit.shape)\n",
    "final_submit.head()"
   ]
  },
  {
   "cell_type": "markdown",
   "metadata": {},
   "source": [
    "## Data Preparation"
   ]
  },
  {
   "cell_type": "markdown",
   "metadata": {},
   "source": [
    "Check if all the center_id's in training set are present in master df fullfill_center"
   ]
  },
  {
   "cell_type": "code",
   "execution_count": 19,
   "metadata": {},
   "outputs": [
    {
     "data": {
      "text/plain": [
       "[]"
      ]
     },
     "execution_count": 19,
     "metadata": {},
     "output_type": "execute_result"
    }
   ],
   "source": [
    "list(set(train['center_id']).difference(set(fullfill_center['center_id'])))"
   ]
  },
  {
   "cell_type": "markdown",
   "metadata": {},
   "source": [
    "Also Check if all the center_id's in test set are present in master df fullfill_center"
   ]
  },
  {
   "cell_type": "code",
   "execution_count": 20,
   "metadata": {},
   "outputs": [
    {
     "data": {
      "text/plain": [
       "[]"
      ]
     },
     "execution_count": 20,
     "metadata": {},
     "output_type": "execute_result"
    }
   ],
   "source": [
    "list(set(test['center_id']).difference(set(fullfill_center['center_id'])))"
   ]
  },
  {
   "cell_type": "markdown",
   "metadata": {},
   "source": [
    "Also Check if all the center_id's in test set are present in training set"
   ]
  },
  {
   "cell_type": "code",
   "execution_count": 21,
   "metadata": {},
   "outputs": [
    {
     "data": {
      "text/plain": [
       "[]"
      ]
     },
     "execution_count": 21,
     "metadata": {},
     "output_type": "execute_result"
    }
   ],
   "source": [
    "list(set(test['center_id']).difference(set(train['center_id'])))"
   ]
  },
  {
   "cell_type": "markdown",
   "metadata": {},
   "source": [
    "Similarly check if meal_id's in training set are present in master df meal_info"
   ]
  },
  {
   "cell_type": "code",
   "execution_count": 22,
   "metadata": {},
   "outputs": [
    {
     "data": {
      "text/plain": [
       "[]"
      ]
     },
     "execution_count": 22,
     "metadata": {},
     "output_type": "execute_result"
    }
   ],
   "source": [
    "list(set(train['meal_id']).difference(set(meal_info['meal_id'])))"
   ]
  },
  {
   "cell_type": "markdown",
   "metadata": {},
   "source": [
    "Now check if meal_id's in test set are present in master df meal_info"
   ]
  },
  {
   "cell_type": "code",
   "execution_count": 23,
   "metadata": {},
   "outputs": [
    {
     "data": {
      "text/plain": [
       "[]"
      ]
     },
     "execution_count": 23,
     "metadata": {},
     "output_type": "execute_result"
    }
   ],
   "source": [
    "list(set(test['meal_id']).difference(set(meal_info['meal_id'])))"
   ]
  },
  {
   "cell_type": "markdown",
   "metadata": {},
   "source": [
    "Now check if meal_id's in test set are present in train set"
   ]
  },
  {
   "cell_type": "code",
   "execution_count": 24,
   "metadata": {},
   "outputs": [
    {
     "data": {
      "text/plain": [
       "[]"
      ]
     },
     "execution_count": 24,
     "metadata": {},
     "output_type": "execute_result"
    }
   ],
   "source": [
    "list(set(test['meal_id']).difference(set(train['meal_id'])))"
   ]
  },
  {
   "cell_type": "markdown",
   "metadata": {},
   "source": [
    "### Combine the train and test dataset"
   ]
  },
  {
   "cell_type": "code",
   "execution_count": 25,
   "metadata": {},
   "outputs": [
    {
     "name": "stdout",
     "output_type": "stream",
     "text": [
      "(489121, 9)\n"
     ]
    },
    {
     "data": {
      "text/html": [
       "<div>\n",
       "<style scoped>\n",
       "    .dataframe tbody tr th:only-of-type {\n",
       "        vertical-align: middle;\n",
       "    }\n",
       "\n",
       "    .dataframe tbody tr th {\n",
       "        vertical-align: top;\n",
       "    }\n",
       "\n",
       "    .dataframe thead th {\n",
       "        text-align: right;\n",
       "    }\n",
       "</style>\n",
       "<table border=\"1\" class=\"dataframe\">\n",
       "  <thead>\n",
       "    <tr style=\"text-align: right;\">\n",
       "      <th></th>\n",
       "      <th>id</th>\n",
       "      <th>week</th>\n",
       "      <th>center_id</th>\n",
       "      <th>meal_id</th>\n",
       "      <th>checkout_price</th>\n",
       "      <th>base_price</th>\n",
       "      <th>emailer_for_promotion</th>\n",
       "      <th>homepage_featured</th>\n",
       "      <th>num_orders</th>\n",
       "    </tr>\n",
       "  </thead>\n",
       "  <tbody>\n",
       "    <tr>\n",
       "      <th>0</th>\n",
       "      <td>1379560</td>\n",
       "      <td>1</td>\n",
       "      <td>55</td>\n",
       "      <td>1885</td>\n",
       "      <td>136.83</td>\n",
       "      <td>152.29</td>\n",
       "      <td>0</td>\n",
       "      <td>0</td>\n",
       "      <td>177.0</td>\n",
       "    </tr>\n",
       "    <tr>\n",
       "      <th>1</th>\n",
       "      <td>1466964</td>\n",
       "      <td>1</td>\n",
       "      <td>55</td>\n",
       "      <td>1993</td>\n",
       "      <td>136.83</td>\n",
       "      <td>135.83</td>\n",
       "      <td>0</td>\n",
       "      <td>0</td>\n",
       "      <td>270.0</td>\n",
       "    </tr>\n",
       "    <tr>\n",
       "      <th>2</th>\n",
       "      <td>1346989</td>\n",
       "      <td>1</td>\n",
       "      <td>55</td>\n",
       "      <td>2539</td>\n",
       "      <td>134.86</td>\n",
       "      <td>135.86</td>\n",
       "      <td>0</td>\n",
       "      <td>0</td>\n",
       "      <td>189.0</td>\n",
       "    </tr>\n",
       "    <tr>\n",
       "      <th>3</th>\n",
       "      <td>1338232</td>\n",
       "      <td>1</td>\n",
       "      <td>55</td>\n",
       "      <td>2139</td>\n",
       "      <td>339.50</td>\n",
       "      <td>437.53</td>\n",
       "      <td>0</td>\n",
       "      <td>0</td>\n",
       "      <td>54.0</td>\n",
       "    </tr>\n",
       "    <tr>\n",
       "      <th>4</th>\n",
       "      <td>1448490</td>\n",
       "      <td>1</td>\n",
       "      <td>55</td>\n",
       "      <td>2631</td>\n",
       "      <td>243.50</td>\n",
       "      <td>242.50</td>\n",
       "      <td>0</td>\n",
       "      <td>0</td>\n",
       "      <td>40.0</td>\n",
       "    </tr>\n",
       "  </tbody>\n",
       "</table>\n",
       "</div>"
      ],
      "text/plain": [
       "        id  week  center_id  meal_id  checkout_price  base_price  \\\n",
       "0  1379560     1         55     1885          136.83      152.29   \n",
       "1  1466964     1         55     1993          136.83      135.83   \n",
       "2  1346989     1         55     2539          134.86      135.86   \n",
       "3  1338232     1         55     2139          339.50      437.53   \n",
       "4  1448490     1         55     2631          243.50      242.50   \n",
       "\n",
       "   emailer_for_promotion  homepage_featured  num_orders  \n",
       "0                      0                  0       177.0  \n",
       "1                      0                  0       270.0  \n",
       "2                      0                  0       189.0  \n",
       "3                      0                  0        54.0  \n",
       "4                      0                  0        40.0  "
      ]
     },
     "execution_count": 25,
     "metadata": {},
     "output_type": "execute_result"
    }
   ],
   "source": [
    "master_df = train.append(test, sort=False)\n",
    "print(master_df.shape)\n",
    "master_df.head()"
   ]
  },
  {
   "cell_type": "markdown",
   "metadata": {},
   "source": [
    "### Merge fullfill center dataset with the master df"
   ]
  },
  {
   "cell_type": "code",
   "execution_count": 26,
   "metadata": {},
   "outputs": [
    {
     "data": {
      "text/html": [
       "<div>\n",
       "<style scoped>\n",
       "    .dataframe tbody tr th:only-of-type {\n",
       "        vertical-align: middle;\n",
       "    }\n",
       "\n",
       "    .dataframe tbody tr th {\n",
       "        vertical-align: top;\n",
       "    }\n",
       "\n",
       "    .dataframe thead th {\n",
       "        text-align: right;\n",
       "    }\n",
       "</style>\n",
       "<table border=\"1\" class=\"dataframe\">\n",
       "  <thead>\n",
       "    <tr style=\"text-align: right;\">\n",
       "      <th></th>\n",
       "      <th>id</th>\n",
       "      <th>week</th>\n",
       "      <th>center_id</th>\n",
       "      <th>meal_id</th>\n",
       "      <th>checkout_price</th>\n",
       "      <th>base_price</th>\n",
       "      <th>emailer_for_promotion</th>\n",
       "      <th>homepage_featured</th>\n",
       "      <th>num_orders</th>\n",
       "      <th>city_code</th>\n",
       "      <th>region_code</th>\n",
       "      <th>center_type</th>\n",
       "      <th>op_area</th>\n",
       "    </tr>\n",
       "  </thead>\n",
       "  <tbody>\n",
       "    <tr>\n",
       "      <th>0</th>\n",
       "      <td>1379560</td>\n",
       "      <td>1</td>\n",
       "      <td>55</td>\n",
       "      <td>1885</td>\n",
       "      <td>136.83</td>\n",
       "      <td>152.29</td>\n",
       "      <td>0</td>\n",
       "      <td>0</td>\n",
       "      <td>177.0</td>\n",
       "      <td>647</td>\n",
       "      <td>56</td>\n",
       "      <td>TYPE_C</td>\n",
       "      <td>2.0</td>\n",
       "    </tr>\n",
       "    <tr>\n",
       "      <th>1</th>\n",
       "      <td>1466964</td>\n",
       "      <td>1</td>\n",
       "      <td>55</td>\n",
       "      <td>1993</td>\n",
       "      <td>136.83</td>\n",
       "      <td>135.83</td>\n",
       "      <td>0</td>\n",
       "      <td>0</td>\n",
       "      <td>270.0</td>\n",
       "      <td>647</td>\n",
       "      <td>56</td>\n",
       "      <td>TYPE_C</td>\n",
       "      <td>2.0</td>\n",
       "    </tr>\n",
       "    <tr>\n",
       "      <th>2</th>\n",
       "      <td>1346989</td>\n",
       "      <td>1</td>\n",
       "      <td>55</td>\n",
       "      <td>2539</td>\n",
       "      <td>134.86</td>\n",
       "      <td>135.86</td>\n",
       "      <td>0</td>\n",
       "      <td>0</td>\n",
       "      <td>189.0</td>\n",
       "      <td>647</td>\n",
       "      <td>56</td>\n",
       "      <td>TYPE_C</td>\n",
       "      <td>2.0</td>\n",
       "    </tr>\n",
       "    <tr>\n",
       "      <th>3</th>\n",
       "      <td>1338232</td>\n",
       "      <td>1</td>\n",
       "      <td>55</td>\n",
       "      <td>2139</td>\n",
       "      <td>339.50</td>\n",
       "      <td>437.53</td>\n",
       "      <td>0</td>\n",
       "      <td>0</td>\n",
       "      <td>54.0</td>\n",
       "      <td>647</td>\n",
       "      <td>56</td>\n",
       "      <td>TYPE_C</td>\n",
       "      <td>2.0</td>\n",
       "    </tr>\n",
       "    <tr>\n",
       "      <th>4</th>\n",
       "      <td>1448490</td>\n",
       "      <td>1</td>\n",
       "      <td>55</td>\n",
       "      <td>2631</td>\n",
       "      <td>243.50</td>\n",
       "      <td>242.50</td>\n",
       "      <td>0</td>\n",
       "      <td>0</td>\n",
       "      <td>40.0</td>\n",
       "      <td>647</td>\n",
       "      <td>56</td>\n",
       "      <td>TYPE_C</td>\n",
       "      <td>2.0</td>\n",
       "    </tr>\n",
       "  </tbody>\n",
       "</table>\n",
       "</div>"
      ],
      "text/plain": [
       "        id  week  center_id  meal_id  checkout_price  base_price  \\\n",
       "0  1379560     1         55     1885          136.83      152.29   \n",
       "1  1466964     1         55     1993          136.83      135.83   \n",
       "2  1346989     1         55     2539          134.86      135.86   \n",
       "3  1338232     1         55     2139          339.50      437.53   \n",
       "4  1448490     1         55     2631          243.50      242.50   \n",
       "\n",
       "   emailer_for_promotion  homepage_featured  num_orders  city_code  \\\n",
       "0                      0                  0       177.0        647   \n",
       "1                      0                  0       270.0        647   \n",
       "2                      0                  0       189.0        647   \n",
       "3                      0                  0        54.0        647   \n",
       "4                      0                  0        40.0        647   \n",
       "\n",
       "   region_code center_type  op_area  \n",
       "0           56      TYPE_C      2.0  \n",
       "1           56      TYPE_C      2.0  \n",
       "2           56      TYPE_C      2.0  \n",
       "3           56      TYPE_C      2.0  \n",
       "4           56      TYPE_C      2.0  "
      ]
     },
     "execution_count": 26,
     "metadata": {},
     "output_type": "execute_result"
    }
   ],
   "source": [
    "master_df = pd.merge(master_df, fullfill_center, how='inner', on='center_id')\n",
    "master_df.head()"
   ]
  },
  {
   "cell_type": "markdown",
   "metadata": {},
   "source": [
    "### Merge Meal info dataset with the master df"
   ]
  },
  {
   "cell_type": "code",
   "execution_count": 27,
   "metadata": {},
   "outputs": [
    {
     "data": {
      "text/html": [
       "<div>\n",
       "<style scoped>\n",
       "    .dataframe tbody tr th:only-of-type {\n",
       "        vertical-align: middle;\n",
       "    }\n",
       "\n",
       "    .dataframe tbody tr th {\n",
       "        vertical-align: top;\n",
       "    }\n",
       "\n",
       "    .dataframe thead th {\n",
       "        text-align: right;\n",
       "    }\n",
       "</style>\n",
       "<table border=\"1\" class=\"dataframe\">\n",
       "  <thead>\n",
       "    <tr style=\"text-align: right;\">\n",
       "      <th></th>\n",
       "      <th>id</th>\n",
       "      <th>week</th>\n",
       "      <th>center_id</th>\n",
       "      <th>meal_id</th>\n",
       "      <th>checkout_price</th>\n",
       "      <th>base_price</th>\n",
       "      <th>emailer_for_promotion</th>\n",
       "      <th>homepage_featured</th>\n",
       "      <th>num_orders</th>\n",
       "      <th>city_code</th>\n",
       "      <th>region_code</th>\n",
       "      <th>center_type</th>\n",
       "      <th>op_area</th>\n",
       "      <th>category</th>\n",
       "      <th>cuisine</th>\n",
       "    </tr>\n",
       "  </thead>\n",
       "  <tbody>\n",
       "    <tr>\n",
       "      <th>0</th>\n",
       "      <td>1379560</td>\n",
       "      <td>1</td>\n",
       "      <td>55</td>\n",
       "      <td>1885</td>\n",
       "      <td>136.83</td>\n",
       "      <td>152.29</td>\n",
       "      <td>0</td>\n",
       "      <td>0</td>\n",
       "      <td>177.0</td>\n",
       "      <td>647</td>\n",
       "      <td>56</td>\n",
       "      <td>TYPE_C</td>\n",
       "      <td>2.0</td>\n",
       "      <td>Beverages</td>\n",
       "      <td>Thai</td>\n",
       "    </tr>\n",
       "    <tr>\n",
       "      <th>1</th>\n",
       "      <td>1018704</td>\n",
       "      <td>2</td>\n",
       "      <td>55</td>\n",
       "      <td>1885</td>\n",
       "      <td>135.83</td>\n",
       "      <td>152.29</td>\n",
       "      <td>0</td>\n",
       "      <td>0</td>\n",
       "      <td>323.0</td>\n",
       "      <td>647</td>\n",
       "      <td>56</td>\n",
       "      <td>TYPE_C</td>\n",
       "      <td>2.0</td>\n",
       "      <td>Beverages</td>\n",
       "      <td>Thai</td>\n",
       "    </tr>\n",
       "    <tr>\n",
       "      <th>2</th>\n",
       "      <td>1196273</td>\n",
       "      <td>3</td>\n",
       "      <td>55</td>\n",
       "      <td>1885</td>\n",
       "      <td>132.92</td>\n",
       "      <td>133.92</td>\n",
       "      <td>0</td>\n",
       "      <td>0</td>\n",
       "      <td>96.0</td>\n",
       "      <td>647</td>\n",
       "      <td>56</td>\n",
       "      <td>TYPE_C</td>\n",
       "      <td>2.0</td>\n",
       "      <td>Beverages</td>\n",
       "      <td>Thai</td>\n",
       "    </tr>\n",
       "    <tr>\n",
       "      <th>3</th>\n",
       "      <td>1116527</td>\n",
       "      <td>4</td>\n",
       "      <td>55</td>\n",
       "      <td>1885</td>\n",
       "      <td>135.86</td>\n",
       "      <td>134.86</td>\n",
       "      <td>0</td>\n",
       "      <td>0</td>\n",
       "      <td>163.0</td>\n",
       "      <td>647</td>\n",
       "      <td>56</td>\n",
       "      <td>TYPE_C</td>\n",
       "      <td>2.0</td>\n",
       "      <td>Beverages</td>\n",
       "      <td>Thai</td>\n",
       "    </tr>\n",
       "    <tr>\n",
       "      <th>4</th>\n",
       "      <td>1343872</td>\n",
       "      <td>5</td>\n",
       "      <td>55</td>\n",
       "      <td>1885</td>\n",
       "      <td>146.50</td>\n",
       "      <td>147.50</td>\n",
       "      <td>0</td>\n",
       "      <td>0</td>\n",
       "      <td>215.0</td>\n",
       "      <td>647</td>\n",
       "      <td>56</td>\n",
       "      <td>TYPE_C</td>\n",
       "      <td>2.0</td>\n",
       "      <td>Beverages</td>\n",
       "      <td>Thai</td>\n",
       "    </tr>\n",
       "  </tbody>\n",
       "</table>\n",
       "</div>"
      ],
      "text/plain": [
       "        id  week  center_id  meal_id  checkout_price  base_price  \\\n",
       "0  1379560     1         55     1885          136.83      152.29   \n",
       "1  1018704     2         55     1885          135.83      152.29   \n",
       "2  1196273     3         55     1885          132.92      133.92   \n",
       "3  1116527     4         55     1885          135.86      134.86   \n",
       "4  1343872     5         55     1885          146.50      147.50   \n",
       "\n",
       "   emailer_for_promotion  homepage_featured  num_orders  city_code  \\\n",
       "0                      0                  0       177.0        647   \n",
       "1                      0                  0       323.0        647   \n",
       "2                      0                  0        96.0        647   \n",
       "3                      0                  0       163.0        647   \n",
       "4                      0                  0       215.0        647   \n",
       "\n",
       "   region_code center_type  op_area   category cuisine  \n",
       "0           56      TYPE_C      2.0  Beverages    Thai  \n",
       "1           56      TYPE_C      2.0  Beverages    Thai  \n",
       "2           56      TYPE_C      2.0  Beverages    Thai  \n",
       "3           56      TYPE_C      2.0  Beverages    Thai  \n",
       "4           56      TYPE_C      2.0  Beverages    Thai  "
      ]
     },
     "execution_count": 27,
     "metadata": {},
     "output_type": "execute_result"
    }
   ],
   "source": [
    "master_df = pd.merge(master_df, meal_info, how='inner', on='meal_id')\n",
    "master_df.head()"
   ]
  },
  {
   "cell_type": "markdown",
   "metadata": {},
   "source": [
    "### Rearrange the columns in order"
   ]
  },
  {
   "cell_type": "code",
   "execution_count": 28,
   "metadata": {
    "scrolled": true
   },
   "outputs": [
    {
     "data": {
      "text/html": [
       "<div>\n",
       "<style scoped>\n",
       "    .dataframe tbody tr th:only-of-type {\n",
       "        vertical-align: middle;\n",
       "    }\n",
       "\n",
       "    .dataframe tbody tr th {\n",
       "        vertical-align: top;\n",
       "    }\n",
       "\n",
       "    .dataframe thead th {\n",
       "        text-align: right;\n",
       "    }\n",
       "</style>\n",
       "<table border=\"1\" class=\"dataframe\">\n",
       "  <thead>\n",
       "    <tr style=\"text-align: right;\">\n",
       "      <th></th>\n",
       "      <th>id</th>\n",
       "      <th>week</th>\n",
       "      <th>center_id</th>\n",
       "      <th>meal_id</th>\n",
       "      <th>checkout_price</th>\n",
       "      <th>base_price</th>\n",
       "      <th>emailer_for_promotion</th>\n",
       "      <th>homepage_featured</th>\n",
       "      <th>city_code</th>\n",
       "      <th>region_code</th>\n",
       "      <th>center_type</th>\n",
       "      <th>op_area</th>\n",
       "      <th>category</th>\n",
       "      <th>cuisine</th>\n",
       "      <th>num_orders</th>\n",
       "    </tr>\n",
       "  </thead>\n",
       "  <tbody>\n",
       "    <tr>\n",
       "      <th>0</th>\n",
       "      <td>1379560</td>\n",
       "      <td>1</td>\n",
       "      <td>55</td>\n",
       "      <td>1885</td>\n",
       "      <td>136.83</td>\n",
       "      <td>152.29</td>\n",
       "      <td>0</td>\n",
       "      <td>0</td>\n",
       "      <td>647</td>\n",
       "      <td>56</td>\n",
       "      <td>TYPE_C</td>\n",
       "      <td>2.0</td>\n",
       "      <td>Beverages</td>\n",
       "      <td>Thai</td>\n",
       "      <td>177.0</td>\n",
       "    </tr>\n",
       "    <tr>\n",
       "      <th>1</th>\n",
       "      <td>1018704</td>\n",
       "      <td>2</td>\n",
       "      <td>55</td>\n",
       "      <td>1885</td>\n",
       "      <td>135.83</td>\n",
       "      <td>152.29</td>\n",
       "      <td>0</td>\n",
       "      <td>0</td>\n",
       "      <td>647</td>\n",
       "      <td>56</td>\n",
       "      <td>TYPE_C</td>\n",
       "      <td>2.0</td>\n",
       "      <td>Beverages</td>\n",
       "      <td>Thai</td>\n",
       "      <td>323.0</td>\n",
       "    </tr>\n",
       "    <tr>\n",
       "      <th>2</th>\n",
       "      <td>1196273</td>\n",
       "      <td>3</td>\n",
       "      <td>55</td>\n",
       "      <td>1885</td>\n",
       "      <td>132.92</td>\n",
       "      <td>133.92</td>\n",
       "      <td>0</td>\n",
       "      <td>0</td>\n",
       "      <td>647</td>\n",
       "      <td>56</td>\n",
       "      <td>TYPE_C</td>\n",
       "      <td>2.0</td>\n",
       "      <td>Beverages</td>\n",
       "      <td>Thai</td>\n",
       "      <td>96.0</td>\n",
       "    </tr>\n",
       "    <tr>\n",
       "      <th>3</th>\n",
       "      <td>1116527</td>\n",
       "      <td>4</td>\n",
       "      <td>55</td>\n",
       "      <td>1885</td>\n",
       "      <td>135.86</td>\n",
       "      <td>134.86</td>\n",
       "      <td>0</td>\n",
       "      <td>0</td>\n",
       "      <td>647</td>\n",
       "      <td>56</td>\n",
       "      <td>TYPE_C</td>\n",
       "      <td>2.0</td>\n",
       "      <td>Beverages</td>\n",
       "      <td>Thai</td>\n",
       "      <td>163.0</td>\n",
       "    </tr>\n",
       "    <tr>\n",
       "      <th>4</th>\n",
       "      <td>1343872</td>\n",
       "      <td>5</td>\n",
       "      <td>55</td>\n",
       "      <td>1885</td>\n",
       "      <td>146.50</td>\n",
       "      <td>147.50</td>\n",
       "      <td>0</td>\n",
       "      <td>0</td>\n",
       "      <td>647</td>\n",
       "      <td>56</td>\n",
       "      <td>TYPE_C</td>\n",
       "      <td>2.0</td>\n",
       "      <td>Beverages</td>\n",
       "      <td>Thai</td>\n",
       "      <td>215.0</td>\n",
       "    </tr>\n",
       "  </tbody>\n",
       "</table>\n",
       "</div>"
      ],
      "text/plain": [
       "        id  week  center_id  meal_id  checkout_price  base_price  \\\n",
       "0  1379560     1         55     1885          136.83      152.29   \n",
       "1  1018704     2         55     1885          135.83      152.29   \n",
       "2  1196273     3         55     1885          132.92      133.92   \n",
       "3  1116527     4         55     1885          135.86      134.86   \n",
       "4  1343872     5         55     1885          146.50      147.50   \n",
       "\n",
       "   emailer_for_promotion  homepage_featured  city_code  region_code  \\\n",
       "0                      0                  0        647           56   \n",
       "1                      0                  0        647           56   \n",
       "2                      0                  0        647           56   \n",
       "3                      0                  0        647           56   \n",
       "4                      0                  0        647           56   \n",
       "\n",
       "  center_type  op_area   category cuisine  num_orders  \n",
       "0      TYPE_C      2.0  Beverages    Thai       177.0  \n",
       "1      TYPE_C      2.0  Beverages    Thai       323.0  \n",
       "2      TYPE_C      2.0  Beverages    Thai        96.0  \n",
       "3      TYPE_C      2.0  Beverages    Thai       163.0  \n",
       "4      TYPE_C      2.0  Beverages    Thai       215.0  "
      ]
     },
     "execution_count": 28,
     "metadata": {},
     "output_type": "execute_result"
    }
   ],
   "source": [
    "master_df = master_df.reindex(columns=['id','week','center_id','meal_id','checkout_price','base_price','emailer_for_promotion','homepage_featured','city_code','region_code','center_type','op_area','category','cuisine','num_orders'])\n",
    "master_df.head()"
   ]
  },
  {
   "cell_type": "markdown",
   "metadata": {},
   "source": [
    "### Check for the missing values and the column types"
   ]
  },
  {
   "cell_type": "code",
   "execution_count": 29,
   "metadata": {},
   "outputs": [
    {
     "name": "stdout",
     "output_type": "stream",
     "text": [
      "<class 'pandas.core.frame.DataFrame'>\n",
      "Int64Index: 489121 entries, 0 to 489120\n",
      "Data columns (total 15 columns):\n",
      "id                       489121 non-null int64\n",
      "week                     489121 non-null int64\n",
      "center_id                489121 non-null int64\n",
      "meal_id                  489121 non-null int64\n",
      "checkout_price           489121 non-null float64\n",
      "base_price               489121 non-null float64\n",
      "emailer_for_promotion    489121 non-null int64\n",
      "homepage_featured        489121 non-null int64\n",
      "city_code                489121 non-null int64\n",
      "region_code              489121 non-null int64\n",
      "center_type              489121 non-null object\n",
      "op_area                  489121 non-null float64\n",
      "category                 489121 non-null object\n",
      "cuisine                  489121 non-null object\n",
      "num_orders               456548 non-null float64\n",
      "dtypes: float64(4), int64(8), object(3)\n",
      "memory usage: 59.7+ MB\n"
     ]
    }
   ],
   "source": [
    "master_df.info()"
   ]
  },
  {
   "cell_type": "markdown",
   "metadata": {},
   "source": [
    "### Check for the unique values in each column"
   ]
  },
  {
   "cell_type": "code",
   "execution_count": 30,
   "metadata": {},
   "outputs": [
    {
     "data": {
      "text/html": [
       "<div>\n",
       "<style scoped>\n",
       "    .dataframe tbody tr th:only-of-type {\n",
       "        vertical-align: middle;\n",
       "    }\n",
       "\n",
       "    .dataframe tbody tr th {\n",
       "        vertical-align: top;\n",
       "    }\n",
       "\n",
       "    .dataframe thead th {\n",
       "        text-align: right;\n",
       "    }\n",
       "</style>\n",
       "<table border=\"1\" class=\"dataframe\">\n",
       "  <thead>\n",
       "    <tr style=\"text-align: right;\">\n",
       "      <th></th>\n",
       "      <th>Column</th>\n",
       "      <th>Unique Count</th>\n",
       "    </tr>\n",
       "  </thead>\n",
       "  <tbody>\n",
       "    <tr>\n",
       "      <th>0</th>\n",
       "      <td>id</td>\n",
       "      <td>489121</td>\n",
       "    </tr>\n",
       "    <tr>\n",
       "      <th>1</th>\n",
       "      <td>week</td>\n",
       "      <td>155</td>\n",
       "    </tr>\n",
       "    <tr>\n",
       "      <th>2</th>\n",
       "      <td>center_id</td>\n",
       "      <td>77</td>\n",
       "    </tr>\n",
       "    <tr>\n",
       "      <th>3</th>\n",
       "      <td>meal_id</td>\n",
       "      <td>51</td>\n",
       "    </tr>\n",
       "    <tr>\n",
       "      <th>4</th>\n",
       "      <td>checkout_price</td>\n",
       "      <td>1995</td>\n",
       "    </tr>\n",
       "    <tr>\n",
       "      <th>5</th>\n",
       "      <td>base_price</td>\n",
       "      <td>1931</td>\n",
       "    </tr>\n",
       "    <tr>\n",
       "      <th>6</th>\n",
       "      <td>emailer_for_promotion</td>\n",
       "      <td>2</td>\n",
       "    </tr>\n",
       "    <tr>\n",
       "      <th>7</th>\n",
       "      <td>homepage_featured</td>\n",
       "      <td>2</td>\n",
       "    </tr>\n",
       "    <tr>\n",
       "      <th>8</th>\n",
       "      <td>city_code</td>\n",
       "      <td>51</td>\n",
       "    </tr>\n",
       "    <tr>\n",
       "      <th>9</th>\n",
       "      <td>region_code</td>\n",
       "      <td>8</td>\n",
       "    </tr>\n",
       "    <tr>\n",
       "      <th>10</th>\n",
       "      <td>center_type</td>\n",
       "      <td>3</td>\n",
       "    </tr>\n",
       "    <tr>\n",
       "      <th>11</th>\n",
       "      <td>op_area</td>\n",
       "      <td>30</td>\n",
       "    </tr>\n",
       "    <tr>\n",
       "      <th>12</th>\n",
       "      <td>category</td>\n",
       "      <td>14</td>\n",
       "    </tr>\n",
       "    <tr>\n",
       "      <th>13</th>\n",
       "      <td>cuisine</td>\n",
       "      <td>4</td>\n",
       "    </tr>\n",
       "    <tr>\n",
       "      <th>14</th>\n",
       "      <td>num_orders</td>\n",
       "      <td>1251</td>\n",
       "    </tr>\n",
       "  </tbody>\n",
       "</table>\n",
       "</div>"
      ],
      "text/plain": [
       "                   Column  Unique Count\n",
       "0                      id        489121\n",
       "1                    week           155\n",
       "2               center_id            77\n",
       "3                 meal_id            51\n",
       "4          checkout_price          1995\n",
       "5              base_price          1931\n",
       "6   emailer_for_promotion             2\n",
       "7       homepage_featured             2\n",
       "8               city_code            51\n",
       "9             region_code             8\n",
       "10            center_type             3\n",
       "11                op_area            30\n",
       "12               category            14\n",
       "13                cuisine             4\n",
       "14             num_orders          1251"
      ]
     },
     "execution_count": 30,
     "metadata": {},
     "output_type": "execute_result"
    }
   ],
   "source": [
    "# Get the unique count\n",
    "uni_count = []\n",
    "for col in master_df.columns:\n",
    "    uni_count.append(len(master_df[col].unique()))\n",
    "    \n",
    "pd.DataFrame({'Column':master_df.columns, 'Unique Count':uni_count})"
   ]
  },
  {
   "cell_type": "markdown",
   "metadata": {},
   "source": [
    "### Label Encode the categorical columns"
   ]
  },
  {
   "cell_type": "code",
   "execution_count": 31,
   "metadata": {},
   "outputs": [],
   "source": [
    "lbl_enc = LabelEncoder()\n",
    "master_df['center_type'] = lbl_enc.fit_transform(master_df['center_type'])\n",
    "master_df['category'] = lbl_enc.fit_transform(master_df['category'])\n",
    "master_df['cuisine'] = lbl_enc.fit_transform(master_df['cuisine'])"
   ]
  },
  {
   "cell_type": "markdown",
   "metadata": {},
   "source": [
    "### View the value distributions of each column"
   ]
  },
  {
   "cell_type": "code",
   "execution_count": 32,
   "metadata": {},
   "outputs": [
    {
     "data": {
      "text/html": [
       "<div>\n",
       "<style scoped>\n",
       "    .dataframe tbody tr th:only-of-type {\n",
       "        vertical-align: middle;\n",
       "    }\n",
       "\n",
       "    .dataframe tbody tr th {\n",
       "        vertical-align: top;\n",
       "    }\n",
       "\n",
       "    .dataframe thead th {\n",
       "        text-align: right;\n",
       "    }\n",
       "</style>\n",
       "<table border=\"1\" class=\"dataframe\">\n",
       "  <thead>\n",
       "    <tr style=\"text-align: right;\">\n",
       "      <th></th>\n",
       "      <th>id</th>\n",
       "      <th>week</th>\n",
       "      <th>center_id</th>\n",
       "      <th>meal_id</th>\n",
       "      <th>checkout_price</th>\n",
       "      <th>base_price</th>\n",
       "      <th>emailer_for_promotion</th>\n",
       "      <th>homepage_featured</th>\n",
       "      <th>city_code</th>\n",
       "      <th>region_code</th>\n",
       "      <th>center_type</th>\n",
       "      <th>op_area</th>\n",
       "      <th>category</th>\n",
       "      <th>cuisine</th>\n",
       "      <th>num_orders</th>\n",
       "    </tr>\n",
       "  </thead>\n",
       "  <tbody>\n",
       "    <tr>\n",
       "      <th>count</th>\n",
       "      <td>4.891210e+05</td>\n",
       "      <td>489121.000000</td>\n",
       "      <td>489121.000000</td>\n",
       "      <td>489121.000000</td>\n",
       "      <td>489121.000000</td>\n",
       "      <td>489121.000000</td>\n",
       "      <td>489121.000000</td>\n",
       "      <td>489121.000000</td>\n",
       "      <td>489121.000000</td>\n",
       "      <td>489121.000000</td>\n",
       "      <td>489121.000000</td>\n",
       "      <td>489121.000000</td>\n",
       "      <td>489121.000000</td>\n",
       "      <td>489121.000000</td>\n",
       "      <td>456548.000000</td>\n",
       "    </tr>\n",
       "    <tr>\n",
       "      <th>mean</th>\n",
       "      <td>1.249988e+06</td>\n",
       "      <td>79.810613</td>\n",
       "      <td>82.092206</td>\n",
       "      <td>2024.852268</td>\n",
       "      <td>332.879277</td>\n",
       "      <td>354.312259</td>\n",
       "      <td>0.080172</td>\n",
       "      <td>0.107346</td>\n",
       "      <td>601.551172</td>\n",
       "      <td>56.621065</td>\n",
       "      <td>0.642226</td>\n",
       "      <td>4.083865</td>\n",
       "      <td>5.255824</td>\n",
       "      <td>1.561199</td>\n",
       "      <td>261.872760</td>\n",
       "    </tr>\n",
       "    <tr>\n",
       "      <th>std</th>\n",
       "      <td>1.443421e+05</td>\n",
       "      <td>44.343325</td>\n",
       "      <td>45.973390</td>\n",
       "      <td>547.408978</td>\n",
       "      <td>153.022073</td>\n",
       "      <td>160.352168</td>\n",
       "      <td>0.271560</td>\n",
       "      <td>0.309552</td>\n",
       "      <td>66.182598</td>\n",
       "      <td>17.641296</td>\n",
       "      <td>0.815883</td>\n",
       "      <td>1.092163</td>\n",
       "      <td>4.455434</td>\n",
       "      <td>1.102316</td>\n",
       "      <td>395.922798</td>\n",
       "    </tr>\n",
       "    <tr>\n",
       "      <th>min</th>\n",
       "      <td>1.000000e+06</td>\n",
       "      <td>1.000000</td>\n",
       "      <td>10.000000</td>\n",
       "      <td>1062.000000</td>\n",
       "      <td>2.970000</td>\n",
       "      <td>55.350000</td>\n",
       "      <td>0.000000</td>\n",
       "      <td>0.000000</td>\n",
       "      <td>456.000000</td>\n",
       "      <td>23.000000</td>\n",
       "      <td>0.000000</td>\n",
       "      <td>0.900000</td>\n",
       "      <td>0.000000</td>\n",
       "      <td>0.000000</td>\n",
       "      <td>13.000000</td>\n",
       "    </tr>\n",
       "    <tr>\n",
       "      <th>25%</th>\n",
       "      <td>1.124937e+06</td>\n",
       "      <td>42.000000</td>\n",
       "      <td>43.000000</td>\n",
       "      <td>1558.000000</td>\n",
       "      <td>228.010000</td>\n",
       "      <td>243.500000</td>\n",
       "      <td>0.000000</td>\n",
       "      <td>0.000000</td>\n",
       "      <td>553.000000</td>\n",
       "      <td>34.000000</td>\n",
       "      <td>0.000000</td>\n",
       "      <td>3.600000</td>\n",
       "      <td>0.000000</td>\n",
       "      <td>1.000000</td>\n",
       "      <td>54.000000</td>\n",
       "    </tr>\n",
       "    <tr>\n",
       "      <th>50%</th>\n",
       "      <td>1.249977e+06</td>\n",
       "      <td>81.000000</td>\n",
       "      <td>76.000000</td>\n",
       "      <td>1993.000000</td>\n",
       "      <td>299.760000</td>\n",
       "      <td>311.430000</td>\n",
       "      <td>0.000000</td>\n",
       "      <td>0.000000</td>\n",
       "      <td>596.000000</td>\n",
       "      <td>56.000000</td>\n",
       "      <td>0.000000</td>\n",
       "      <td>4.000000</td>\n",
       "      <td>5.000000</td>\n",
       "      <td>2.000000</td>\n",
       "      <td>136.000000</td>\n",
       "    </tr>\n",
       "    <tr>\n",
       "      <th>75%</th>\n",
       "      <td>1.374988e+06</td>\n",
       "      <td>118.000000</td>\n",
       "      <td>110.000000</td>\n",
       "      <td>2539.000000</td>\n",
       "      <td>445.230000</td>\n",
       "      <td>458.810000</td>\n",
       "      <td>0.000000</td>\n",
       "      <td>0.000000</td>\n",
       "      <td>651.000000</td>\n",
       "      <td>77.000000</td>\n",
       "      <td>1.000000</td>\n",
       "      <td>4.500000</td>\n",
       "      <td>9.000000</td>\n",
       "      <td>3.000000</td>\n",
       "      <td>324.000000</td>\n",
       "    </tr>\n",
       "    <tr>\n",
       "      <th>max</th>\n",
       "      <td>1.499999e+06</td>\n",
       "      <td>155.000000</td>\n",
       "      <td>186.000000</td>\n",
       "      <td>2956.000000</td>\n",
       "      <td>1113.620000</td>\n",
       "      <td>1112.620000</td>\n",
       "      <td>1.000000</td>\n",
       "      <td>1.000000</td>\n",
       "      <td>713.000000</td>\n",
       "      <td>93.000000</td>\n",
       "      <td>2.000000</td>\n",
       "      <td>7.000000</td>\n",
       "      <td>13.000000</td>\n",
       "      <td>3.000000</td>\n",
       "      <td>24299.000000</td>\n",
       "    </tr>\n",
       "  </tbody>\n",
       "</table>\n",
       "</div>"
      ],
      "text/plain": [
       "                 id           week      center_id        meal_id  \\\n",
       "count  4.891210e+05  489121.000000  489121.000000  489121.000000   \n",
       "mean   1.249988e+06      79.810613      82.092206    2024.852268   \n",
       "std    1.443421e+05      44.343325      45.973390     547.408978   \n",
       "min    1.000000e+06       1.000000      10.000000    1062.000000   \n",
       "25%    1.124937e+06      42.000000      43.000000    1558.000000   \n",
       "50%    1.249977e+06      81.000000      76.000000    1993.000000   \n",
       "75%    1.374988e+06     118.000000     110.000000    2539.000000   \n",
       "max    1.499999e+06     155.000000     186.000000    2956.000000   \n",
       "\n",
       "       checkout_price     base_price  emailer_for_promotion  \\\n",
       "count   489121.000000  489121.000000          489121.000000   \n",
       "mean       332.879277     354.312259               0.080172   \n",
       "std        153.022073     160.352168               0.271560   \n",
       "min          2.970000      55.350000               0.000000   \n",
       "25%        228.010000     243.500000               0.000000   \n",
       "50%        299.760000     311.430000               0.000000   \n",
       "75%        445.230000     458.810000               0.000000   \n",
       "max       1113.620000    1112.620000               1.000000   \n",
       "\n",
       "       homepage_featured      city_code    region_code    center_type  \\\n",
       "count      489121.000000  489121.000000  489121.000000  489121.000000   \n",
       "mean            0.107346     601.551172      56.621065       0.642226   \n",
       "std             0.309552      66.182598      17.641296       0.815883   \n",
       "min             0.000000     456.000000      23.000000       0.000000   \n",
       "25%             0.000000     553.000000      34.000000       0.000000   \n",
       "50%             0.000000     596.000000      56.000000       0.000000   \n",
       "75%             0.000000     651.000000      77.000000       1.000000   \n",
       "max             1.000000     713.000000      93.000000       2.000000   \n",
       "\n",
       "             op_area       category        cuisine     num_orders  \n",
       "count  489121.000000  489121.000000  489121.000000  456548.000000  \n",
       "mean        4.083865       5.255824       1.561199     261.872760  \n",
       "std         1.092163       4.455434       1.102316     395.922798  \n",
       "min         0.900000       0.000000       0.000000      13.000000  \n",
       "25%         3.600000       0.000000       1.000000      54.000000  \n",
       "50%         4.000000       5.000000       2.000000     136.000000  \n",
       "75%         4.500000       9.000000       3.000000     324.000000  \n",
       "max         7.000000      13.000000       3.000000   24299.000000  "
      ]
     },
     "execution_count": 32,
     "metadata": {},
     "output_type": "execute_result"
    }
   ],
   "source": [
    "master_df.describe()"
   ]
  },
  {
   "cell_type": "markdown",
   "metadata": {},
   "source": [
    "## Split again into Train and test"
   ]
  },
  {
   "cell_type": "code",
   "execution_count": 33,
   "metadata": {},
   "outputs": [
    {
     "name": "stdout",
     "output_type": "stream",
     "text": [
      "(456548, 15)\n",
      "(32573, 15)\n"
     ]
    }
   ],
   "source": [
    "train = master_df.loc[(master_df['week'] < 146)]\n",
    "test = master_df.loc[(master_df['week'] >= 146)]\n",
    "print(train.shape)\n",
    "print(test.shape)"
   ]
  },
  {
   "cell_type": "markdown",
   "metadata": {},
   "source": [
    "## Remove Outliers"
   ]
  },
  {
   "cell_type": "code",
   "execution_count": 34,
   "metadata": {},
   "outputs": [
    {
     "data": {
      "text/plain": [
       "array([ 2823.   ,  3278.872,  4137.889, 24299.   ])"
      ]
     },
     "execution_count": 34,
     "metadata": {},
     "output_type": "execute_result"
    }
   ],
   "source": [
    "np.percentile(train['num_orders'], [99.7,99.8,99.9,100])"
   ]
  },
  {
   "cell_type": "code",
   "execution_count": 35,
   "metadata": {},
   "outputs": [],
   "source": [
    "train = train.loc[ train['num_orders'] < 5000 ]"
   ]
  },
  {
   "cell_type": "code",
   "execution_count": 36,
   "metadata": {},
   "outputs": [
    {
     "data": {
      "text/plain": [
       "array([728.53, 728.53, 765.33, 866.27])"
      ]
     },
     "execution_count": 36,
     "metadata": {},
     "output_type": "execute_result"
    }
   ],
   "source": [
    "np.percentile(train['checkout_price'], [99.7,99.8,99.9,100])"
   ]
  },
  {
   "cell_type": "markdown",
   "metadata": {},
   "source": [
    "## Mean Encoding"
   ]
  },
  {
   "cell_type": "code",
   "execution_count": 37,
   "metadata": {},
   "outputs": [],
   "source": [
    "for type_ids in [ ['center_id'], ['meal_id'], ['emailer_for_promotion'], ['homepage_featured'], ['city_code'], ['region_code'], ['center_type'], ['op_area'], ['category'], ['cuisine'], ['center_id', 'meal_id'], ['city_code', 'region_code'], ['category', 'cuisine'], ['center_type', 'op_area'], ['emailer_for_promotion', 'homepage_featured']]:\n",
    "    for column_id in ['checkout_price', 'base_price', 'num_orders']:\n",
    "        mean_df = train[type_ids + [column_id]].groupby(type_ids).agg(np.mean).reset_index()\n",
    "        mean_df.rename(\n",
    "            {column_id: \"mean_of_\"+column_id+\"_groupby_\"+\"_\".join(type_ids)},\n",
    "            axis='columns', inplace=True\n",
    "        )\n",
    "        \n",
    "        train = pd.merge(train, mean_df, on=type_ids, how='left')\n",
    "        test = pd.merge(test, mean_df, on=type_ids, how='left')"
   ]
  },
  {
   "cell_type": "code",
   "execution_count": 38,
   "metadata": {},
   "outputs": [
    {
     "name": "stdout",
     "output_type": "stream",
     "text": [
      "(456285, 60)\n"
     ]
    },
    {
     "data": {
      "text/html": [
       "<div>\n",
       "<style scoped>\n",
       "    .dataframe tbody tr th:only-of-type {\n",
       "        vertical-align: middle;\n",
       "    }\n",
       "\n",
       "    .dataframe tbody tr th {\n",
       "        vertical-align: top;\n",
       "    }\n",
       "\n",
       "    .dataframe thead th {\n",
       "        text-align: right;\n",
       "    }\n",
       "</style>\n",
       "<table border=\"1\" class=\"dataframe\">\n",
       "  <thead>\n",
       "    <tr style=\"text-align: right;\">\n",
       "      <th></th>\n",
       "      <th>id</th>\n",
       "      <th>week</th>\n",
       "      <th>center_id</th>\n",
       "      <th>meal_id</th>\n",
       "      <th>checkout_price</th>\n",
       "      <th>base_price</th>\n",
       "      <th>emailer_for_promotion</th>\n",
       "      <th>homepage_featured</th>\n",
       "      <th>city_code</th>\n",
       "      <th>region_code</th>\n",
       "      <th>...</th>\n",
       "      <th>mean_of_num_orders_groupby_city_code_region_code</th>\n",
       "      <th>mean_of_checkout_price_groupby_category_cuisine</th>\n",
       "      <th>mean_of_base_price_groupby_category_cuisine</th>\n",
       "      <th>mean_of_num_orders_groupby_category_cuisine</th>\n",
       "      <th>mean_of_checkout_price_groupby_center_type_op_area</th>\n",
       "      <th>mean_of_base_price_groupby_center_type_op_area</th>\n",
       "      <th>mean_of_num_orders_groupby_center_type_op_area</th>\n",
       "      <th>mean_of_checkout_price_groupby_emailer_for_promotion_homepage_featured</th>\n",
       "      <th>mean_of_base_price_groupby_emailer_for_promotion_homepage_featured</th>\n",
       "      <th>mean_of_num_orders_groupby_emailer_for_promotion_homepage_featured</th>\n",
       "    </tr>\n",
       "  </thead>\n",
       "  <tbody>\n",
       "    <tr>\n",
       "      <th>0</th>\n",
       "      <td>1379560</td>\n",
       "      <td>1</td>\n",
       "      <td>55</td>\n",
       "      <td>1885</td>\n",
       "      <td>136.83</td>\n",
       "      <td>152.29</td>\n",
       "      <td>0</td>\n",
       "      <td>0</td>\n",
       "      <td>647</td>\n",
       "      <td>56</td>\n",
       "      <td>...</td>\n",
       "      <td>268.112879</td>\n",
       "      <td>126.409245</td>\n",
       "      <td>129.895395</td>\n",
       "      <td>555.991147</td>\n",
       "      <td>327.275187</td>\n",
       "      <td>349.970316</td>\n",
       "      <td>159.95595</td>\n",
       "      <td>335.811616</td>\n",
       "      <td>347.499698</td>\n",
       "      <td>211.311867</td>\n",
       "    </tr>\n",
       "    <tr>\n",
       "      <th>1</th>\n",
       "      <td>1018704</td>\n",
       "      <td>2</td>\n",
       "      <td>55</td>\n",
       "      <td>1885</td>\n",
       "      <td>135.83</td>\n",
       "      <td>152.29</td>\n",
       "      <td>0</td>\n",
       "      <td>0</td>\n",
       "      <td>647</td>\n",
       "      <td>56</td>\n",
       "      <td>...</td>\n",
       "      <td>268.112879</td>\n",
       "      <td>126.409245</td>\n",
       "      <td>129.895395</td>\n",
       "      <td>555.991147</td>\n",
       "      <td>327.275187</td>\n",
       "      <td>349.970316</td>\n",
       "      <td>159.95595</td>\n",
       "      <td>335.811616</td>\n",
       "      <td>347.499698</td>\n",
       "      <td>211.311867</td>\n",
       "    </tr>\n",
       "    <tr>\n",
       "      <th>2</th>\n",
       "      <td>1196273</td>\n",
       "      <td>3</td>\n",
       "      <td>55</td>\n",
       "      <td>1885</td>\n",
       "      <td>132.92</td>\n",
       "      <td>133.92</td>\n",
       "      <td>0</td>\n",
       "      <td>0</td>\n",
       "      <td>647</td>\n",
       "      <td>56</td>\n",
       "      <td>...</td>\n",
       "      <td>268.112879</td>\n",
       "      <td>126.409245</td>\n",
       "      <td>129.895395</td>\n",
       "      <td>555.991147</td>\n",
       "      <td>327.275187</td>\n",
       "      <td>349.970316</td>\n",
       "      <td>159.95595</td>\n",
       "      <td>335.811616</td>\n",
       "      <td>347.499698</td>\n",
       "      <td>211.311867</td>\n",
       "    </tr>\n",
       "    <tr>\n",
       "      <th>3</th>\n",
       "      <td>1116527</td>\n",
       "      <td>4</td>\n",
       "      <td>55</td>\n",
       "      <td>1885</td>\n",
       "      <td>135.86</td>\n",
       "      <td>134.86</td>\n",
       "      <td>0</td>\n",
       "      <td>0</td>\n",
       "      <td>647</td>\n",
       "      <td>56</td>\n",
       "      <td>...</td>\n",
       "      <td>268.112879</td>\n",
       "      <td>126.409245</td>\n",
       "      <td>129.895395</td>\n",
       "      <td>555.991147</td>\n",
       "      <td>327.275187</td>\n",
       "      <td>349.970316</td>\n",
       "      <td>159.95595</td>\n",
       "      <td>335.811616</td>\n",
       "      <td>347.499698</td>\n",
       "      <td>211.311867</td>\n",
       "    </tr>\n",
       "    <tr>\n",
       "      <th>4</th>\n",
       "      <td>1343872</td>\n",
       "      <td>5</td>\n",
       "      <td>55</td>\n",
       "      <td>1885</td>\n",
       "      <td>146.50</td>\n",
       "      <td>147.50</td>\n",
       "      <td>0</td>\n",
       "      <td>0</td>\n",
       "      <td>647</td>\n",
       "      <td>56</td>\n",
       "      <td>...</td>\n",
       "      <td>268.112879</td>\n",
       "      <td>126.409245</td>\n",
       "      <td>129.895395</td>\n",
       "      <td>555.991147</td>\n",
       "      <td>327.275187</td>\n",
       "      <td>349.970316</td>\n",
       "      <td>159.95595</td>\n",
       "      <td>335.811616</td>\n",
       "      <td>347.499698</td>\n",
       "      <td>211.311867</td>\n",
       "    </tr>\n",
       "  </tbody>\n",
       "</table>\n",
       "<p>5 rows × 60 columns</p>\n",
       "</div>"
      ],
      "text/plain": [
       "        id  week  center_id  meal_id  checkout_price  base_price  \\\n",
       "0  1379560     1         55     1885          136.83      152.29   \n",
       "1  1018704     2         55     1885          135.83      152.29   \n",
       "2  1196273     3         55     1885          132.92      133.92   \n",
       "3  1116527     4         55     1885          135.86      134.86   \n",
       "4  1343872     5         55     1885          146.50      147.50   \n",
       "\n",
       "   emailer_for_promotion  homepage_featured  city_code  region_code  \\\n",
       "0                      0                  0        647           56   \n",
       "1                      0                  0        647           56   \n",
       "2                      0                  0        647           56   \n",
       "3                      0                  0        647           56   \n",
       "4                      0                  0        647           56   \n",
       "\n",
       "                                  ...                                  \\\n",
       "0                                 ...                                   \n",
       "1                                 ...                                   \n",
       "2                                 ...                                   \n",
       "3                                 ...                                   \n",
       "4                                 ...                                   \n",
       "\n",
       "   mean_of_num_orders_groupby_city_code_region_code  \\\n",
       "0                                        268.112879   \n",
       "1                                        268.112879   \n",
       "2                                        268.112879   \n",
       "3                                        268.112879   \n",
       "4                                        268.112879   \n",
       "\n",
       "   mean_of_checkout_price_groupby_category_cuisine  \\\n",
       "0                                       126.409245   \n",
       "1                                       126.409245   \n",
       "2                                       126.409245   \n",
       "3                                       126.409245   \n",
       "4                                       126.409245   \n",
       "\n",
       "   mean_of_base_price_groupby_category_cuisine  \\\n",
       "0                                   129.895395   \n",
       "1                                   129.895395   \n",
       "2                                   129.895395   \n",
       "3                                   129.895395   \n",
       "4                                   129.895395   \n",
       "\n",
       "   mean_of_num_orders_groupby_category_cuisine  \\\n",
       "0                                   555.991147   \n",
       "1                                   555.991147   \n",
       "2                                   555.991147   \n",
       "3                                   555.991147   \n",
       "4                                   555.991147   \n",
       "\n",
       "   mean_of_checkout_price_groupby_center_type_op_area  \\\n",
       "0                                         327.275187    \n",
       "1                                         327.275187    \n",
       "2                                         327.275187    \n",
       "3                                         327.275187    \n",
       "4                                         327.275187    \n",
       "\n",
       "   mean_of_base_price_groupby_center_type_op_area  \\\n",
       "0                                      349.970316   \n",
       "1                                      349.970316   \n",
       "2                                      349.970316   \n",
       "3                                      349.970316   \n",
       "4                                      349.970316   \n",
       "\n",
       "   mean_of_num_orders_groupby_center_type_op_area  \\\n",
       "0                                       159.95595   \n",
       "1                                       159.95595   \n",
       "2                                       159.95595   \n",
       "3                                       159.95595   \n",
       "4                                       159.95595   \n",
       "\n",
       "   mean_of_checkout_price_groupby_emailer_for_promotion_homepage_featured  \\\n",
       "0                                         335.811616                        \n",
       "1                                         335.811616                        \n",
       "2                                         335.811616                        \n",
       "3                                         335.811616                        \n",
       "4                                         335.811616                        \n",
       "\n",
       "   mean_of_base_price_groupby_emailer_for_promotion_homepage_featured  \\\n",
       "0                                         347.499698                    \n",
       "1                                         347.499698                    \n",
       "2                                         347.499698                    \n",
       "3                                         347.499698                    \n",
       "4                                         347.499698                    \n",
       "\n",
       "   mean_of_num_orders_groupby_emailer_for_promotion_homepage_featured  \n",
       "0                                         211.311867                   \n",
       "1                                         211.311867                   \n",
       "2                                         211.311867                   \n",
       "3                                         211.311867                   \n",
       "4                                         211.311867                   \n",
       "\n",
       "[5 rows x 60 columns]"
      ]
     },
     "execution_count": 38,
     "metadata": {},
     "output_type": "execute_result"
    }
   ],
   "source": [
    "print(train.shape)\n",
    "train.head()"
   ]
  },
  {
   "cell_type": "code",
   "execution_count": 39,
   "metadata": {},
   "outputs": [
    {
     "name": "stdout",
     "output_type": "stream",
     "text": [
      "(32573, 60)\n"
     ]
    },
    {
     "data": {
      "text/html": [
       "<div>\n",
       "<style scoped>\n",
       "    .dataframe tbody tr th:only-of-type {\n",
       "        vertical-align: middle;\n",
       "    }\n",
       "\n",
       "    .dataframe tbody tr th {\n",
       "        vertical-align: top;\n",
       "    }\n",
       "\n",
       "    .dataframe thead th {\n",
       "        text-align: right;\n",
       "    }\n",
       "</style>\n",
       "<table border=\"1\" class=\"dataframe\">\n",
       "  <thead>\n",
       "    <tr style=\"text-align: right;\">\n",
       "      <th></th>\n",
       "      <th>id</th>\n",
       "      <th>week</th>\n",
       "      <th>center_id</th>\n",
       "      <th>meal_id</th>\n",
       "      <th>checkout_price</th>\n",
       "      <th>base_price</th>\n",
       "      <th>emailer_for_promotion</th>\n",
       "      <th>homepage_featured</th>\n",
       "      <th>city_code</th>\n",
       "      <th>region_code</th>\n",
       "      <th>...</th>\n",
       "      <th>mean_of_num_orders_groupby_city_code_region_code</th>\n",
       "      <th>mean_of_checkout_price_groupby_category_cuisine</th>\n",
       "      <th>mean_of_base_price_groupby_category_cuisine</th>\n",
       "      <th>mean_of_num_orders_groupby_category_cuisine</th>\n",
       "      <th>mean_of_checkout_price_groupby_center_type_op_area</th>\n",
       "      <th>mean_of_base_price_groupby_center_type_op_area</th>\n",
       "      <th>mean_of_num_orders_groupby_center_type_op_area</th>\n",
       "      <th>mean_of_checkout_price_groupby_emailer_for_promotion_homepage_featured</th>\n",
       "      <th>mean_of_base_price_groupby_emailer_for_promotion_homepage_featured</th>\n",
       "      <th>mean_of_num_orders_groupby_emailer_for_promotion_homepage_featured</th>\n",
       "    </tr>\n",
       "  </thead>\n",
       "  <tbody>\n",
       "    <tr>\n",
       "      <th>0</th>\n",
       "      <td>1028232</td>\n",
       "      <td>146</td>\n",
       "      <td>55</td>\n",
       "      <td>1885</td>\n",
       "      <td>158.11</td>\n",
       "      <td>159.11</td>\n",
       "      <td>0</td>\n",
       "      <td>0</td>\n",
       "      <td>647</td>\n",
       "      <td>56</td>\n",
       "      <td>...</td>\n",
       "      <td>268.112879</td>\n",
       "      <td>126.409245</td>\n",
       "      <td>129.895395</td>\n",
       "      <td>555.991147</td>\n",
       "      <td>327.275187</td>\n",
       "      <td>349.970316</td>\n",
       "      <td>159.95595</td>\n",
       "      <td>335.811616</td>\n",
       "      <td>347.499698</td>\n",
       "      <td>211.311867</td>\n",
       "    </tr>\n",
       "    <tr>\n",
       "      <th>1</th>\n",
       "      <td>1262649</td>\n",
       "      <td>147</td>\n",
       "      <td>55</td>\n",
       "      <td>1885</td>\n",
       "      <td>159.11</td>\n",
       "      <td>159.11</td>\n",
       "      <td>0</td>\n",
       "      <td>0</td>\n",
       "      <td>647</td>\n",
       "      <td>56</td>\n",
       "      <td>...</td>\n",
       "      <td>268.112879</td>\n",
       "      <td>126.409245</td>\n",
       "      <td>129.895395</td>\n",
       "      <td>555.991147</td>\n",
       "      <td>327.275187</td>\n",
       "      <td>349.970316</td>\n",
       "      <td>159.95595</td>\n",
       "      <td>335.811616</td>\n",
       "      <td>347.499698</td>\n",
       "      <td>211.311867</td>\n",
       "    </tr>\n",
       "    <tr>\n",
       "      <th>2</th>\n",
       "      <td>1453211</td>\n",
       "      <td>149</td>\n",
       "      <td>55</td>\n",
       "      <td>1885</td>\n",
       "      <td>157.14</td>\n",
       "      <td>158.14</td>\n",
       "      <td>0</td>\n",
       "      <td>0</td>\n",
       "      <td>647</td>\n",
       "      <td>56</td>\n",
       "      <td>...</td>\n",
       "      <td>268.112879</td>\n",
       "      <td>126.409245</td>\n",
       "      <td>129.895395</td>\n",
       "      <td>555.991147</td>\n",
       "      <td>327.275187</td>\n",
       "      <td>349.970316</td>\n",
       "      <td>159.95595</td>\n",
       "      <td>335.811616</td>\n",
       "      <td>347.499698</td>\n",
       "      <td>211.311867</td>\n",
       "    </tr>\n",
       "    <tr>\n",
       "      <th>3</th>\n",
       "      <td>1262599</td>\n",
       "      <td>150</td>\n",
       "      <td>55</td>\n",
       "      <td>1885</td>\n",
       "      <td>159.14</td>\n",
       "      <td>157.14</td>\n",
       "      <td>0</td>\n",
       "      <td>0</td>\n",
       "      <td>647</td>\n",
       "      <td>56</td>\n",
       "      <td>...</td>\n",
       "      <td>268.112879</td>\n",
       "      <td>126.409245</td>\n",
       "      <td>129.895395</td>\n",
       "      <td>555.991147</td>\n",
       "      <td>327.275187</td>\n",
       "      <td>349.970316</td>\n",
       "      <td>159.95595</td>\n",
       "      <td>335.811616</td>\n",
       "      <td>347.499698</td>\n",
       "      <td>211.311867</td>\n",
       "    </tr>\n",
       "    <tr>\n",
       "      <th>4</th>\n",
       "      <td>1495848</td>\n",
       "      <td>151</td>\n",
       "      <td>55</td>\n",
       "      <td>1885</td>\n",
       "      <td>160.11</td>\n",
       "      <td>159.11</td>\n",
       "      <td>0</td>\n",
       "      <td>0</td>\n",
       "      <td>647</td>\n",
       "      <td>56</td>\n",
       "      <td>...</td>\n",
       "      <td>268.112879</td>\n",
       "      <td>126.409245</td>\n",
       "      <td>129.895395</td>\n",
       "      <td>555.991147</td>\n",
       "      <td>327.275187</td>\n",
       "      <td>349.970316</td>\n",
       "      <td>159.95595</td>\n",
       "      <td>335.811616</td>\n",
       "      <td>347.499698</td>\n",
       "      <td>211.311867</td>\n",
       "    </tr>\n",
       "  </tbody>\n",
       "</table>\n",
       "<p>5 rows × 60 columns</p>\n",
       "</div>"
      ],
      "text/plain": [
       "        id  week  center_id  meal_id  checkout_price  base_price  \\\n",
       "0  1028232   146         55     1885          158.11      159.11   \n",
       "1  1262649   147         55     1885          159.11      159.11   \n",
       "2  1453211   149         55     1885          157.14      158.14   \n",
       "3  1262599   150         55     1885          159.14      157.14   \n",
       "4  1495848   151         55     1885          160.11      159.11   \n",
       "\n",
       "   emailer_for_promotion  homepage_featured  city_code  region_code  \\\n",
       "0                      0                  0        647           56   \n",
       "1                      0                  0        647           56   \n",
       "2                      0                  0        647           56   \n",
       "3                      0                  0        647           56   \n",
       "4                      0                  0        647           56   \n",
       "\n",
       "                                  ...                                  \\\n",
       "0                                 ...                                   \n",
       "1                                 ...                                   \n",
       "2                                 ...                                   \n",
       "3                                 ...                                   \n",
       "4                                 ...                                   \n",
       "\n",
       "   mean_of_num_orders_groupby_city_code_region_code  \\\n",
       "0                                        268.112879   \n",
       "1                                        268.112879   \n",
       "2                                        268.112879   \n",
       "3                                        268.112879   \n",
       "4                                        268.112879   \n",
       "\n",
       "   mean_of_checkout_price_groupby_category_cuisine  \\\n",
       "0                                       126.409245   \n",
       "1                                       126.409245   \n",
       "2                                       126.409245   \n",
       "3                                       126.409245   \n",
       "4                                       126.409245   \n",
       "\n",
       "   mean_of_base_price_groupby_category_cuisine  \\\n",
       "0                                   129.895395   \n",
       "1                                   129.895395   \n",
       "2                                   129.895395   \n",
       "3                                   129.895395   \n",
       "4                                   129.895395   \n",
       "\n",
       "   mean_of_num_orders_groupby_category_cuisine  \\\n",
       "0                                   555.991147   \n",
       "1                                   555.991147   \n",
       "2                                   555.991147   \n",
       "3                                   555.991147   \n",
       "4                                   555.991147   \n",
       "\n",
       "   mean_of_checkout_price_groupby_center_type_op_area  \\\n",
       "0                                         327.275187    \n",
       "1                                         327.275187    \n",
       "2                                         327.275187    \n",
       "3                                         327.275187    \n",
       "4                                         327.275187    \n",
       "\n",
       "   mean_of_base_price_groupby_center_type_op_area  \\\n",
       "0                                      349.970316   \n",
       "1                                      349.970316   \n",
       "2                                      349.970316   \n",
       "3                                      349.970316   \n",
       "4                                      349.970316   \n",
       "\n",
       "   mean_of_num_orders_groupby_center_type_op_area  \\\n",
       "0                                       159.95595   \n",
       "1                                       159.95595   \n",
       "2                                       159.95595   \n",
       "3                                       159.95595   \n",
       "4                                       159.95595   \n",
       "\n",
       "   mean_of_checkout_price_groupby_emailer_for_promotion_homepage_featured  \\\n",
       "0                                         335.811616                        \n",
       "1                                         335.811616                        \n",
       "2                                         335.811616                        \n",
       "3                                         335.811616                        \n",
       "4                                         335.811616                        \n",
       "\n",
       "   mean_of_base_price_groupby_emailer_for_promotion_homepage_featured  \\\n",
       "0                                         347.499698                    \n",
       "1                                         347.499698                    \n",
       "2                                         347.499698                    \n",
       "3                                         347.499698                    \n",
       "4                                         347.499698                    \n",
       "\n",
       "   mean_of_num_orders_groupby_emailer_for_promotion_homepage_featured  \n",
       "0                                         211.311867                   \n",
       "1                                         211.311867                   \n",
       "2                                         211.311867                   \n",
       "3                                         211.311867                   \n",
       "4                                         211.311867                   \n",
       "\n",
       "[5 rows x 60 columns]"
      ]
     },
     "execution_count": 39,
     "metadata": {},
     "output_type": "execute_result"
    }
   ],
   "source": [
    "print(test.shape)\n",
    "test.head()"
   ]
  },
  {
   "cell_type": "markdown",
   "metadata": {},
   "source": [
    "## Create Lag features"
   ]
  },
  {
   "cell_type": "code",
   "execution_count": 40,
   "metadata": {},
   "outputs": [],
   "source": [
    "cols = [\n",
    "            'checkout_price',\n",
    "            'base_price',\n",
    "            'num_orders',\n",
    "            'mean_of_checkout_price_groupby_center_id',\n",
    "            'mean_of_base_price_groupby_center_id',\n",
    "            'mean_of_num_orders_groupby_center_id',\n",
    "            'mean_of_checkout_price_groupby_meal_id',\n",
    "            'mean_of_base_price_groupby_meal_id',\n",
    "            'mean_of_num_orders_groupby_meal_id',\n",
    "            'mean_of_checkout_price_groupby_emailer_for_promotion',\n",
    "            'mean_of_base_price_groupby_emailer_for_promotion',\n",
    "            'mean_of_num_orders_groupby_emailer_for_promotion',\n",
    "            'mean_of_checkout_price_groupby_homepage_featured',\n",
    "            'mean_of_base_price_groupby_homepage_featured',\n",
    "            'mean_of_num_orders_groupby_homepage_featured',\n",
    "            'mean_of_checkout_price_groupby_city_code',\n",
    "            'mean_of_base_price_groupby_city_code',\n",
    "            'mean_of_num_orders_groupby_city_code',\n",
    "            'mean_of_checkout_price_groupby_region_code',\n",
    "            'mean_of_base_price_groupby_region_code',\n",
    "            'mean_of_num_orders_groupby_region_code',\n",
    "            'mean_of_checkout_price_groupby_center_type',\n",
    "            'mean_of_base_price_groupby_center_type',\n",
    "            'mean_of_num_orders_groupby_center_type',\n",
    "            'mean_of_checkout_price_groupby_op_area',\n",
    "            'mean_of_base_price_groupby_op_area',\n",
    "            'mean_of_num_orders_groupby_op_area',\n",
    "            'mean_of_checkout_price_groupby_category',\n",
    "            'mean_of_base_price_groupby_category',\n",
    "            'mean_of_num_orders_groupby_category',\n",
    "            'mean_of_checkout_price_groupby_cuisine',\n",
    "            'mean_of_base_price_groupby_cuisine',\n",
    "            'mean_of_num_orders_groupby_cuisine',\n",
    "            'mean_of_checkout_price_groupby_center_id_meal_id',\n",
    "            'mean_of_base_price_groupby_center_id_meal_id',\n",
    "            'mean_of_num_orders_groupby_center_id_meal_id',\n",
    "            'mean_of_checkout_price_groupby_city_code_region_code',\n",
    "            'mean_of_base_price_groupby_city_code_region_code',\n",
    "            'mean_of_num_orders_groupby_city_code_region_code',\n",
    "            'mean_of_checkout_price_groupby_category_cuisine',\n",
    "            'mean_of_base_price_groupby_category_cuisine',\n",
    "            'mean_of_num_orders_groupby_category_cuisine',\n",
    "            'mean_of_checkout_price_groupby_center_type_op_area',\n",
    "            'mean_of_base_price_groupby_center_type_op_area',\n",
    "            'mean_of_num_orders_groupby_center_type_op_area',\n",
    "            'mean_of_checkout_price_groupby_emailer_for_promotion_homepage_featured',\n",
    "            'mean_of_base_price_groupby_emailer_for_promotion_homepage_featured',\n",
    "            'mean_of_num_orders_groupby_emailer_for_promotion_homepage_featured'\n",
    "        ]\n",
    "\n",
    "# 1 Week Lag\n",
    "# Train\n",
    "df = train.copy()\n",
    "df['week'] = df['week'] + 1\n",
    "df = df[ ['week', 'center_id', 'meal_id'] + cols ]\n",
    "df.rename({ col: col + '_1_week_ago' for col in cols }, axis=1, inplace=True)\n",
    "train = pd.merge(train, df, on=['week', 'center_id', 'meal_id'], how='left')\n",
    "\n",
    "# Test\n",
    "df = test.copy()\n",
    "df['week'] = df['week'] + 1\n",
    "df = df[ ['week', 'center_id', 'meal_id'] + cols ]\n",
    "df.rename({ col: col + '_1_week_ago' for col in cols }, axis=1, inplace=True)\n",
    "test = pd.merge(test, df, on=['week', 'center_id', 'meal_id'], how='left')\n",
    "\n",
    "\n",
    "# 2 Weeks Lag\n",
    "# Train\n",
    "df = train.copy()\n",
    "df['week'] = df['week'] + 2\n",
    "df = df[ ['week', 'center_id', 'meal_id'] + cols ]\n",
    "df.rename({ col: col + '_2_weeks_ago' for col in cols }, axis=1, inplace=True)\n",
    "train = pd.merge(train, df, on=['week', 'center_id', 'meal_id'], how='left')\n",
    "\n",
    "# Test\n",
    "df = test.copy()\n",
    "df['week'] = df['week'] + 2\n",
    "df = df[ ['week', 'center_id', 'meal_id'] + cols ]\n",
    "df.rename({ col: col + '_2_weeks_ago' for col in cols }, axis=1, inplace=True)\n",
    "test = pd.merge(test, df, on=['week', 'center_id', 'meal_id'], how='left')\n",
    "\n",
    "\n",
    "# 3 Weeks Lag\n",
    "# Train\n",
    "df = train.copy()\n",
    "df['week'] = df['week'] + 3\n",
    "df = df[ ['week', 'center_id', 'meal_id'] + cols ]\n",
    "df.rename({ col: col + '_3_weeks_ago' for col in cols }, axis=1, inplace=True)\n",
    "train = pd.merge(train, df, on=['week', 'center_id', 'meal_id'], how='left')\n",
    "\n",
    "# Test\n",
    "df = test.copy()\n",
    "df['week'] = df['week'] + 3\n",
    "df = df[ ['week', 'center_id', 'meal_id'] + cols ]\n",
    "df.rename({ col: col + '_3_weeks_ago' for col in cols }, axis=1, inplace=True)\n",
    "test = pd.merge(test, df, on=['week', 'center_id', 'meal_id'], how='left')\n",
    "\n",
    "\n",
    "# 6 Weeks Lag\n",
    "# Train\n",
    "df = train.copy()\n",
    "df['week'] = df['week'] + 6\n",
    "df = df[ ['week', 'center_id', 'meal_id'] + cols ]\n",
    "df.rename({ col: col + '_6_weeks_ago' for col in cols }, axis=1, inplace=True)\n",
    "train = pd.merge(train, df, on=['week', 'center_id', 'meal_id'], how='left')\n",
    "\n",
    "# Test\n",
    "df = test.copy()\n",
    "df['week'] = df['week'] + 6\n",
    "df = df[ ['week', 'center_id', 'meal_id'] + cols ]\n",
    "df.rename({ col: col + '_6_weeks_ago' for col in cols }, axis=1, inplace=True)\n",
    "test = pd.merge(test, df, on=['week', 'center_id', 'meal_id'], how='left')\n",
    "\n",
    "\n",
    "# 10 Weeks Lag\n",
    "# Train\n",
    "df = train.copy()\n",
    "df['week'] = df['week'] + 10\n",
    "df = df[ ['week', 'center_id', 'meal_id'] + cols ]\n",
    "df.rename({ col: col + '_10_weeks_ago' for col in cols }, axis=1, inplace=True)\n",
    "train = pd.merge(train, df, on=['week', 'center_id', 'meal_id'], how='left')\n",
    "\n",
    "# Test\n",
    "df = test.copy()\n",
    "df['week'] = df['week'] + 10\n",
    "df = df[ ['week', 'center_id', 'meal_id'] + cols ]\n",
    "df.rename({ col: col + '_10_weeks_ago' for col in cols }, axis=1, inplace=True)\n",
    "test = pd.merge(test, df, on=['week', 'center_id', 'meal_id'], how='left')"
   ]
  },
  {
   "cell_type": "markdown",
   "metadata": {},
   "source": [
    "#### Fill null values with 0"
   ]
  },
  {
   "cell_type": "code",
   "execution_count": 41,
   "metadata": {},
   "outputs": [],
   "source": [
    "train = train.fillna(0)\n",
    "test = test.fillna(0)"
   ]
  },
  {
   "cell_type": "markdown",
   "metadata": {},
   "source": [
    "### Create difference features for meal_id and category"
   ]
  },
  {
   "cell_type": "code",
   "execution_count": 42,
   "metadata": {},
   "outputs": [],
   "source": [
    "train['diff_of_center_id_meal_id'] = train['mean_of_checkout_price_groupby_center_id_meal_id'] - train['mean_of_checkout_price_groupby_center_id']\n",
    "train['diff_of_center_id_category'] = train['mean_of_checkout_price_groupby_center_id'] - train['mean_of_checkout_price_groupby_category']\n",
    "\n",
    "test['diff_of_center_id_meal_id'] = test['mean_of_checkout_price_groupby_center_id_meal_id'] - test['mean_of_checkout_price_groupby_center_id']\n",
    "test['diff_of_center_id_category'] = test['mean_of_checkout_price_groupby_center_id'] - test['mean_of_checkout_price_groupby_category']"
   ]
  },
  {
   "cell_type": "markdown",
   "metadata": {},
   "source": [
    "## Split training dataset into Train and validation set"
   ]
  },
  {
   "cell_type": "code",
   "execution_count": 43,
   "metadata": {},
   "outputs": [],
   "source": [
    "X = train.drop('num_orders', axis=1)\n",
    "Y = train['num_orders']"
   ]
  },
  {
   "cell_type": "code",
   "execution_count": 44,
   "metadata": {},
   "outputs": [
    {
     "name": "stdout",
     "output_type": "stream",
     "text": [
      "(32821, 302)\n"
     ]
    },
    {
     "data": {
      "text/html": [
       "<div>\n",
       "<style scoped>\n",
       "    .dataframe tbody tr th:only-of-type {\n",
       "        vertical-align: middle;\n",
       "    }\n",
       "\n",
       "    .dataframe tbody tr th {\n",
       "        vertical-align: top;\n",
       "    }\n",
       "\n",
       "    .dataframe thead th {\n",
       "        text-align: right;\n",
       "    }\n",
       "</style>\n",
       "<table border=\"1\" class=\"dataframe\">\n",
       "  <thead>\n",
       "    <tr style=\"text-align: right;\">\n",
       "      <th></th>\n",
       "      <th>id</th>\n",
       "      <th>week</th>\n",
       "      <th>center_id</th>\n",
       "      <th>meal_id</th>\n",
       "      <th>checkout_price</th>\n",
       "      <th>base_price</th>\n",
       "      <th>emailer_for_promotion</th>\n",
       "      <th>homepage_featured</th>\n",
       "      <th>city_code</th>\n",
       "      <th>region_code</th>\n",
       "      <th>...</th>\n",
       "      <th>mean_of_base_price_groupby_category_cuisine_10_weeks_ago</th>\n",
       "      <th>mean_of_num_orders_groupby_category_cuisine_10_weeks_ago</th>\n",
       "      <th>mean_of_checkout_price_groupby_center_type_op_area_10_weeks_ago</th>\n",
       "      <th>mean_of_base_price_groupby_center_type_op_area_10_weeks_ago</th>\n",
       "      <th>mean_of_num_orders_groupby_center_type_op_area_10_weeks_ago</th>\n",
       "      <th>mean_of_checkout_price_groupby_emailer_for_promotion_homepage_featured_10_weeks_ago</th>\n",
       "      <th>mean_of_base_price_groupby_emailer_for_promotion_homepage_featured_10_weeks_ago</th>\n",
       "      <th>mean_of_num_orders_groupby_emailer_for_promotion_homepage_featured_10_weeks_ago</th>\n",
       "      <th>diff_of_center_id_meal_id</th>\n",
       "      <th>diff_of_center_id_category</th>\n",
       "    </tr>\n",
       "  </thead>\n",
       "  <tbody>\n",
       "    <tr>\n",
       "      <th>135</th>\n",
       "      <td>1017495</td>\n",
       "      <td>136</td>\n",
       "      <td>55</td>\n",
       "      <td>1885</td>\n",
       "      <td>148.44</td>\n",
       "      <td>148.44</td>\n",
       "      <td>0</td>\n",
       "      <td>0</td>\n",
       "      <td>647</td>\n",
       "      <td>56</td>\n",
       "      <td>...</td>\n",
       "      <td>129.895395</td>\n",
       "      <td>555.991147</td>\n",
       "      <td>327.275187</td>\n",
       "      <td>349.970316</td>\n",
       "      <td>159.95595</td>\n",
       "      <td>335.811616</td>\n",
       "      <td>347.499698</td>\n",
       "      <td>211.311867</td>\n",
       "      <td>-184.995845</td>\n",
       "      <td>112.909472</td>\n",
       "    </tr>\n",
       "    <tr>\n",
       "      <th>136</th>\n",
       "      <td>1235148</td>\n",
       "      <td>137</td>\n",
       "      <td>55</td>\n",
       "      <td>1885</td>\n",
       "      <td>153.29</td>\n",
       "      <td>154.29</td>\n",
       "      <td>0</td>\n",
       "      <td>0</td>\n",
       "      <td>647</td>\n",
       "      <td>56</td>\n",
       "      <td>...</td>\n",
       "      <td>129.895395</td>\n",
       "      <td>555.991147</td>\n",
       "      <td>327.275187</td>\n",
       "      <td>349.970316</td>\n",
       "      <td>159.95595</td>\n",
       "      <td>335.811616</td>\n",
       "      <td>347.499698</td>\n",
       "      <td>211.311867</td>\n",
       "      <td>-184.995845</td>\n",
       "      <td>112.909472</td>\n",
       "    </tr>\n",
       "    <tr>\n",
       "      <th>137</th>\n",
       "      <td>1417877</td>\n",
       "      <td>138</td>\n",
       "      <td>55</td>\n",
       "      <td>1885</td>\n",
       "      <td>155.23</td>\n",
       "      <td>156.23</td>\n",
       "      <td>0</td>\n",
       "      <td>0</td>\n",
       "      <td>647</td>\n",
       "      <td>56</td>\n",
       "      <td>...</td>\n",
       "      <td>129.895395</td>\n",
       "      <td>555.991147</td>\n",
       "      <td>327.275187</td>\n",
       "      <td>349.970316</td>\n",
       "      <td>159.95595</td>\n",
       "      <td>335.811616</td>\n",
       "      <td>347.499698</td>\n",
       "      <td>211.311867</td>\n",
       "      <td>-184.995845</td>\n",
       "      <td>112.909472</td>\n",
       "    </tr>\n",
       "    <tr>\n",
       "      <th>138</th>\n",
       "      <td>1449035</td>\n",
       "      <td>139</td>\n",
       "      <td>55</td>\n",
       "      <td>1885</td>\n",
       "      <td>150.35</td>\n",
       "      <td>152.35</td>\n",
       "      <td>0</td>\n",
       "      <td>0</td>\n",
       "      <td>647</td>\n",
       "      <td>56</td>\n",
       "      <td>...</td>\n",
       "      <td>129.895395</td>\n",
       "      <td>555.991147</td>\n",
       "      <td>327.275187</td>\n",
       "      <td>349.970316</td>\n",
       "      <td>159.95595</td>\n",
       "      <td>335.811616</td>\n",
       "      <td>347.499698</td>\n",
       "      <td>211.311867</td>\n",
       "      <td>-184.995845</td>\n",
       "      <td>112.909472</td>\n",
       "    </tr>\n",
       "    <tr>\n",
       "      <th>139</th>\n",
       "      <td>1012817</td>\n",
       "      <td>140</td>\n",
       "      <td>55</td>\n",
       "      <td>1885</td>\n",
       "      <td>151.35</td>\n",
       "      <td>150.35</td>\n",
       "      <td>0</td>\n",
       "      <td>0</td>\n",
       "      <td>647</td>\n",
       "      <td>56</td>\n",
       "      <td>...</td>\n",
       "      <td>129.895395</td>\n",
       "      <td>555.991147</td>\n",
       "      <td>327.275187</td>\n",
       "      <td>349.970316</td>\n",
       "      <td>159.95595</td>\n",
       "      <td>335.811616</td>\n",
       "      <td>347.499698</td>\n",
       "      <td>211.311867</td>\n",
       "      <td>-184.995845</td>\n",
       "      <td>112.909472</td>\n",
       "    </tr>\n",
       "  </tbody>\n",
       "</table>\n",
       "<p>5 rows × 302 columns</p>\n",
       "</div>"
      ],
      "text/plain": [
       "          id  week  center_id  meal_id  checkout_price  base_price  \\\n",
       "135  1017495   136         55     1885          148.44      148.44   \n",
       "136  1235148   137         55     1885          153.29      154.29   \n",
       "137  1417877   138         55     1885          155.23      156.23   \n",
       "138  1449035   139         55     1885          150.35      152.35   \n",
       "139  1012817   140         55     1885          151.35      150.35   \n",
       "\n",
       "     emailer_for_promotion  homepage_featured  city_code  region_code  \\\n",
       "135                      0                  0        647           56   \n",
       "136                      0                  0        647           56   \n",
       "137                      0                  0        647           56   \n",
       "138                      0                  0        647           56   \n",
       "139                      0                  0        647           56   \n",
       "\n",
       "                ...              \\\n",
       "135             ...               \n",
       "136             ...               \n",
       "137             ...               \n",
       "138             ...               \n",
       "139             ...               \n",
       "\n",
       "     mean_of_base_price_groupby_category_cuisine_10_weeks_ago  \\\n",
       "135                                         129.895395          \n",
       "136                                         129.895395          \n",
       "137                                         129.895395          \n",
       "138                                         129.895395          \n",
       "139                                         129.895395          \n",
       "\n",
       "     mean_of_num_orders_groupby_category_cuisine_10_weeks_ago  \\\n",
       "135                                         555.991147          \n",
       "136                                         555.991147          \n",
       "137                                         555.991147          \n",
       "138                                         555.991147          \n",
       "139                                         555.991147          \n",
       "\n",
       "     mean_of_checkout_price_groupby_center_type_op_area_10_weeks_ago  \\\n",
       "135                                         327.275187                 \n",
       "136                                         327.275187                 \n",
       "137                                         327.275187                 \n",
       "138                                         327.275187                 \n",
       "139                                         327.275187                 \n",
       "\n",
       "     mean_of_base_price_groupby_center_type_op_area_10_weeks_ago  \\\n",
       "135                                         349.970316             \n",
       "136                                         349.970316             \n",
       "137                                         349.970316             \n",
       "138                                         349.970316             \n",
       "139                                         349.970316             \n",
       "\n",
       "     mean_of_num_orders_groupby_center_type_op_area_10_weeks_ago  \\\n",
       "135                                          159.95595             \n",
       "136                                          159.95595             \n",
       "137                                          159.95595             \n",
       "138                                          159.95595             \n",
       "139                                          159.95595             \n",
       "\n",
       "     mean_of_checkout_price_groupby_emailer_for_promotion_homepage_featured_10_weeks_ago  \\\n",
       "135                                         335.811616                                     \n",
       "136                                         335.811616                                     \n",
       "137                                         335.811616                                     \n",
       "138                                         335.811616                                     \n",
       "139                                         335.811616                                     \n",
       "\n",
       "     mean_of_base_price_groupby_emailer_for_promotion_homepage_featured_10_weeks_ago  \\\n",
       "135                                         347.499698                                 \n",
       "136                                         347.499698                                 \n",
       "137                                         347.499698                                 \n",
       "138                                         347.499698                                 \n",
       "139                                         347.499698                                 \n",
       "\n",
       "     mean_of_num_orders_groupby_emailer_for_promotion_homepage_featured_10_weeks_ago  \\\n",
       "135                                         211.311867                                 \n",
       "136                                         211.311867                                 \n",
       "137                                         211.311867                                 \n",
       "138                                         211.311867                                 \n",
       "139                                         211.311867                                 \n",
       "\n",
       "     diff_of_center_id_meal_id  diff_of_center_id_category  \n",
       "135                -184.995845                  112.909472  \n",
       "136                -184.995845                  112.909472  \n",
       "137                -184.995845                  112.909472  \n",
       "138                -184.995845                  112.909472  \n",
       "139                -184.995845                  112.909472  \n",
       "\n",
       "[5 rows x 302 columns]"
      ]
     },
     "execution_count": 44,
     "metadata": {},
     "output_type": "execute_result"
    }
   ],
   "source": [
    "valid = train.loc[(train['week'] >= 136)]\n",
    "print(valid.shape)\n",
    "valid.head()"
   ]
  },
  {
   "cell_type": "code",
   "execution_count": 45,
   "metadata": {},
   "outputs": [
    {
     "name": "stdout",
     "output_type": "stream",
     "text": [
      "(423464, 302)\n"
     ]
    },
    {
     "data": {
      "text/html": [
       "<div>\n",
       "<style scoped>\n",
       "    .dataframe tbody tr th:only-of-type {\n",
       "        vertical-align: middle;\n",
       "    }\n",
       "\n",
       "    .dataframe tbody tr th {\n",
       "        vertical-align: top;\n",
       "    }\n",
       "\n",
       "    .dataframe thead th {\n",
       "        text-align: right;\n",
       "    }\n",
       "</style>\n",
       "<table border=\"1\" class=\"dataframe\">\n",
       "  <thead>\n",
       "    <tr style=\"text-align: right;\">\n",
       "      <th></th>\n",
       "      <th>id</th>\n",
       "      <th>week</th>\n",
       "      <th>center_id</th>\n",
       "      <th>meal_id</th>\n",
       "      <th>checkout_price</th>\n",
       "      <th>base_price</th>\n",
       "      <th>emailer_for_promotion</th>\n",
       "      <th>homepage_featured</th>\n",
       "      <th>city_code</th>\n",
       "      <th>region_code</th>\n",
       "      <th>...</th>\n",
       "      <th>mean_of_base_price_groupby_category_cuisine_10_weeks_ago</th>\n",
       "      <th>mean_of_num_orders_groupby_category_cuisine_10_weeks_ago</th>\n",
       "      <th>mean_of_checkout_price_groupby_center_type_op_area_10_weeks_ago</th>\n",
       "      <th>mean_of_base_price_groupby_center_type_op_area_10_weeks_ago</th>\n",
       "      <th>mean_of_num_orders_groupby_center_type_op_area_10_weeks_ago</th>\n",
       "      <th>mean_of_checkout_price_groupby_emailer_for_promotion_homepage_featured_10_weeks_ago</th>\n",
       "      <th>mean_of_base_price_groupby_emailer_for_promotion_homepage_featured_10_weeks_ago</th>\n",
       "      <th>mean_of_num_orders_groupby_emailer_for_promotion_homepage_featured_10_weeks_ago</th>\n",
       "      <th>diff_of_center_id_meal_id</th>\n",
       "      <th>diff_of_center_id_category</th>\n",
       "    </tr>\n",
       "  </thead>\n",
       "  <tbody>\n",
       "    <tr>\n",
       "      <th>456270</th>\n",
       "      <td>1282954</td>\n",
       "      <td>131</td>\n",
       "      <td>61</td>\n",
       "      <td>2104</td>\n",
       "      <td>445.29</td>\n",
       "      <td>630.53</td>\n",
       "      <td>0</td>\n",
       "      <td>1</td>\n",
       "      <td>473</td>\n",
       "      <td>77</td>\n",
       "      <td>...</td>\n",
       "      <td>596.939319</td>\n",
       "      <td>85.595268</td>\n",
       "      <td>333.817906</td>\n",
       "      <td>356.131488</td>\n",
       "      <td>304.857065</td>\n",
       "      <td>335.811616</td>\n",
       "      <td>347.499698</td>\n",
       "      <td>211.311867</td>\n",
       "      <td>246.462492</td>\n",
       "      <td>-239.51903</td>\n",
       "    </tr>\n",
       "    <tr>\n",
       "      <th>456271</th>\n",
       "      <td>1094245</td>\n",
       "      <td>132</td>\n",
       "      <td>61</td>\n",
       "      <td>2104</td>\n",
       "      <td>435.53</td>\n",
       "      <td>630.53</td>\n",
       "      <td>0</td>\n",
       "      <td>1</td>\n",
       "      <td>473</td>\n",
       "      <td>77</td>\n",
       "      <td>...</td>\n",
       "      <td>596.939319</td>\n",
       "      <td>85.595268</td>\n",
       "      <td>333.817906</td>\n",
       "      <td>356.131488</td>\n",
       "      <td>304.857065</td>\n",
       "      <td>335.811616</td>\n",
       "      <td>347.499698</td>\n",
       "      <td>211.311867</td>\n",
       "      <td>246.462492</td>\n",
       "      <td>-239.51903</td>\n",
       "    </tr>\n",
       "    <tr>\n",
       "      <th>456272</th>\n",
       "      <td>1380866</td>\n",
       "      <td>133</td>\n",
       "      <td>61</td>\n",
       "      <td>2104</td>\n",
       "      <td>601.43</td>\n",
       "      <td>630.53</td>\n",
       "      <td>0</td>\n",
       "      <td>1</td>\n",
       "      <td>473</td>\n",
       "      <td>77</td>\n",
       "      <td>...</td>\n",
       "      <td>596.939319</td>\n",
       "      <td>85.595268</td>\n",
       "      <td>333.817906</td>\n",
       "      <td>356.131488</td>\n",
       "      <td>304.857065</td>\n",
       "      <td>335.811616</td>\n",
       "      <td>347.499698</td>\n",
       "      <td>211.311867</td>\n",
       "      <td>246.462492</td>\n",
       "      <td>-239.51903</td>\n",
       "    </tr>\n",
       "    <tr>\n",
       "      <th>456273</th>\n",
       "      <td>1111394</td>\n",
       "      <td>134</td>\n",
       "      <td>61</td>\n",
       "      <td>2104</td>\n",
       "      <td>600.43</td>\n",
       "      <td>631.53</td>\n",
       "      <td>0</td>\n",
       "      <td>1</td>\n",
       "      <td>473</td>\n",
       "      <td>77</td>\n",
       "      <td>...</td>\n",
       "      <td>596.939319</td>\n",
       "      <td>85.595268</td>\n",
       "      <td>333.817906</td>\n",
       "      <td>356.131488</td>\n",
       "      <td>304.857065</td>\n",
       "      <td>335.811616</td>\n",
       "      <td>347.499698</td>\n",
       "      <td>211.311867</td>\n",
       "      <td>246.462492</td>\n",
       "      <td>-239.51903</td>\n",
       "    </tr>\n",
       "    <tr>\n",
       "      <th>456274</th>\n",
       "      <td>1439333</td>\n",
       "      <td>135</td>\n",
       "      <td>61</td>\n",
       "      <td>2104</td>\n",
       "      <td>602.43</td>\n",
       "      <td>631.53</td>\n",
       "      <td>0</td>\n",
       "      <td>1</td>\n",
       "      <td>473</td>\n",
       "      <td>77</td>\n",
       "      <td>...</td>\n",
       "      <td>596.939319</td>\n",
       "      <td>85.595268</td>\n",
       "      <td>333.817906</td>\n",
       "      <td>356.131488</td>\n",
       "      <td>304.857065</td>\n",
       "      <td>335.811616</td>\n",
       "      <td>347.499698</td>\n",
       "      <td>211.311867</td>\n",
       "      <td>246.462492</td>\n",
       "      <td>-239.51903</td>\n",
       "    </tr>\n",
       "  </tbody>\n",
       "</table>\n",
       "<p>5 rows × 302 columns</p>\n",
       "</div>"
      ],
      "text/plain": [
       "             id  week  center_id  meal_id  checkout_price  base_price  \\\n",
       "456270  1282954   131         61     2104          445.29      630.53   \n",
       "456271  1094245   132         61     2104          435.53      630.53   \n",
       "456272  1380866   133         61     2104          601.43      630.53   \n",
       "456273  1111394   134         61     2104          600.43      631.53   \n",
       "456274  1439333   135         61     2104          602.43      631.53   \n",
       "\n",
       "        emailer_for_promotion  homepage_featured  city_code  region_code  \\\n",
       "456270                      0                  1        473           77   \n",
       "456271                      0                  1        473           77   \n",
       "456272                      0                  1        473           77   \n",
       "456273                      0                  1        473           77   \n",
       "456274                      0                  1        473           77   \n",
       "\n",
       "                   ...              \\\n",
       "456270             ...               \n",
       "456271             ...               \n",
       "456272             ...               \n",
       "456273             ...               \n",
       "456274             ...               \n",
       "\n",
       "        mean_of_base_price_groupby_category_cuisine_10_weeks_ago  \\\n",
       "456270                                         596.939319          \n",
       "456271                                         596.939319          \n",
       "456272                                         596.939319          \n",
       "456273                                         596.939319          \n",
       "456274                                         596.939319          \n",
       "\n",
       "        mean_of_num_orders_groupby_category_cuisine_10_weeks_ago  \\\n",
       "456270                                          85.595268          \n",
       "456271                                          85.595268          \n",
       "456272                                          85.595268          \n",
       "456273                                          85.595268          \n",
       "456274                                          85.595268          \n",
       "\n",
       "        mean_of_checkout_price_groupby_center_type_op_area_10_weeks_ago  \\\n",
       "456270                                         333.817906                 \n",
       "456271                                         333.817906                 \n",
       "456272                                         333.817906                 \n",
       "456273                                         333.817906                 \n",
       "456274                                         333.817906                 \n",
       "\n",
       "        mean_of_base_price_groupby_center_type_op_area_10_weeks_ago  \\\n",
       "456270                                         356.131488             \n",
       "456271                                         356.131488             \n",
       "456272                                         356.131488             \n",
       "456273                                         356.131488             \n",
       "456274                                         356.131488             \n",
       "\n",
       "        mean_of_num_orders_groupby_center_type_op_area_10_weeks_ago  \\\n",
       "456270                                         304.857065             \n",
       "456271                                         304.857065             \n",
       "456272                                         304.857065             \n",
       "456273                                         304.857065             \n",
       "456274                                         304.857065             \n",
       "\n",
       "        mean_of_checkout_price_groupby_emailer_for_promotion_homepage_featured_10_weeks_ago  \\\n",
       "456270                                         335.811616                                     \n",
       "456271                                         335.811616                                     \n",
       "456272                                         335.811616                                     \n",
       "456273                                         335.811616                                     \n",
       "456274                                         335.811616                                     \n",
       "\n",
       "        mean_of_base_price_groupby_emailer_for_promotion_homepage_featured_10_weeks_ago  \\\n",
       "456270                                         347.499698                                 \n",
       "456271                                         347.499698                                 \n",
       "456272                                         347.499698                                 \n",
       "456273                                         347.499698                                 \n",
       "456274                                         347.499698                                 \n",
       "\n",
       "        mean_of_num_orders_groupby_emailer_for_promotion_homepage_featured_10_weeks_ago  \\\n",
       "456270                                         211.311867                                 \n",
       "456271                                         211.311867                                 \n",
       "456272                                         211.311867                                 \n",
       "456273                                         211.311867                                 \n",
       "456274                                         211.311867                                 \n",
       "\n",
       "        diff_of_center_id_meal_id  diff_of_center_id_category  \n",
       "456270                 246.462492                  -239.51903  \n",
       "456271                 246.462492                  -239.51903  \n",
       "456272                 246.462492                  -239.51903  \n",
       "456273                 246.462492                  -239.51903  \n",
       "456274                 246.462492                  -239.51903  \n",
       "\n",
       "[5 rows x 302 columns]"
      ]
     },
     "execution_count": 45,
     "metadata": {},
     "output_type": "execute_result"
    }
   ],
   "source": [
    "train = train.loc[(train['week'] < 136)]\n",
    "print(train.shape)\n",
    "train.tail()"
   ]
  },
  {
   "cell_type": "code",
   "execution_count": 46,
   "metadata": {},
   "outputs": [
    {
     "data": {
      "text/html": [
       "<div>\n",
       "<style scoped>\n",
       "    .dataframe tbody tr th:only-of-type {\n",
       "        vertical-align: middle;\n",
       "    }\n",
       "\n",
       "    .dataframe tbody tr th {\n",
       "        vertical-align: top;\n",
       "    }\n",
       "\n",
       "    .dataframe thead th {\n",
       "        text-align: right;\n",
       "    }\n",
       "</style>\n",
       "<table border=\"1\" class=\"dataframe\">\n",
       "  <thead>\n",
       "    <tr style=\"text-align: right;\">\n",
       "      <th></th>\n",
       "      <th>id</th>\n",
       "      <th>week</th>\n",
       "      <th>center_id</th>\n",
       "      <th>meal_id</th>\n",
       "      <th>checkout_price</th>\n",
       "      <th>base_price</th>\n",
       "      <th>emailer_for_promotion</th>\n",
       "      <th>homepage_featured</th>\n",
       "      <th>city_code</th>\n",
       "      <th>region_code</th>\n",
       "      <th>...</th>\n",
       "      <th>mean_of_base_price_groupby_category_cuisine_10_weeks_ago</th>\n",
       "      <th>mean_of_num_orders_groupby_category_cuisine_10_weeks_ago</th>\n",
       "      <th>mean_of_checkout_price_groupby_center_type_op_area_10_weeks_ago</th>\n",
       "      <th>mean_of_base_price_groupby_center_type_op_area_10_weeks_ago</th>\n",
       "      <th>mean_of_num_orders_groupby_center_type_op_area_10_weeks_ago</th>\n",
       "      <th>mean_of_checkout_price_groupby_emailer_for_promotion_homepage_featured_10_weeks_ago</th>\n",
       "      <th>mean_of_base_price_groupby_emailer_for_promotion_homepage_featured_10_weeks_ago</th>\n",
       "      <th>mean_of_num_orders_groupby_emailer_for_promotion_homepage_featured_10_weeks_ago</th>\n",
       "      <th>diff_of_center_id_meal_id</th>\n",
       "      <th>diff_of_center_id_category</th>\n",
       "    </tr>\n",
       "  </thead>\n",
       "  <tbody>\n",
       "    <tr>\n",
       "      <th>32568</th>\n",
       "      <td>1412025</td>\n",
       "      <td>146</td>\n",
       "      <td>61</td>\n",
       "      <td>2104</td>\n",
       "      <td>583.03</td>\n",
       "      <td>581.03</td>\n",
       "      <td>0</td>\n",
       "      <td>0</td>\n",
       "      <td>473</td>\n",
       "      <td>77</td>\n",
       "      <td>...</td>\n",
       "      <td>0.0</td>\n",
       "      <td>0.0</td>\n",
       "      <td>0.0</td>\n",
       "      <td>0.0</td>\n",
       "      <td>0.0</td>\n",
       "      <td>0.0</td>\n",
       "      <td>0.0</td>\n",
       "      <td>0.0</td>\n",
       "      <td>246.462492</td>\n",
       "      <td>-239.51903</td>\n",
       "    </tr>\n",
       "    <tr>\n",
       "      <th>32569</th>\n",
       "      <td>1287019</td>\n",
       "      <td>147</td>\n",
       "      <td>61</td>\n",
       "      <td>2104</td>\n",
       "      <td>582.03</td>\n",
       "      <td>582.03</td>\n",
       "      <td>0</td>\n",
       "      <td>1</td>\n",
       "      <td>473</td>\n",
       "      <td>77</td>\n",
       "      <td>...</td>\n",
       "      <td>0.0</td>\n",
       "      <td>0.0</td>\n",
       "      <td>0.0</td>\n",
       "      <td>0.0</td>\n",
       "      <td>0.0</td>\n",
       "      <td>0.0</td>\n",
       "      <td>0.0</td>\n",
       "      <td>0.0</td>\n",
       "      <td>246.462492</td>\n",
       "      <td>-239.51903</td>\n",
       "    </tr>\n",
       "    <tr>\n",
       "      <th>32570</th>\n",
       "      <td>1396176</td>\n",
       "      <td>149</td>\n",
       "      <td>61</td>\n",
       "      <td>2104</td>\n",
       "      <td>629.53</td>\n",
       "      <td>629.53</td>\n",
       "      <td>0</td>\n",
       "      <td>0</td>\n",
       "      <td>473</td>\n",
       "      <td>77</td>\n",
       "      <td>...</td>\n",
       "      <td>0.0</td>\n",
       "      <td>0.0</td>\n",
       "      <td>0.0</td>\n",
       "      <td>0.0</td>\n",
       "      <td>0.0</td>\n",
       "      <td>0.0</td>\n",
       "      <td>0.0</td>\n",
       "      <td>0.0</td>\n",
       "      <td>246.462492</td>\n",
       "      <td>-239.51903</td>\n",
       "    </tr>\n",
       "    <tr>\n",
       "      <th>32571</th>\n",
       "      <td>1331977</td>\n",
       "      <td>150</td>\n",
       "      <td>61</td>\n",
       "      <td>2104</td>\n",
       "      <td>629.53</td>\n",
       "      <td>629.53</td>\n",
       "      <td>0</td>\n",
       "      <td>0</td>\n",
       "      <td>473</td>\n",
       "      <td>77</td>\n",
       "      <td>...</td>\n",
       "      <td>0.0</td>\n",
       "      <td>0.0</td>\n",
       "      <td>0.0</td>\n",
       "      <td>0.0</td>\n",
       "      <td>0.0</td>\n",
       "      <td>0.0</td>\n",
       "      <td>0.0</td>\n",
       "      <td>0.0</td>\n",
       "      <td>246.462492</td>\n",
       "      <td>-239.51903</td>\n",
       "    </tr>\n",
       "    <tr>\n",
       "      <th>32572</th>\n",
       "      <td>1017414</td>\n",
       "      <td>152</td>\n",
       "      <td>61</td>\n",
       "      <td>2104</td>\n",
       "      <td>630.53</td>\n",
       "      <td>631.53</td>\n",
       "      <td>0</td>\n",
       "      <td>0</td>\n",
       "      <td>473</td>\n",
       "      <td>77</td>\n",
       "      <td>...</td>\n",
       "      <td>0.0</td>\n",
       "      <td>0.0</td>\n",
       "      <td>0.0</td>\n",
       "      <td>0.0</td>\n",
       "      <td>0.0</td>\n",
       "      <td>0.0</td>\n",
       "      <td>0.0</td>\n",
       "      <td>0.0</td>\n",
       "      <td>246.462492</td>\n",
       "      <td>-239.51903</td>\n",
       "    </tr>\n",
       "  </tbody>\n",
       "</table>\n",
       "<p>5 rows × 302 columns</p>\n",
       "</div>"
      ],
      "text/plain": [
       "            id  week  center_id  meal_id  checkout_price  base_price  \\\n",
       "32568  1412025   146         61     2104          583.03      581.03   \n",
       "32569  1287019   147         61     2104          582.03      582.03   \n",
       "32570  1396176   149         61     2104          629.53      629.53   \n",
       "32571  1331977   150         61     2104          629.53      629.53   \n",
       "32572  1017414   152         61     2104          630.53      631.53   \n",
       "\n",
       "       emailer_for_promotion  homepage_featured  city_code  region_code  \\\n",
       "32568                      0                  0        473           77   \n",
       "32569                      0                  1        473           77   \n",
       "32570                      0                  0        473           77   \n",
       "32571                      0                  0        473           77   \n",
       "32572                      0                  0        473           77   \n",
       "\n",
       "                  ...              \\\n",
       "32568             ...               \n",
       "32569             ...               \n",
       "32570             ...               \n",
       "32571             ...               \n",
       "32572             ...               \n",
       "\n",
       "       mean_of_base_price_groupby_category_cuisine_10_weeks_ago  \\\n",
       "32568                                                0.0          \n",
       "32569                                                0.0          \n",
       "32570                                                0.0          \n",
       "32571                                                0.0          \n",
       "32572                                                0.0          \n",
       "\n",
       "       mean_of_num_orders_groupby_category_cuisine_10_weeks_ago  \\\n",
       "32568                                                0.0          \n",
       "32569                                                0.0          \n",
       "32570                                                0.0          \n",
       "32571                                                0.0          \n",
       "32572                                                0.0          \n",
       "\n",
       "       mean_of_checkout_price_groupby_center_type_op_area_10_weeks_ago  \\\n",
       "32568                                                0.0                 \n",
       "32569                                                0.0                 \n",
       "32570                                                0.0                 \n",
       "32571                                                0.0                 \n",
       "32572                                                0.0                 \n",
       "\n",
       "       mean_of_base_price_groupby_center_type_op_area_10_weeks_ago  \\\n",
       "32568                                                0.0             \n",
       "32569                                                0.0             \n",
       "32570                                                0.0             \n",
       "32571                                                0.0             \n",
       "32572                                                0.0             \n",
       "\n",
       "       mean_of_num_orders_groupby_center_type_op_area_10_weeks_ago  \\\n",
       "32568                                                0.0             \n",
       "32569                                                0.0             \n",
       "32570                                                0.0             \n",
       "32571                                                0.0             \n",
       "32572                                                0.0             \n",
       "\n",
       "       mean_of_checkout_price_groupby_emailer_for_promotion_homepage_featured_10_weeks_ago  \\\n",
       "32568                                                0.0                                     \n",
       "32569                                                0.0                                     \n",
       "32570                                                0.0                                     \n",
       "32571                                                0.0                                     \n",
       "32572                                                0.0                                     \n",
       "\n",
       "       mean_of_base_price_groupby_emailer_for_promotion_homepage_featured_10_weeks_ago  \\\n",
       "32568                                                0.0                                 \n",
       "32569                                                0.0                                 \n",
       "32570                                                0.0                                 \n",
       "32571                                                0.0                                 \n",
       "32572                                                0.0                                 \n",
       "\n",
       "       mean_of_num_orders_groupby_emailer_for_promotion_homepage_featured_10_weeks_ago  \\\n",
       "32568                                                0.0                                 \n",
       "32569                                                0.0                                 \n",
       "32570                                                0.0                                 \n",
       "32571                                                0.0                                 \n",
       "32572                                                0.0                                 \n",
       "\n",
       "       diff_of_center_id_meal_id  diff_of_center_id_category  \n",
       "32568                 246.462492                  -239.51903  \n",
       "32569                 246.462492                  -239.51903  \n",
       "32570                 246.462492                  -239.51903  \n",
       "32571                 246.462492                  -239.51903  \n",
       "32572                 246.462492                  -239.51903  \n",
       "\n",
       "[5 rows x 302 columns]"
      ]
     },
     "execution_count": 46,
     "metadata": {},
     "output_type": "execute_result"
    }
   ],
   "source": [
    "test.tail()"
   ]
  },
  {
   "cell_type": "markdown",
   "metadata": {},
   "source": [
    "### Select the required columns"
   ]
  },
  {
   "cell_type": "code",
   "execution_count": 47,
   "metadata": {},
   "outputs": [
    {
     "data": {
      "text/plain": [
       "['emailer_for_promotion',\n",
       " 'homepage_featured',\n",
       " 'city_code',\n",
       " 'region_code',\n",
       " 'center_type',\n",
       " 'op_area',\n",
       " 'category',\n",
       " 'cuisine',\n",
       " 'mean_of_checkout_price_groupby_center_id',\n",
       " 'mean_of_base_price_groupby_center_id',\n",
       " 'mean_of_num_orders_groupby_center_id',\n",
       " 'mean_of_checkout_price_groupby_meal_id',\n",
       " 'mean_of_base_price_groupby_meal_id',\n",
       " 'mean_of_num_orders_groupby_meal_id',\n",
       " 'mean_of_checkout_price_groupby_emailer_for_promotion',\n",
       " 'mean_of_base_price_groupby_emailer_for_promotion',\n",
       " 'mean_of_num_orders_groupby_emailer_for_promotion',\n",
       " 'mean_of_checkout_price_groupby_homepage_featured',\n",
       " 'mean_of_base_price_groupby_homepage_featured',\n",
       " 'mean_of_num_orders_groupby_homepage_featured',\n",
       " 'mean_of_checkout_price_groupby_city_code',\n",
       " 'mean_of_base_price_groupby_city_code',\n",
       " 'mean_of_num_orders_groupby_city_code',\n",
       " 'mean_of_checkout_price_groupby_region_code',\n",
       " 'mean_of_base_price_groupby_region_code',\n",
       " 'mean_of_num_orders_groupby_region_code',\n",
       " 'mean_of_checkout_price_groupby_center_type',\n",
       " 'mean_of_base_price_groupby_center_type',\n",
       " 'mean_of_num_orders_groupby_center_type',\n",
       " 'mean_of_checkout_price_groupby_op_area',\n",
       " 'mean_of_base_price_groupby_op_area',\n",
       " 'mean_of_num_orders_groupby_op_area',\n",
       " 'mean_of_checkout_price_groupby_category',\n",
       " 'mean_of_base_price_groupby_category',\n",
       " 'mean_of_num_orders_groupby_category',\n",
       " 'mean_of_checkout_price_groupby_cuisine',\n",
       " 'mean_of_base_price_groupby_cuisine',\n",
       " 'mean_of_num_orders_groupby_cuisine',\n",
       " 'mean_of_checkout_price_groupby_center_id_meal_id',\n",
       " 'mean_of_base_price_groupby_center_id_meal_id',\n",
       " 'mean_of_num_orders_groupby_center_id_meal_id',\n",
       " 'mean_of_checkout_price_groupby_city_code_region_code',\n",
       " 'mean_of_base_price_groupby_city_code_region_code',\n",
       " 'mean_of_num_orders_groupby_city_code_region_code',\n",
       " 'mean_of_checkout_price_groupby_category_cuisine',\n",
       " 'mean_of_base_price_groupby_category_cuisine',\n",
       " 'mean_of_num_orders_groupby_category_cuisine',\n",
       " 'mean_of_checkout_price_groupby_center_type_op_area',\n",
       " 'mean_of_base_price_groupby_center_type_op_area',\n",
       " 'mean_of_num_orders_groupby_center_type_op_area',\n",
       " 'mean_of_checkout_price_groupby_emailer_for_promotion_homepage_featured',\n",
       " 'mean_of_base_price_groupby_emailer_for_promotion_homepage_featured',\n",
       " 'mean_of_num_orders_groupby_emailer_for_promotion_homepage_featured',\n",
       " 'checkout_price_1_week_ago',\n",
       " 'base_price_1_week_ago',\n",
       " 'num_orders_1_week_ago',\n",
       " 'mean_of_checkout_price_groupby_center_id_1_week_ago',\n",
       " 'mean_of_base_price_groupby_center_id_1_week_ago',\n",
       " 'mean_of_num_orders_groupby_center_id_1_week_ago',\n",
       " 'mean_of_checkout_price_groupby_meal_id_1_week_ago',\n",
       " 'mean_of_base_price_groupby_meal_id_1_week_ago',\n",
       " 'mean_of_num_orders_groupby_meal_id_1_week_ago',\n",
       " 'mean_of_checkout_price_groupby_emailer_for_promotion_1_week_ago',\n",
       " 'mean_of_base_price_groupby_emailer_for_promotion_1_week_ago',\n",
       " 'mean_of_num_orders_groupby_emailer_for_promotion_1_week_ago',\n",
       " 'mean_of_checkout_price_groupby_homepage_featured_1_week_ago',\n",
       " 'mean_of_base_price_groupby_homepage_featured_1_week_ago',\n",
       " 'mean_of_num_orders_groupby_homepage_featured_1_week_ago',\n",
       " 'mean_of_checkout_price_groupby_city_code_1_week_ago',\n",
       " 'mean_of_base_price_groupby_city_code_1_week_ago',\n",
       " 'mean_of_num_orders_groupby_city_code_1_week_ago',\n",
       " 'mean_of_checkout_price_groupby_region_code_1_week_ago',\n",
       " 'mean_of_base_price_groupby_region_code_1_week_ago',\n",
       " 'mean_of_num_orders_groupby_region_code_1_week_ago',\n",
       " 'mean_of_checkout_price_groupby_center_type_1_week_ago',\n",
       " 'mean_of_base_price_groupby_center_type_1_week_ago',\n",
       " 'mean_of_num_orders_groupby_center_type_1_week_ago',\n",
       " 'mean_of_checkout_price_groupby_op_area_1_week_ago',\n",
       " 'mean_of_base_price_groupby_op_area_1_week_ago',\n",
       " 'mean_of_num_orders_groupby_op_area_1_week_ago',\n",
       " 'mean_of_checkout_price_groupby_category_1_week_ago',\n",
       " 'mean_of_base_price_groupby_category_1_week_ago',\n",
       " 'mean_of_num_orders_groupby_category_1_week_ago',\n",
       " 'mean_of_checkout_price_groupby_cuisine_1_week_ago',\n",
       " 'mean_of_base_price_groupby_cuisine_1_week_ago',\n",
       " 'mean_of_num_orders_groupby_cuisine_1_week_ago',\n",
       " 'mean_of_checkout_price_groupby_center_id_meal_id_1_week_ago',\n",
       " 'mean_of_base_price_groupby_center_id_meal_id_1_week_ago',\n",
       " 'mean_of_num_orders_groupby_center_id_meal_id_1_week_ago',\n",
       " 'mean_of_checkout_price_groupby_city_code_region_code_1_week_ago',\n",
       " 'mean_of_base_price_groupby_city_code_region_code_1_week_ago',\n",
       " 'mean_of_num_orders_groupby_city_code_region_code_1_week_ago',\n",
       " 'mean_of_checkout_price_groupby_category_cuisine_1_week_ago',\n",
       " 'mean_of_base_price_groupby_category_cuisine_1_week_ago',\n",
       " 'mean_of_num_orders_groupby_category_cuisine_1_week_ago',\n",
       " 'mean_of_checkout_price_groupby_center_type_op_area_1_week_ago',\n",
       " 'mean_of_base_price_groupby_center_type_op_area_1_week_ago',\n",
       " 'mean_of_num_orders_groupby_center_type_op_area_1_week_ago',\n",
       " 'mean_of_checkout_price_groupby_emailer_for_promotion_homepage_featured_1_week_ago',\n",
       " 'mean_of_base_price_groupby_emailer_for_promotion_homepage_featured_1_week_ago',\n",
       " 'mean_of_num_orders_groupby_emailer_for_promotion_homepage_featured_1_week_ago',\n",
       " 'checkout_price_2_weeks_ago',\n",
       " 'base_price_2_weeks_ago',\n",
       " 'num_orders_2_weeks_ago',\n",
       " 'mean_of_checkout_price_groupby_center_id_2_weeks_ago',\n",
       " 'mean_of_base_price_groupby_center_id_2_weeks_ago',\n",
       " 'mean_of_num_orders_groupby_center_id_2_weeks_ago',\n",
       " 'mean_of_checkout_price_groupby_meal_id_2_weeks_ago',\n",
       " 'mean_of_base_price_groupby_meal_id_2_weeks_ago',\n",
       " 'mean_of_num_orders_groupby_meal_id_2_weeks_ago',\n",
       " 'mean_of_checkout_price_groupby_emailer_for_promotion_2_weeks_ago',\n",
       " 'mean_of_base_price_groupby_emailer_for_promotion_2_weeks_ago',\n",
       " 'mean_of_num_orders_groupby_emailer_for_promotion_2_weeks_ago',\n",
       " 'mean_of_checkout_price_groupby_homepage_featured_2_weeks_ago',\n",
       " 'mean_of_base_price_groupby_homepage_featured_2_weeks_ago',\n",
       " 'mean_of_num_orders_groupby_homepage_featured_2_weeks_ago',\n",
       " 'mean_of_checkout_price_groupby_city_code_2_weeks_ago',\n",
       " 'mean_of_base_price_groupby_city_code_2_weeks_ago',\n",
       " 'mean_of_num_orders_groupby_city_code_2_weeks_ago',\n",
       " 'mean_of_checkout_price_groupby_region_code_2_weeks_ago',\n",
       " 'mean_of_base_price_groupby_region_code_2_weeks_ago',\n",
       " 'mean_of_num_orders_groupby_region_code_2_weeks_ago',\n",
       " 'mean_of_checkout_price_groupby_center_type_2_weeks_ago',\n",
       " 'mean_of_base_price_groupby_center_type_2_weeks_ago',\n",
       " 'mean_of_num_orders_groupby_center_type_2_weeks_ago',\n",
       " 'mean_of_checkout_price_groupby_op_area_2_weeks_ago',\n",
       " 'mean_of_base_price_groupby_op_area_2_weeks_ago',\n",
       " 'mean_of_num_orders_groupby_op_area_2_weeks_ago',\n",
       " 'mean_of_checkout_price_groupby_category_2_weeks_ago',\n",
       " 'mean_of_base_price_groupby_category_2_weeks_ago',\n",
       " 'mean_of_num_orders_groupby_category_2_weeks_ago',\n",
       " 'mean_of_checkout_price_groupby_cuisine_2_weeks_ago',\n",
       " 'mean_of_base_price_groupby_cuisine_2_weeks_ago',\n",
       " 'mean_of_num_orders_groupby_cuisine_2_weeks_ago',\n",
       " 'mean_of_checkout_price_groupby_center_id_meal_id_2_weeks_ago',\n",
       " 'mean_of_base_price_groupby_center_id_meal_id_2_weeks_ago',\n",
       " 'mean_of_num_orders_groupby_center_id_meal_id_2_weeks_ago',\n",
       " 'mean_of_checkout_price_groupby_city_code_region_code_2_weeks_ago',\n",
       " 'mean_of_base_price_groupby_city_code_region_code_2_weeks_ago',\n",
       " 'mean_of_num_orders_groupby_city_code_region_code_2_weeks_ago',\n",
       " 'mean_of_checkout_price_groupby_category_cuisine_2_weeks_ago',\n",
       " 'mean_of_base_price_groupby_category_cuisine_2_weeks_ago',\n",
       " 'mean_of_num_orders_groupby_category_cuisine_2_weeks_ago',\n",
       " 'mean_of_checkout_price_groupby_center_type_op_area_2_weeks_ago',\n",
       " 'mean_of_base_price_groupby_center_type_op_area_2_weeks_ago',\n",
       " 'mean_of_num_orders_groupby_center_type_op_area_2_weeks_ago',\n",
       " 'mean_of_checkout_price_groupby_emailer_for_promotion_homepage_featured_2_weeks_ago',\n",
       " 'mean_of_base_price_groupby_emailer_for_promotion_homepage_featured_2_weeks_ago',\n",
       " 'mean_of_num_orders_groupby_emailer_for_promotion_homepage_featured_2_weeks_ago',\n",
       " 'checkout_price_3_weeks_ago',\n",
       " 'base_price_3_weeks_ago',\n",
       " 'num_orders_3_weeks_ago',\n",
       " 'mean_of_checkout_price_groupby_center_id_3_weeks_ago',\n",
       " 'mean_of_base_price_groupby_center_id_3_weeks_ago',\n",
       " 'mean_of_num_orders_groupby_center_id_3_weeks_ago',\n",
       " 'mean_of_checkout_price_groupby_meal_id_3_weeks_ago',\n",
       " 'mean_of_base_price_groupby_meal_id_3_weeks_ago',\n",
       " 'mean_of_num_orders_groupby_meal_id_3_weeks_ago',\n",
       " 'mean_of_checkout_price_groupby_emailer_for_promotion_3_weeks_ago',\n",
       " 'mean_of_base_price_groupby_emailer_for_promotion_3_weeks_ago',\n",
       " 'mean_of_num_orders_groupby_emailer_for_promotion_3_weeks_ago',\n",
       " 'mean_of_checkout_price_groupby_homepage_featured_3_weeks_ago',\n",
       " 'mean_of_base_price_groupby_homepage_featured_3_weeks_ago',\n",
       " 'mean_of_num_orders_groupby_homepage_featured_3_weeks_ago',\n",
       " 'mean_of_checkout_price_groupby_city_code_3_weeks_ago',\n",
       " 'mean_of_base_price_groupby_city_code_3_weeks_ago',\n",
       " 'mean_of_num_orders_groupby_city_code_3_weeks_ago',\n",
       " 'mean_of_checkout_price_groupby_region_code_3_weeks_ago',\n",
       " 'mean_of_base_price_groupby_region_code_3_weeks_ago',\n",
       " 'mean_of_num_orders_groupby_region_code_3_weeks_ago',\n",
       " 'mean_of_checkout_price_groupby_center_type_3_weeks_ago',\n",
       " 'mean_of_base_price_groupby_center_type_3_weeks_ago',\n",
       " 'mean_of_num_orders_groupby_center_type_3_weeks_ago',\n",
       " 'mean_of_checkout_price_groupby_op_area_3_weeks_ago',\n",
       " 'mean_of_base_price_groupby_op_area_3_weeks_ago',\n",
       " 'mean_of_num_orders_groupby_op_area_3_weeks_ago',\n",
       " 'mean_of_checkout_price_groupby_category_3_weeks_ago',\n",
       " 'mean_of_base_price_groupby_category_3_weeks_ago',\n",
       " 'mean_of_num_orders_groupby_category_3_weeks_ago',\n",
       " 'mean_of_checkout_price_groupby_cuisine_3_weeks_ago',\n",
       " 'mean_of_base_price_groupby_cuisine_3_weeks_ago',\n",
       " 'mean_of_num_orders_groupby_cuisine_3_weeks_ago',\n",
       " 'mean_of_checkout_price_groupby_center_id_meal_id_3_weeks_ago',\n",
       " 'mean_of_base_price_groupby_center_id_meal_id_3_weeks_ago',\n",
       " 'mean_of_num_orders_groupby_center_id_meal_id_3_weeks_ago',\n",
       " 'mean_of_checkout_price_groupby_city_code_region_code_3_weeks_ago',\n",
       " 'mean_of_base_price_groupby_city_code_region_code_3_weeks_ago',\n",
       " 'mean_of_num_orders_groupby_city_code_region_code_3_weeks_ago',\n",
       " 'mean_of_checkout_price_groupby_category_cuisine_3_weeks_ago',\n",
       " 'mean_of_base_price_groupby_category_cuisine_3_weeks_ago',\n",
       " 'mean_of_num_orders_groupby_category_cuisine_3_weeks_ago',\n",
       " 'mean_of_checkout_price_groupby_center_type_op_area_3_weeks_ago',\n",
       " 'mean_of_base_price_groupby_center_type_op_area_3_weeks_ago',\n",
       " 'mean_of_num_orders_groupby_center_type_op_area_3_weeks_ago',\n",
       " 'mean_of_checkout_price_groupby_emailer_for_promotion_homepage_featured_3_weeks_ago',\n",
       " 'mean_of_base_price_groupby_emailer_for_promotion_homepage_featured_3_weeks_ago',\n",
       " 'mean_of_num_orders_groupby_emailer_for_promotion_homepage_featured_3_weeks_ago',\n",
       " 'checkout_price_6_weeks_ago',\n",
       " 'base_price_6_weeks_ago',\n",
       " 'num_orders_6_weeks_ago',\n",
       " 'mean_of_checkout_price_groupby_center_id_6_weeks_ago',\n",
       " 'mean_of_base_price_groupby_center_id_6_weeks_ago',\n",
       " 'mean_of_num_orders_groupby_center_id_6_weeks_ago',\n",
       " 'mean_of_checkout_price_groupby_meal_id_6_weeks_ago',\n",
       " 'mean_of_base_price_groupby_meal_id_6_weeks_ago',\n",
       " 'mean_of_num_orders_groupby_meal_id_6_weeks_ago',\n",
       " 'mean_of_checkout_price_groupby_emailer_for_promotion_6_weeks_ago',\n",
       " 'mean_of_base_price_groupby_emailer_for_promotion_6_weeks_ago',\n",
       " 'mean_of_num_orders_groupby_emailer_for_promotion_6_weeks_ago',\n",
       " 'mean_of_checkout_price_groupby_homepage_featured_6_weeks_ago',\n",
       " 'mean_of_base_price_groupby_homepage_featured_6_weeks_ago',\n",
       " 'mean_of_num_orders_groupby_homepage_featured_6_weeks_ago',\n",
       " 'mean_of_checkout_price_groupby_city_code_6_weeks_ago',\n",
       " 'mean_of_base_price_groupby_city_code_6_weeks_ago',\n",
       " 'mean_of_num_orders_groupby_city_code_6_weeks_ago',\n",
       " 'mean_of_checkout_price_groupby_region_code_6_weeks_ago',\n",
       " 'mean_of_base_price_groupby_region_code_6_weeks_ago',\n",
       " 'mean_of_num_orders_groupby_region_code_6_weeks_ago',\n",
       " 'mean_of_checkout_price_groupby_center_type_6_weeks_ago',\n",
       " 'mean_of_base_price_groupby_center_type_6_weeks_ago',\n",
       " 'mean_of_num_orders_groupby_center_type_6_weeks_ago',\n",
       " 'mean_of_checkout_price_groupby_op_area_6_weeks_ago',\n",
       " 'mean_of_base_price_groupby_op_area_6_weeks_ago',\n",
       " 'mean_of_num_orders_groupby_op_area_6_weeks_ago',\n",
       " 'mean_of_checkout_price_groupby_category_6_weeks_ago',\n",
       " 'mean_of_base_price_groupby_category_6_weeks_ago',\n",
       " 'mean_of_num_orders_groupby_category_6_weeks_ago',\n",
       " 'mean_of_checkout_price_groupby_cuisine_6_weeks_ago',\n",
       " 'mean_of_base_price_groupby_cuisine_6_weeks_ago',\n",
       " 'mean_of_num_orders_groupby_cuisine_6_weeks_ago',\n",
       " 'mean_of_checkout_price_groupby_center_id_meal_id_6_weeks_ago',\n",
       " 'mean_of_base_price_groupby_center_id_meal_id_6_weeks_ago',\n",
       " 'mean_of_num_orders_groupby_center_id_meal_id_6_weeks_ago',\n",
       " 'mean_of_checkout_price_groupby_city_code_region_code_6_weeks_ago',\n",
       " 'mean_of_base_price_groupby_city_code_region_code_6_weeks_ago',\n",
       " 'mean_of_num_orders_groupby_city_code_region_code_6_weeks_ago',\n",
       " 'mean_of_checkout_price_groupby_category_cuisine_6_weeks_ago',\n",
       " 'mean_of_base_price_groupby_category_cuisine_6_weeks_ago',\n",
       " 'mean_of_num_orders_groupby_category_cuisine_6_weeks_ago',\n",
       " 'mean_of_checkout_price_groupby_center_type_op_area_6_weeks_ago',\n",
       " 'mean_of_base_price_groupby_center_type_op_area_6_weeks_ago',\n",
       " 'mean_of_num_orders_groupby_center_type_op_area_6_weeks_ago',\n",
       " 'mean_of_checkout_price_groupby_emailer_for_promotion_homepage_featured_6_weeks_ago',\n",
       " 'mean_of_base_price_groupby_emailer_for_promotion_homepage_featured_6_weeks_ago',\n",
       " 'mean_of_num_orders_groupby_emailer_for_promotion_homepage_featured_6_weeks_ago',\n",
       " 'checkout_price_10_weeks_ago',\n",
       " 'base_price_10_weeks_ago',\n",
       " 'num_orders_10_weeks_ago',\n",
       " 'mean_of_checkout_price_groupby_center_id_10_weeks_ago',\n",
       " 'mean_of_base_price_groupby_center_id_10_weeks_ago',\n",
       " 'mean_of_num_orders_groupby_center_id_10_weeks_ago',\n",
       " 'mean_of_checkout_price_groupby_meal_id_10_weeks_ago',\n",
       " 'mean_of_base_price_groupby_meal_id_10_weeks_ago',\n",
       " 'mean_of_num_orders_groupby_meal_id_10_weeks_ago',\n",
       " 'mean_of_checkout_price_groupby_emailer_for_promotion_10_weeks_ago',\n",
       " 'mean_of_base_price_groupby_emailer_for_promotion_10_weeks_ago',\n",
       " 'mean_of_num_orders_groupby_emailer_for_promotion_10_weeks_ago',\n",
       " 'mean_of_checkout_price_groupby_homepage_featured_10_weeks_ago',\n",
       " 'mean_of_base_price_groupby_homepage_featured_10_weeks_ago',\n",
       " 'mean_of_num_orders_groupby_homepage_featured_10_weeks_ago',\n",
       " 'mean_of_checkout_price_groupby_city_code_10_weeks_ago',\n",
       " 'mean_of_base_price_groupby_city_code_10_weeks_ago',\n",
       " 'mean_of_num_orders_groupby_city_code_10_weeks_ago',\n",
       " 'mean_of_checkout_price_groupby_region_code_10_weeks_ago',\n",
       " 'mean_of_base_price_groupby_region_code_10_weeks_ago',\n",
       " 'mean_of_num_orders_groupby_region_code_10_weeks_ago',\n",
       " 'mean_of_checkout_price_groupby_center_type_10_weeks_ago',\n",
       " 'mean_of_base_price_groupby_center_type_10_weeks_ago',\n",
       " 'mean_of_num_orders_groupby_center_type_10_weeks_ago',\n",
       " 'mean_of_checkout_price_groupby_op_area_10_weeks_ago',\n",
       " 'mean_of_base_price_groupby_op_area_10_weeks_ago',\n",
       " 'mean_of_num_orders_groupby_op_area_10_weeks_ago',\n",
       " 'mean_of_checkout_price_groupby_category_10_weeks_ago',\n",
       " 'mean_of_base_price_groupby_category_10_weeks_ago',\n",
       " 'mean_of_num_orders_groupby_category_10_weeks_ago',\n",
       " 'mean_of_checkout_price_groupby_cuisine_10_weeks_ago',\n",
       " 'mean_of_base_price_groupby_cuisine_10_weeks_ago',\n",
       " 'mean_of_num_orders_groupby_cuisine_10_weeks_ago',\n",
       " 'mean_of_checkout_price_groupby_center_id_meal_id_10_weeks_ago',\n",
       " 'mean_of_base_price_groupby_center_id_meal_id_10_weeks_ago',\n",
       " 'mean_of_num_orders_groupby_center_id_meal_id_10_weeks_ago',\n",
       " 'mean_of_checkout_price_groupby_city_code_region_code_10_weeks_ago',\n",
       " 'mean_of_base_price_groupby_city_code_region_code_10_weeks_ago',\n",
       " 'mean_of_num_orders_groupby_city_code_region_code_10_weeks_ago',\n",
       " 'mean_of_checkout_price_groupby_category_cuisine_10_weeks_ago',\n",
       " 'mean_of_base_price_groupby_category_cuisine_10_weeks_ago',\n",
       " 'mean_of_num_orders_groupby_category_cuisine_10_weeks_ago',\n",
       " 'mean_of_checkout_price_groupby_center_type_op_area_10_weeks_ago',\n",
       " 'mean_of_base_price_groupby_center_type_op_area_10_weeks_ago',\n",
       " 'mean_of_num_orders_groupby_center_type_op_area_10_weeks_ago',\n",
       " 'mean_of_checkout_price_groupby_emailer_for_promotion_homepage_featured_10_weeks_ago',\n",
       " 'mean_of_base_price_groupby_emailer_for_promotion_homepage_featured_10_weeks_ago',\n",
       " 'mean_of_num_orders_groupby_emailer_for_promotion_homepage_featured_10_weeks_ago',\n",
       " 'diff_of_center_id_meal_id',\n",
       " 'diff_of_center_id_category']"
      ]
     },
     "execution_count": 47,
     "metadata": {},
     "output_type": "execute_result"
    }
   ],
   "source": [
    "features = list(train.columns[6:])\n",
    "features.remove('num_orders')\n",
    "features"
   ]
  },
  {
   "cell_type": "markdown",
   "metadata": {},
   "source": [
    "### Prepare the dataset for model building"
   ]
  },
  {
   "cell_type": "code",
   "execution_count": 48,
   "metadata": {},
   "outputs": [],
   "source": [
    "X_train = train[features]\n",
    "Y_train = train['num_orders']\n",
    "\n",
    "X_valid = valid[features]\n",
    "Y_valid = valid['num_orders']\n",
    "\n",
    "X_test = test[features]"
   ]
  },
  {
   "cell_type": "code",
   "execution_count": 49,
   "metadata": {},
   "outputs": [
    {
     "name": "stdout",
     "output_type": "stream",
     "text": [
      "(423464, 295) (423464,)\n",
      "(32821, 295) (32821,)\n",
      "(32573, 295)\n"
     ]
    }
   ],
   "source": [
    "print(X_train.shape, Y_train.shape)\n",
    "print(X_valid.shape, Y_valid.shape)\n",
    "print(X_test.shape)"
   ]
  },
  {
   "cell_type": "code",
   "execution_count": 50,
   "metadata": {},
   "outputs": [
    {
     "name": "stdout",
     "output_type": "stream",
     "text": [
      "13.0 4994.0\n",
      "13.0 3631.0\n"
     ]
    }
   ],
   "source": [
    "print(Y_train.min(), Y_train.max())\n",
    "print(Y_valid.min(), Y_valid.max())"
   ]
  },
  {
   "cell_type": "markdown",
   "metadata": {},
   "source": [
    "### Let's clip the target values to 2500 as most of the data fall within this category"
   ]
  },
  {
   "cell_type": "code",
   "execution_count": 51,
   "metadata": {},
   "outputs": [],
   "source": [
    "Y_train = np.clip(Y_train, 0, 2500)\n",
    "Y_valid = np.clip(Y_valid, 0, 2500)"
   ]
  },
  {
   "cell_type": "markdown",
   "metadata": {},
   "source": [
    "## Feature Selection"
   ]
  },
  {
   "cell_type": "code",
   "execution_count": 52,
   "metadata": {},
   "outputs": [
    {
     "data": {
      "text/plain": [
       "XGBRegressor(base_score=0.5, booster='gbtree', colsample_bylevel=1,\n",
       "       colsample_bytree=1, gamma=0, learning_rate=0.1, max_delta_step=0,\n",
       "       max_depth=3, min_child_weight=1, missing=None, n_estimators=100,\n",
       "       n_jobs=-1, nthread=None, objective='reg:linear', random_state=0,\n",
       "       reg_alpha=0, reg_lambda=1, scale_pos_weight=1, seed=None,\n",
       "       silent=True, subsample=1)"
      ]
     },
     "execution_count": 52,
     "metadata": {},
     "output_type": "execute_result"
    }
   ],
   "source": [
    "model = XGBRegressor( n_jobs=-1 )\n",
    "model.fit(X[features], Y)"
   ]
  },
  {
   "cell_type": "code",
   "execution_count": 53,
   "metadata": {},
   "outputs": [
    {
     "data": {
      "text/plain": [
       "<matplotlib.axes._subplots.AxesSubplot at 0x1a4010d6d30>"
      ]
     },
     "execution_count": 53,
     "metadata": {},
     "output_type": "execute_result"
    },
    {
     "data": {
      "image/png": "[encoded data removed]",
      "text/plain": [
       "<Figure size 1296x864 with 1 Axes>"
      ]
     },
     "metadata": {
      "needs_background": "light"
     },
     "output_type": "display_data"
    }
   ],
   "source": [
    "# plot the chart with top 40 important features\n",
    "(pd.Series(model.feature_importances_, index=features)\n",
    "   .nlargest(40)\n",
    "   .plot(kind='barh', figsize=(18,12))) "
   ]
  },
  {
   "cell_type": "code",
   "execution_count": 54,
   "metadata": {
    "scrolled": true
   },
   "outputs": [
    {
     "data": {
      "text/plain": [
       "['num_orders_1_week_ago',\n",
       " 'mean_of_num_orders_groupby_center_id_meal_id',\n",
       " 'mean_of_num_orders_groupby_emailer_for_promotion_homepage_featured',\n",
       " 'emailer_for_promotion',\n",
       " 'mean_of_checkout_price_groupby_emailer_for_promotion_homepage_featured',\n",
       " 'num_orders_2_weeks_ago',\n",
       " 'checkout_price_1_week_ago',\n",
       " 'num_orders_3_weeks_ago',\n",
       " 'mean_of_num_orders_groupby_emailer_for_promotion_homepage_featured_1_week_ago',\n",
       " 'mean_of_num_orders_groupby_category_3_weeks_ago',\n",
       " 'checkout_price_6_weeks_ago',\n",
       " 'mean_of_num_orders_groupby_category_10_weeks_ago',\n",
       " 'base_price_1_week_ago',\n",
       " 'homepage_featured',\n",
       " 'mean_of_num_orders_groupby_meal_id',\n",
       " 'mean_of_checkout_price_groupby_emailer_for_promotion_homepage_featured_1_week_ago',\n",
       " 'category',\n",
       " 'mean_of_num_orders_groupby_meal_id_1_week_ago',\n",
       " 'mean_of_checkout_price_groupby_emailer_for_promotion_1_week_ago',\n",
       " 'base_price_6_weeks_ago',\n",
       " 'mean_of_checkout_price_groupby_meal_id',\n",
       " 'mean_of_num_orders_groupby_meal_id_3_weeks_ago',\n",
       " 'mean_of_num_orders_groupby_emailer_for_promotion_homepage_featured_3_weeks_ago',\n",
       " 'mean_of_num_orders_groupby_center_id_meal_id_1_week_ago',\n",
       " 'num_orders_6_weeks_ago',\n",
       " 'mean_of_base_price_groupby_category',\n",
       " 'mean_of_num_orders_groupby_category_1_week_ago',\n",
       " 'checkout_price_2_weeks_ago',\n",
       " 'mean_of_num_orders_groupby_category_6_weeks_ago',\n",
       " 'mean_of_num_orders_groupby_center_id_meal_id_6_weeks_ago',\n",
       " 'num_orders_10_weeks_ago',\n",
       " 'mean_of_num_orders_groupby_category',\n",
       " 'mean_of_checkout_price_groupby_category_cuisine',\n",
       " 'diff_of_center_id_category',\n",
       " 'mean_of_base_price_groupby_center_id_meal_id',\n",
       " 'mean_of_num_orders_groupby_category_cuisine',\n",
       " 'mean_of_base_price_groupby_homepage_featured_2_weeks_ago',\n",
       " 'mean_of_num_orders_groupby_center_id_meal_id_2_weeks_ago',\n",
       " 'checkout_price_3_weeks_ago',\n",
       " 'mean_of_num_orders_groupby_center_id']"
      ]
     },
     "execution_count": 54,
     "metadata": {},
     "output_type": "execute_result"
    }
   ],
   "source": [
    "# Selected top 40 features for the final model\n",
    "df = (pd.Series(model.feature_importances_, index=features).nlargest(40)).reset_index()\n",
    "features = list(df['index'])\n",
    "features"
   ]
  },
  {
   "cell_type": "markdown",
   "metadata": {},
   "source": [
    "## Model Evaluation with the selected features"
   ]
  },
  {
   "cell_type": "code",
   "execution_count": 55,
   "metadata": {},
   "outputs": [],
   "source": [
    "model.fit(X_train[features], Y_train)\n",
    "Y_pred = model.predict(X_valid[features])"
   ]
  },
  {
   "cell_type": "code",
   "execution_count": 56,
   "metadata": {},
   "outputs": [],
   "source": [
    "def eval_rmsle(actual, pred):\n",
    "    rmse = 100 * np.sqrt(mean_squared_log_error(actual, pred))\n",
    "    print('Root Mean Squared Log Error :', rmse)\n",
    "    return rmse"
   ]
  },
  {
   "cell_type": "code",
   "execution_count": 57,
   "metadata": {},
   "outputs": [
    {
     "name": "stdout",
     "output_type": "stream",
     "text": [
      "-24.764637 2442.7964\n"
     ]
    }
   ],
   "source": [
    "print(Y_pred.min(), Y_pred.max())"
   ]
  },
  {
   "cell_type": "code",
   "execution_count": 58,
   "metadata": {},
   "outputs": [],
   "source": [
    "Y_pred = np.clip(Y_pred, 0, 2500)"
   ]
  },
  {
   "cell_type": "code",
   "execution_count": 59,
   "metadata": {},
   "outputs": [
    {
     "name": "stdout",
     "output_type": "stream",
     "text": [
      "Root Mean Squared Log Error : 57.02053178365265\n"
     ]
    }
   ],
   "source": [
    "rmse = eval_rmsle(Y_valid, Y_pred)"
   ]
  },
  {
   "cell_type": "markdown",
   "metadata": {},
   "source": [
    "## Plot the error terms"
   ]
  },
  {
   "cell_type": "code",
   "execution_count": 60,
   "metadata": {},
   "outputs": [
    {
     "data": {
      "image/png": "[encoded data removed]",
      "text/plain": [
       "<Figure size 1296x432 with 1 Axes>"
      ]
     },
     "metadata": {
      "needs_background": "light"
     },
     "output_type": "display_data"
    }
   ],
   "source": [
    "# Error terms\n",
    "c = [i for i in range(len(Y_pred))]\n",
    "fig = plt.figure(figsize=(18,6))\n",
    "plt.plot(c, Y_valid - Y_pred, color=\"blue\", linewidth=2.5, linestyle=\"-\")\n",
    "fig.suptitle('Error Terms', fontsize=20)              # Plot heading \n",
    "plt.xlabel('Index', fontsize=18)                      # X-label\n",
    "plt.ylabel('Y_valid - Y_pred', fontsize=16)                # Y-label\n",
    "plt.show()"
   ]
  },
  {
   "cell_type": "markdown",
   "metadata": {},
   "source": [
    "## Predict with the test data"
   ]
  },
  {
   "cell_type": "code",
   "execution_count": 61,
   "metadata": {
    "scrolled": true
   },
   "outputs": [
    {
     "name": "stdout",
     "output_type": "stream",
     "text": [
      "(456285, 40) (456285,)\n",
      "(32573, 40)\n"
     ]
    }
   ],
   "source": [
    "print(X[features].shape, Y.shape)\n",
    "print(test[features].shape)\n",
    "\n",
    "Y = np.clip(Y, 0, 2500)"
   ]
  },
  {
   "cell_type": "code",
   "execution_count": 62,
   "metadata": {},
   "outputs": [],
   "source": [
    "model.fit(X[features], Y)\n",
    "Y_final_pred = model.predict(test[features])"
   ]
  },
  {
   "cell_type": "code",
   "execution_count": 63,
   "metadata": {},
   "outputs": [
    {
     "name": "stdout",
     "output_type": "stream",
     "text": [
      "-37.136353 2531.2205\n"
     ]
    }
   ],
   "source": [
    "print(Y_final_pred.min(), Y_final_pred.max())"
   ]
  },
  {
   "cell_type": "markdown",
   "metadata": {},
   "source": [
    "## Prepare the submission file"
   ]
  },
  {
   "cell_type": "code",
   "execution_count": 64,
   "metadata": {},
   "outputs": [],
   "source": [
    "test['num_orders'] = np.clip(Y_final_pred, 0, 2600)\n",
    "test[['id', 'num_orders']].to_csv('genpact_xgb_submission.csv', index=False)"
   ]
  },
  {
   "cell_type": "markdown",
   "metadata": {},
   "source": [
    "**With this initial submission, obtained the score of about 63.17.**\n",
    "\n",
    "**Now let's go ahead and try with the hyperparameter tuning and stacking**"
   ]
  },
  {
   "cell_type": "markdown",
   "metadata": {},
   "source": [
    "#### Selected final features"
   ]
  },
  {
   "cell_type": "code",
   "execution_count": 65,
   "metadata": {},
   "outputs": [
    {
     "data": {
      "text/plain": [
       "['num_orders_1_week_ago',\n",
       " 'mean_of_num_orders_groupby_center_id_meal_id',\n",
       " 'mean_of_num_orders_groupby_emailer_for_promotion_homepage_featured',\n",
       " 'emailer_for_promotion',\n",
       " 'mean_of_checkout_price_groupby_emailer_for_promotion_homepage_featured',\n",
       " 'num_orders_2_weeks_ago',\n",
       " 'checkout_price_1_week_ago',\n",
       " 'num_orders_3_weeks_ago',\n",
       " 'mean_of_num_orders_groupby_emailer_for_promotion_homepage_featured_1_week_ago',\n",
       " 'mean_of_num_orders_groupby_category_3_weeks_ago',\n",
       " 'checkout_price_6_weeks_ago',\n",
       " 'mean_of_num_orders_groupby_category_10_weeks_ago',\n",
       " 'base_price_1_week_ago',\n",
       " 'homepage_featured',\n",
       " 'mean_of_num_orders_groupby_meal_id',\n",
       " 'mean_of_checkout_price_groupby_emailer_for_promotion_homepage_featured_1_week_ago',\n",
       " 'category',\n",
       " 'mean_of_num_orders_groupby_meal_id_1_week_ago',\n",
       " 'mean_of_checkout_price_groupby_emailer_for_promotion_1_week_ago',\n",
       " 'base_price_6_weeks_ago',\n",
       " 'mean_of_checkout_price_groupby_meal_id',\n",
       " 'mean_of_num_orders_groupby_meal_id_3_weeks_ago',\n",
       " 'mean_of_num_orders_groupby_emailer_for_promotion_homepage_featured_3_weeks_ago',\n",
       " 'mean_of_num_orders_groupby_center_id_meal_id_1_week_ago',\n",
       " 'num_orders_6_weeks_ago',\n",
       " 'mean_of_base_price_groupby_category',\n",
       " 'mean_of_num_orders_groupby_category_1_week_ago',\n",
       " 'checkout_price_2_weeks_ago',\n",
       " 'mean_of_num_orders_groupby_category_6_weeks_ago',\n",
       " 'mean_of_num_orders_groupby_center_id_meal_id_6_weeks_ago',\n",
       " 'num_orders_10_weeks_ago',\n",
       " 'mean_of_num_orders_groupby_category',\n",
       " 'mean_of_checkout_price_groupby_category_cuisine',\n",
       " 'diff_of_center_id_category',\n",
       " 'mean_of_base_price_groupby_center_id_meal_id',\n",
       " 'mean_of_num_orders_groupby_category_cuisine',\n",
       " 'mean_of_base_price_groupby_homepage_featured_2_weeks_ago',\n",
       " 'mean_of_num_orders_groupby_center_id_meal_id_2_weeks_ago',\n",
       " 'checkout_price_3_weeks_ago',\n",
       " 'mean_of_num_orders_groupby_center_id']"
      ]
     },
     "execution_count": 65,
     "metadata": {},
     "output_type": "execute_result"
    }
   ],
   "source": [
    "features"
   ]
  },
  {
   "cell_type": "markdown",
   "metadata": {},
   "source": [
    "## Write the data to file for future use"
   ]
  },
  {
   "cell_type": "code",
   "execution_count": 66,
   "metadata": {
    "scrolled": true
   },
   "outputs": [],
   "source": [
    "pd.concat([pd.DataFrame(X, columns=X.columns), pd.DataFrame(Y, columns=['num_orders'])], axis=1).to_csv('train_data.csv', index=False)"
   ]
  },
  {
   "cell_type": "code",
   "execution_count": 67,
   "metadata": {},
   "outputs": [],
   "source": [
    "test.to_csv('test_data.csv', index=False)"
   ]
  },
  {
   "cell_type": "code",
   "execution_count": 68,
   "metadata": {},
   "outputs": [
    {
     "data": {
      "text/plain": [
       "71"
      ]
     },
     "execution_count": 68,
     "metadata": {},
     "output_type": "execute_result"
    }
   ],
   "source": [
    "#del master_df\n",
    "import gc\n",
    "gc.collect()"
   ]
  },
  {
   "cell_type": "markdown",
   "metadata": {},
   "source": [
    "#### Since the data size is huge, doing hyperparameter tuning randomly rather than using GridSearch"
   ]
  },
  {
   "cell_type": "markdown",
   "metadata": {},
   "source": [
    "## XGBRegressor"
   ]
  },
  {
   "cell_type": "markdown",
   "metadata": {},
   "source": [
    "### Hyperparameter tuning 1"
   ]
  },
  {
   "cell_type": "code",
   "execution_count": 69,
   "metadata": {},
   "outputs": [],
   "source": [
    "model = XGBRegressor(max_depth=5)\n",
    "model.fit(X_train[features], Y_train)\n",
    "Y_pred = model.predict(X_valid[features])"
   ]
  },
  {
   "cell_type": "code",
   "execution_count": 70,
   "metadata": {},
   "outputs": [
    {
     "name": "stdout",
     "output_type": "stream",
     "text": [
      "6.1271734 2525.2524\n"
     ]
    }
   ],
   "source": [
    "print(Y_pred.min(), Y_pred.max())"
   ]
  },
  {
   "cell_type": "code",
   "execution_count": 71,
   "metadata": {},
   "outputs": [],
   "source": [
    "Y_pred = np.clip(Y_pred, 0, 3000)"
   ]
  },
  {
   "cell_type": "code",
   "execution_count": 72,
   "metadata": {},
   "outputs": [
    {
     "name": "stdout",
     "output_type": "stream",
     "text": [
      "Root Mean Squared Log Error : 52.64906495334743\n"
     ]
    }
   ],
   "source": [
    "rmse = eval_rmsle(Y_valid, Y_pred)"
   ]
  },
  {
   "cell_type": "code",
   "execution_count": 73,
   "metadata": {},
   "outputs": [
    {
     "data": {
      "image/png": "[encoded data removed]",
      "text/plain": [
       "<Figure size 1296x432 with 1 Axes>"
      ]
     },
     "metadata": {
      "needs_background": "light"
     },
     "output_type": "display_data"
    }
   ],
   "source": [
    "# Error terms\n",
    "c = [i for i in range(len(Y_pred))]\n",
    "fig = plt.figure(figsize=(18,6))\n",
    "plt.plot(c, Y_valid - Y_pred, color=\"blue\", linewidth=2.5, linestyle=\"-\")\n",
    "fig.suptitle('Error Terms', fontsize=20)              # Plot heading \n",
    "plt.xlabel('Index', fontsize=18)                      # X-label\n",
    "plt.ylabel('Y_valid - Y_pred', fontsize=16)                # Y-label\n",
    "plt.show()"
   ]
  },
  {
   "cell_type": "markdown",
   "metadata": {},
   "source": [
    "### Hyperparameter tuning 2"
   ]
  },
  {
   "cell_type": "code",
   "execution_count": 74,
   "metadata": {},
   "outputs": [],
   "source": [
    "model = XGBRegressor(max_depth=10)\n",
    "model.fit(X_train[features], Y_train)\n",
    "Y_pred = model.predict(X_valid[features])"
   ]
  },
  {
   "cell_type": "code",
   "execution_count": 75,
   "metadata": {},
   "outputs": [
    {
     "name": "stdout",
     "output_type": "stream",
     "text": [
      "-2.499721 2464.636\n"
     ]
    }
   ],
   "source": [
    "print(Y_pred.min(), Y_pred.max())"
   ]
  },
  {
   "cell_type": "code",
   "execution_count": 76,
   "metadata": {},
   "outputs": [],
   "source": [
    "Y_pred = np.clip(Y_pred, 0, 3000)"
   ]
  },
  {
   "cell_type": "code",
   "execution_count": 77,
   "metadata": {},
   "outputs": [
    {
     "name": "stdout",
     "output_type": "stream",
     "text": [
      "Root Mean Squared Log Error : 51.179260624689746\n"
     ]
    }
   ],
   "source": [
    "rmse = eval_rmsle(Y_valid, Y_pred)"
   ]
  },
  {
   "cell_type": "code",
   "execution_count": 78,
   "metadata": {
    "scrolled": true
   },
   "outputs": [
    {
     "data": {
      "image/png": "[encoded data removed]",
      "text/plain": [
       "<Figure size 1296x432 with 1 Axes>"
      ]
     },
     "metadata": {
      "needs_background": "light"
     },
     "output_type": "display_data"
    }
   ],
   "source": [
    "# Error terms\n",
    "c = [i for i in range(len(Y_pred))]\n",
    "fig = plt.figure(figsize=(18,6))\n",
    "plt.plot(c, Y_valid - Y_pred, color=\"blue\", linewidth=2.5, linestyle=\"-\")\n",
    "fig.suptitle('Error Terms', fontsize=20)              # Plot heading \n",
    "plt.xlabel('Index', fontsize=18)                      # X-label\n",
    "plt.ylabel('Y_valid - Y_pred', fontsize=16)                # Y-label\n",
    "plt.show()"
   ]
  },
  {
   "cell_type": "markdown",
   "metadata": {},
   "source": [
    "### Hyperparameter tuning 3"
   ]
  },
  {
   "cell_type": "code",
   "execution_count": 79,
   "metadata": {},
   "outputs": [],
   "source": [
    "model = XGBRegressor(max_depth=8)\n",
    "model.fit(X_train[features], Y_train)\n",
    "Y_pred = model.predict(X_valid[features])"
   ]
  },
  {
   "cell_type": "code",
   "execution_count": 80,
   "metadata": {},
   "outputs": [
    {
     "name": "stdout",
     "output_type": "stream",
     "text": [
      "12.93147 2529.8083\n"
     ]
    }
   ],
   "source": [
    "print(Y_pred.min(), Y_pred.max())"
   ]
  },
  {
   "cell_type": "code",
   "execution_count": 81,
   "metadata": {},
   "outputs": [],
   "source": [
    "Y_pred = np.clip(Y_pred, 0, 3000)"
   ]
  },
  {
   "cell_type": "code",
   "execution_count": 82,
   "metadata": {},
   "outputs": [
    {
     "name": "stdout",
     "output_type": "stream",
     "text": [
      "Root Mean Squared Log Error : 51.49874901746255\n"
     ]
    }
   ],
   "source": [
    "rmse = eval_rmsle(Y_valid, Y_pred)"
   ]
  },
  {
   "cell_type": "code",
   "execution_count": 83,
   "metadata": {
    "scrolled": true
   },
   "outputs": [
    {
     "data": {
      "image/png": "[encoded data removed]",
      "text/plain": [
       "<Figure size 1296x432 with 1 Axes>"
      ]
     },
     "metadata": {
      "needs_background": "light"
     },
     "output_type": "display_data"
    }
   ],
   "source": [
    "# Error terms\n",
    "c = [i for i in range(len(Y_pred))]\n",
    "fig = plt.figure(figsize=(18,6))\n",
    "plt.plot(c, Y_valid - Y_pred, color=\"blue\", linewidth=2.5, linestyle=\"-\")\n",
    "fig.suptitle('Error Terms', fontsize=20)              # Plot heading \n",
    "plt.xlabel('Index', fontsize=18)                      # X-label\n",
    "plt.ylabel('Y_valid - Y_pred', fontsize=16)                # Y-label\n",
    "plt.show()"
   ]
  },
  {
   "cell_type": "markdown",
   "metadata": {},
   "source": [
    "## KNN Regressor"
   ]
  },
  {
   "cell_type": "code",
   "execution_count": 84,
   "metadata": {},
   "outputs": [
    {
     "name": "stderr",
     "output_type": "stream",
     "text": [
      "C:\\Users\\jsaikumar\\Anaconda3\\lib\\site-packages\\sklearn\\preprocessing\\data.py:323: DataConversionWarning: Data with input dtype int32, int64, float64 were all converted to float64 by MinMaxScaler.\n",
      "  return self.partial_fit(X, y)\n"
     ]
    },
    {
     "data": {
      "text/plain": [
       "MinMaxScaler(copy=True, feature_range=(0, 1))"
      ]
     },
     "execution_count": 84,
     "metadata": {},
     "output_type": "execute_result"
    }
   ],
   "source": [
    "from sklearn.preprocessing import MinMaxScaler\n",
    "scaler = MinMaxScaler()\n",
    "scaler.fit(X_train[features])"
   ]
  },
  {
   "cell_type": "code",
   "execution_count": 85,
   "metadata": {},
   "outputs": [],
   "source": [
    "from sklearn.neighbors import KNeighborsRegressor\n",
    "\n",
    "model = KNeighborsRegressor(n_neighbors=2, n_jobs=-1, algorithm='kd_tree')\n",
    "model.fit(scaler.transform(X_train[features]), Y_train)\n",
    "Y_pred = model.predict(scaler.transform(X_valid[features]))"
   ]
  },
  {
   "cell_type": "code",
   "execution_count": 86,
   "metadata": {},
   "outputs": [
    {
     "name": "stdout",
     "output_type": "stream",
     "text": [
      "13.0 2500.0\n"
     ]
    }
   ],
   "source": [
    "print(Y_pred.min(), Y_pred.max())"
   ]
  },
  {
   "cell_type": "code",
   "execution_count": 87,
   "metadata": {},
   "outputs": [],
   "source": [
    "Y_pred = np.clip(Y_pred, 0, 3000)"
   ]
  },
  {
   "cell_type": "code",
   "execution_count": 88,
   "metadata": {},
   "outputs": [
    {
     "name": "stdout",
     "output_type": "stream",
     "text": [
      "Root Mean Squared Log Error : 62.41560503350677\n"
     ]
    }
   ],
   "source": [
    "rmse = eval_rmsle(Y_valid, Y_pred)"
   ]
  },
  {
   "cell_type": "code",
   "execution_count": 89,
   "metadata": {
    "scrolled": true
   },
   "outputs": [
    {
     "data": {
      "image/png": "[encoded data removed]",
      "text/plain": [
       "<Figure size 1296x432 with 1 Axes>"
      ]
     },
     "metadata": {
      "needs_background": "light"
     },
     "output_type": "display_data"
    }
   ],
   "source": [
    "# Error terms\n",
    "c = [i for i in range(len(Y_pred))]\n",
    "fig = plt.figure(figsize=(18,6))\n",
    "plt.plot(c, Y_valid - Y_pred, color=\"blue\", linewidth=2.5, linestyle=\"-\")\n",
    "fig.suptitle('Error Terms', fontsize=20)              # Plot heading \n",
    "plt.xlabel('Index', fontsize=18)                      # X-label\n",
    "plt.ylabel('Y_valid - Y_pred', fontsize=16)                # Y-label\n",
    "plt.show()"
   ]
  },
  {
   "cell_type": "markdown",
   "metadata": {},
   "source": [
    "### Hyperparameter Tuning 1"
   ]
  },
  {
   "cell_type": "code",
   "execution_count": 90,
   "metadata": {},
   "outputs": [],
   "source": [
    "model = KNeighborsRegressor(n_neighbors=12, n_jobs=-1, algorithm='kd_tree')\n",
    "model.fit(scaler.transform(X_train[features]), Y_train)\n",
    "Y_pred = model.predict(scaler.transform(X_valid[features]))"
   ]
  },
  {
   "cell_type": "code",
   "execution_count": 91,
   "metadata": {},
   "outputs": [
    {
     "name": "stdout",
     "output_type": "stream",
     "text": [
      "13.666666666666666 2500.0\n"
     ]
    }
   ],
   "source": [
    "print(Y_pred.min(), Y_pred.max())"
   ]
  },
  {
   "cell_type": "code",
   "execution_count": 92,
   "metadata": {},
   "outputs": [],
   "source": [
    "Y_pred = np.clip(Y_pred, 0, 3000)"
   ]
  },
  {
   "cell_type": "code",
   "execution_count": 93,
   "metadata": {},
   "outputs": [
    {
     "name": "stdout",
     "output_type": "stream",
     "text": [
      "Root Mean Squared Log Error : 56.160093514559485\n"
     ]
    }
   ],
   "source": [
    "rmse = eval_rmsle(Y_valid, Y_pred)"
   ]
  },
  {
   "cell_type": "code",
   "execution_count": 94,
   "metadata": {
    "scrolled": true
   },
   "outputs": [
    {
     "data": {
      "image/png": "[encoded data removed]",
      "text/plain": [
       "<Figure size 1296x432 with 1 Axes>"
      ]
     },
     "metadata": {
      "needs_background": "light"
     },
     "output_type": "display_data"
    }
   ],
   "source": [
    "# Error terms\n",
    "c = [i for i in range(len(Y_pred))]\n",
    "fig = plt.figure(figsize=(18,6))\n",
    "plt.plot(c, Y_valid - Y_pred, color=\"blue\", linewidth=2.5, linestyle=\"-\")\n",
    "fig.suptitle('Error Terms', fontsize=20)              # Plot heading \n",
    "plt.xlabel('Index', fontsize=18)                      # X-label\n",
    "plt.ylabel('Y_valid - Y_pred', fontsize=16)                # Y-label\n",
    "plt.show()"
   ]
  },
  {
   "cell_type": "code",
   "execution_count": 95,
   "metadata": {
    "scrolled": true
   },
   "outputs": [
    {
     "data": {
      "text/html": [
       "<div>\n",
       "<style scoped>\n",
       "    .dataframe tbody tr th:only-of-type {\n",
       "        vertical-align: middle;\n",
       "    }\n",
       "\n",
       "    .dataframe tbody tr th {\n",
       "        vertical-align: top;\n",
       "    }\n",
       "\n",
       "    .dataframe thead th {\n",
       "        text-align: right;\n",
       "    }\n",
       "</style>\n",
       "<table border=\"1\" class=\"dataframe\">\n",
       "  <thead>\n",
       "    <tr style=\"text-align: right;\">\n",
       "      <th></th>\n",
       "      <th>actual</th>\n",
       "      <th>pred</th>\n",
       "      <th>diff</th>\n",
       "    </tr>\n",
       "  </thead>\n",
       "  <tbody>\n",
       "    <tr>\n",
       "      <th>135</th>\n",
       "      <td>134.0</td>\n",
       "      <td>157.583333</td>\n",
       "      <td>-23.583333</td>\n",
       "    </tr>\n",
       "    <tr>\n",
       "      <th>136</th>\n",
       "      <td>96.0</td>\n",
       "      <td>143.166667</td>\n",
       "      <td>-47.166667</td>\n",
       "    </tr>\n",
       "    <tr>\n",
       "      <th>137</th>\n",
       "      <td>81.0</td>\n",
       "      <td>133.000000</td>\n",
       "      <td>-52.000000</td>\n",
       "    </tr>\n",
       "    <tr>\n",
       "      <th>138</th>\n",
       "      <td>67.0</td>\n",
       "      <td>155.250000</td>\n",
       "      <td>-88.250000</td>\n",
       "    </tr>\n",
       "    <tr>\n",
       "      <th>139</th>\n",
       "      <td>204.0</td>\n",
       "      <td>157.500000</td>\n",
       "      <td>46.500000</td>\n",
       "    </tr>\n",
       "    <tr>\n",
       "      <th>140</th>\n",
       "      <td>107.0</td>\n",
       "      <td>170.083333</td>\n",
       "      <td>-63.083333</td>\n",
       "    </tr>\n",
       "    <tr>\n",
       "      <th>141</th>\n",
       "      <td>121.0</td>\n",
       "      <td>154.416667</td>\n",
       "      <td>-33.416667</td>\n",
       "    </tr>\n",
       "    <tr>\n",
       "      <th>142</th>\n",
       "      <td>176.0</td>\n",
       "      <td>157.750000</td>\n",
       "      <td>18.250000</td>\n",
       "    </tr>\n",
       "    <tr>\n",
       "      <th>143</th>\n",
       "      <td>162.0</td>\n",
       "      <td>145.166667</td>\n",
       "      <td>16.833333</td>\n",
       "    </tr>\n",
       "    <tr>\n",
       "      <th>144</th>\n",
       "      <td>121.0</td>\n",
       "      <td>152.000000</td>\n",
       "      <td>-31.000000</td>\n",
       "    </tr>\n",
       "    <tr>\n",
       "      <th>255</th>\n",
       "      <td>1592.0</td>\n",
       "      <td>1552.750000</td>\n",
       "      <td>39.250000</td>\n",
       "    </tr>\n",
       "    <tr>\n",
       "      <th>256</th>\n",
       "      <td>1701.0</td>\n",
       "      <td>1552.833333</td>\n",
       "      <td>148.166667</td>\n",
       "    </tr>\n",
       "    <tr>\n",
       "      <th>257</th>\n",
       "      <td>1581.0</td>\n",
       "      <td>1523.583333</td>\n",
       "      <td>57.416667</td>\n",
       "    </tr>\n",
       "    <tr>\n",
       "      <th>258</th>\n",
       "      <td>1403.0</td>\n",
       "      <td>1523.583333</td>\n",
       "      <td>-120.583333</td>\n",
       "    </tr>\n",
       "    <tr>\n",
       "      <th>259</th>\n",
       "      <td>1972.0</td>\n",
       "      <td>1502.166667</td>\n",
       "      <td>469.833333</td>\n",
       "    </tr>\n",
       "    <tr>\n",
       "      <th>260</th>\n",
       "      <td>1877.0</td>\n",
       "      <td>1499.750000</td>\n",
       "      <td>377.250000</td>\n",
       "    </tr>\n",
       "    <tr>\n",
       "      <th>261</th>\n",
       "      <td>1403.0</td>\n",
       "      <td>1552.666667</td>\n",
       "      <td>-149.666667</td>\n",
       "    </tr>\n",
       "    <tr>\n",
       "      <th>262</th>\n",
       "      <td>1958.0</td>\n",
       "      <td>1512.250000</td>\n",
       "      <td>445.750000</td>\n",
       "    </tr>\n",
       "    <tr>\n",
       "      <th>263</th>\n",
       "      <td>1984.0</td>\n",
       "      <td>1618.250000</td>\n",
       "      <td>365.750000</td>\n",
       "    </tr>\n",
       "    <tr>\n",
       "      <th>264</th>\n",
       "      <td>1890.0</td>\n",
       "      <td>1385.500000</td>\n",
       "      <td>504.500000</td>\n",
       "    </tr>\n",
       "    <tr>\n",
       "      <th>400</th>\n",
       "      <td>1727.0</td>\n",
       "      <td>1793.416667</td>\n",
       "      <td>-66.416667</td>\n",
       "    </tr>\n",
       "    <tr>\n",
       "      <th>401</th>\n",
       "      <td>1405.0</td>\n",
       "      <td>1727.416667</td>\n",
       "      <td>-322.416667</td>\n",
       "    </tr>\n",
       "    <tr>\n",
       "      <th>402</th>\n",
       "      <td>1350.0</td>\n",
       "      <td>1684.500000</td>\n",
       "      <td>-334.500000</td>\n",
       "    </tr>\n",
       "    <tr>\n",
       "      <th>403</th>\n",
       "      <td>1754.0</td>\n",
       "      <td>1627.333333</td>\n",
       "      <td>126.666667</td>\n",
       "    </tr>\n",
       "    <tr>\n",
       "      <th>404</th>\n",
       "      <td>1539.0</td>\n",
       "      <td>1598.000000</td>\n",
       "      <td>-59.000000</td>\n",
       "    </tr>\n",
       "    <tr>\n",
       "      <th>405</th>\n",
       "      <td>1431.0</td>\n",
       "      <td>1671.166667</td>\n",
       "      <td>-240.166667</td>\n",
       "    </tr>\n",
       "    <tr>\n",
       "      <th>406</th>\n",
       "      <td>1297.0</td>\n",
       "      <td>1638.583333</td>\n",
       "      <td>-341.583333</td>\n",
       "    </tr>\n",
       "    <tr>\n",
       "      <th>407</th>\n",
       "      <td>1444.0</td>\n",
       "      <td>1678.083333</td>\n",
       "      <td>-234.083333</td>\n",
       "    </tr>\n",
       "    <tr>\n",
       "      <th>408</th>\n",
       "      <td>1621.0</td>\n",
       "      <td>1555.416667</td>\n",
       "      <td>65.583333</td>\n",
       "    </tr>\n",
       "    <tr>\n",
       "      <th>409</th>\n",
       "      <td>1621.0</td>\n",
       "      <td>1585.416667</td>\n",
       "      <td>35.583333</td>\n",
       "    </tr>\n",
       "    <tr>\n",
       "      <th>...</th>\n",
       "      <td>...</td>\n",
       "      <td>...</td>\n",
       "      <td>...</td>\n",
       "    </tr>\n",
       "    <tr>\n",
       "      <th>456162</th>\n",
       "      <td>55.0</td>\n",
       "      <td>39.666667</td>\n",
       "      <td>15.333333</td>\n",
       "    </tr>\n",
       "    <tr>\n",
       "      <th>456163</th>\n",
       "      <td>80.0</td>\n",
       "      <td>38.500000</td>\n",
       "      <td>41.500000</td>\n",
       "    </tr>\n",
       "    <tr>\n",
       "      <th>456164</th>\n",
       "      <td>55.0</td>\n",
       "      <td>56.333333</td>\n",
       "      <td>-1.333333</td>\n",
       "    </tr>\n",
       "    <tr>\n",
       "      <th>456165</th>\n",
       "      <td>108.0</td>\n",
       "      <td>86.416667</td>\n",
       "      <td>21.583333</td>\n",
       "    </tr>\n",
       "    <tr>\n",
       "      <th>456166</th>\n",
       "      <td>123.0</td>\n",
       "      <td>97.250000</td>\n",
       "      <td>25.750000</td>\n",
       "    </tr>\n",
       "    <tr>\n",
       "      <th>456167</th>\n",
       "      <td>40.0</td>\n",
       "      <td>50.666667</td>\n",
       "      <td>-10.666667</td>\n",
       "    </tr>\n",
       "    <tr>\n",
       "      <th>456168</th>\n",
       "      <td>26.0</td>\n",
       "      <td>44.333333</td>\n",
       "      <td>-18.333333</td>\n",
       "    </tr>\n",
       "    <tr>\n",
       "      <th>456169</th>\n",
       "      <td>80.0</td>\n",
       "      <td>68.916667</td>\n",
       "      <td>11.083333</td>\n",
       "    </tr>\n",
       "    <tr>\n",
       "      <th>456170</th>\n",
       "      <td>81.0</td>\n",
       "      <td>57.333333</td>\n",
       "      <td>23.666667</td>\n",
       "    </tr>\n",
       "    <tr>\n",
       "      <th>456171</th>\n",
       "      <td>40.0</td>\n",
       "      <td>37.416667</td>\n",
       "      <td>2.583333</td>\n",
       "    </tr>\n",
       "    <tr>\n",
       "      <th>456192</th>\n",
       "      <td>80.0</td>\n",
       "      <td>79.083333</td>\n",
       "      <td>0.916667</td>\n",
       "    </tr>\n",
       "    <tr>\n",
       "      <th>456193</th>\n",
       "      <td>28.0</td>\n",
       "      <td>75.916667</td>\n",
       "      <td>-47.916667</td>\n",
       "    </tr>\n",
       "    <tr>\n",
       "      <th>456194</th>\n",
       "      <td>28.0</td>\n",
       "      <td>76.833333</td>\n",
       "      <td>-48.833333</td>\n",
       "    </tr>\n",
       "    <tr>\n",
       "      <th>456195</th>\n",
       "      <td>297.0</td>\n",
       "      <td>80.166667</td>\n",
       "      <td>216.833333</td>\n",
       "    </tr>\n",
       "    <tr>\n",
       "      <th>456196</th>\n",
       "      <td>296.0</td>\n",
       "      <td>417.750000</td>\n",
       "      <td>-121.750000</td>\n",
       "    </tr>\n",
       "    <tr>\n",
       "      <th>456197</th>\n",
       "      <td>94.0</td>\n",
       "      <td>202.833333</td>\n",
       "      <td>-108.833333</td>\n",
       "    </tr>\n",
       "    <tr>\n",
       "      <th>456198</th>\n",
       "      <td>42.0</td>\n",
       "      <td>86.583333</td>\n",
       "      <td>-44.583333</td>\n",
       "    </tr>\n",
       "    <tr>\n",
       "      <th>456199</th>\n",
       "      <td>42.0</td>\n",
       "      <td>64.166667</td>\n",
       "      <td>-22.166667</td>\n",
       "    </tr>\n",
       "    <tr>\n",
       "      <th>456200</th>\n",
       "      <td>54.0</td>\n",
       "      <td>77.666667</td>\n",
       "      <td>-23.666667</td>\n",
       "    </tr>\n",
       "    <tr>\n",
       "      <th>456201</th>\n",
       "      <td>69.0</td>\n",
       "      <td>72.333333</td>\n",
       "      <td>-3.333333</td>\n",
       "    </tr>\n",
       "    <tr>\n",
       "      <th>456275</th>\n",
       "      <td>15.0</td>\n",
       "      <td>77.666667</td>\n",
       "      <td>-62.666667</td>\n",
       "    </tr>\n",
       "    <tr>\n",
       "      <th>456276</th>\n",
       "      <td>41.0</td>\n",
       "      <td>83.416667</td>\n",
       "      <td>-42.416667</td>\n",
       "    </tr>\n",
       "    <tr>\n",
       "      <th>456277</th>\n",
       "      <td>150.0</td>\n",
       "      <td>217.333333</td>\n",
       "      <td>-67.333333</td>\n",
       "    </tr>\n",
       "    <tr>\n",
       "      <th>456278</th>\n",
       "      <td>312.0</td>\n",
       "      <td>204.083333</td>\n",
       "      <td>107.916667</td>\n",
       "    </tr>\n",
       "    <tr>\n",
       "      <th>456279</th>\n",
       "      <td>149.0</td>\n",
       "      <td>230.000000</td>\n",
       "      <td>-81.000000</td>\n",
       "    </tr>\n",
       "    <tr>\n",
       "      <th>456280</th>\n",
       "      <td>13.0</td>\n",
       "      <td>165.416667</td>\n",
       "      <td>-152.416667</td>\n",
       "    </tr>\n",
       "    <tr>\n",
       "      <th>456281</th>\n",
       "      <td>42.0</td>\n",
       "      <td>109.500000</td>\n",
       "      <td>-67.500000</td>\n",
       "    </tr>\n",
       "    <tr>\n",
       "      <th>456282</th>\n",
       "      <td>40.0</td>\n",
       "      <td>79.250000</td>\n",
       "      <td>-39.250000</td>\n",
       "    </tr>\n",
       "    <tr>\n",
       "      <th>456283</th>\n",
       "      <td>53.0</td>\n",
       "      <td>51.000000</td>\n",
       "      <td>2.000000</td>\n",
       "    </tr>\n",
       "    <tr>\n",
       "      <th>456284</th>\n",
       "      <td>27.0</td>\n",
       "      <td>52.166667</td>\n",
       "      <td>-25.166667</td>\n",
       "    </tr>\n",
       "  </tbody>\n",
       "</table>\n",
       "<p>32821 rows × 3 columns</p>\n",
       "</div>"
      ],
      "text/plain": [
       "        actual         pred        diff\n",
       "135      134.0   157.583333  -23.583333\n",
       "136       96.0   143.166667  -47.166667\n",
       "137       81.0   133.000000  -52.000000\n",
       "138       67.0   155.250000  -88.250000\n",
       "139      204.0   157.500000   46.500000\n",
       "140      107.0   170.083333  -63.083333\n",
       "141      121.0   154.416667  -33.416667\n",
       "142      176.0   157.750000   18.250000\n",
       "143      162.0   145.166667   16.833333\n",
       "144      121.0   152.000000  -31.000000\n",
       "255     1592.0  1552.750000   39.250000\n",
       "256     1701.0  1552.833333  148.166667\n",
       "257     1581.0  1523.583333   57.416667\n",
       "258     1403.0  1523.583333 -120.583333\n",
       "259     1972.0  1502.166667  469.833333\n",
       "260     1877.0  1499.750000  377.250000\n",
       "261     1403.0  1552.666667 -149.666667\n",
       "262     1958.0  1512.250000  445.750000\n",
       "263     1984.0  1618.250000  365.750000\n",
       "264     1890.0  1385.500000  504.500000\n",
       "400     1727.0  1793.416667  -66.416667\n",
       "401     1405.0  1727.416667 -322.416667\n",
       "402     1350.0  1684.500000 -334.500000\n",
       "403     1754.0  1627.333333  126.666667\n",
       "404     1539.0  1598.000000  -59.000000\n",
       "405     1431.0  1671.166667 -240.166667\n",
       "406     1297.0  1638.583333 -341.583333\n",
       "407     1444.0  1678.083333 -234.083333\n",
       "408     1621.0  1555.416667   65.583333\n",
       "409     1621.0  1585.416667   35.583333\n",
       "...        ...          ...         ...\n",
       "456162    55.0    39.666667   15.333333\n",
       "456163    80.0    38.500000   41.500000\n",
       "456164    55.0    56.333333   -1.333333\n",
       "456165   108.0    86.416667   21.583333\n",
       "456166   123.0    97.250000   25.750000\n",
       "456167    40.0    50.666667  -10.666667\n",
       "456168    26.0    44.333333  -18.333333\n",
       "456169    80.0    68.916667   11.083333\n",
       "456170    81.0    57.333333   23.666667\n",
       "456171    40.0    37.416667    2.583333\n",
       "456192    80.0    79.083333    0.916667\n",
       "456193    28.0    75.916667  -47.916667\n",
       "456194    28.0    76.833333  -48.833333\n",
       "456195   297.0    80.166667  216.833333\n",
       "456196   296.0   417.750000 -121.750000\n",
       "456197    94.0   202.833333 -108.833333\n",
       "456198    42.0    86.583333  -44.583333\n",
       "456199    42.0    64.166667  -22.166667\n",
       "456200    54.0    77.666667  -23.666667\n",
       "456201    69.0    72.333333   -3.333333\n",
       "456275    15.0    77.666667  -62.666667\n",
       "456276    41.0    83.416667  -42.416667\n",
       "456277   150.0   217.333333  -67.333333\n",
       "456278   312.0   204.083333  107.916667\n",
       "456279   149.0   230.000000  -81.000000\n",
       "456280    13.0   165.416667 -152.416667\n",
       "456281    42.0   109.500000  -67.500000\n",
       "456282    40.0    79.250000  -39.250000\n",
       "456283    53.0    51.000000    2.000000\n",
       "456284    27.0    52.166667  -25.166667\n",
       "\n",
       "[32821 rows x 3 columns]"
      ]
     },
     "execution_count": 95,
     "metadata": {},
     "output_type": "execute_result"
    }
   ],
   "source": [
    "pd.DataFrame({'actual':Y_valid, 'pred':Y_pred, 'diff':Y_valid-Y_pred})"
   ]
  },
  {
   "cell_type": "markdown",
   "metadata": {},
   "source": [
    "## Final Model Building with Stacking"
   ]
  },
  {
   "cell_type": "code",
   "execution_count": 96,
   "metadata": {
    "scrolled": true
   },
   "outputs": [
    {
     "name": "stdout",
     "output_type": "stream",
     "text": [
      "(456285, 40) (456285,)\n",
      "(32573, 40)\n"
     ]
    }
   ],
   "source": [
    "print(X[features].shape, Y.shape)\n",
    "print(test[features].shape)\n",
    "\n",
    "Y = np.clip(Y, 0, 1500)"
   ]
  },
  {
   "cell_type": "markdown",
   "metadata": {},
   "source": [
    "### Model 1"
   ]
  },
  {
   "cell_type": "code",
   "execution_count": 97,
   "metadata": {},
   "outputs": [],
   "source": [
    "model = XGBRegressor(max_depth=6)\n",
    "model.fit(X[features], Y)\n",
    "Y_train_pred_1 = model.predict(X[features])\n",
    "Y_final_pred_1 = model.predict(test[features])"
   ]
  },
  {
   "cell_type": "code",
   "execution_count": 98,
   "metadata": {},
   "outputs": [
    {
     "name": "stdout",
     "output_type": "stream",
     "text": [
      "-64.220795 1710.5914\n"
     ]
    }
   ],
   "source": [
    "print(Y_final_pred_1.min(), Y_final_pred_1.max())"
   ]
  },
  {
   "cell_type": "markdown",
   "metadata": {},
   "source": [
    "### Model 2"
   ]
  },
  {
   "cell_type": "code",
   "execution_count": 99,
   "metadata": {},
   "outputs": [],
   "source": [
    "model = XGBRegressor(max_depth=8)\n",
    "model.fit(X[features], Y)\n",
    "Y_train_pred_2 = model.predict(X[features])\n",
    "Y_final_pred_2 = model.predict(test[features])"
   ]
  },
  {
   "cell_type": "code",
   "execution_count": 100,
   "metadata": {},
   "outputs": [
    {
     "name": "stdout",
     "output_type": "stream",
     "text": [
      "-34.156776 1531.214\n"
     ]
    }
   ],
   "source": [
    "print(Y_final_pred_2.min(), Y_final_pred_2.max())"
   ]
  },
  {
   "cell_type": "markdown",
   "metadata": {},
   "source": [
    "### Model 3"
   ]
  },
  {
   "cell_type": "code",
   "execution_count": 101,
   "metadata": {},
   "outputs": [],
   "source": [
    "model = XGBRegressor(max_depth=10)\n",
    "model.fit(X[features], Y)\n",
    "Y_train_pred_3 = model.predict(X[features])\n",
    "Y_final_pred_3 = model.predict(test[features])"
   ]
  },
  {
   "cell_type": "code",
   "execution_count": 102,
   "metadata": {},
   "outputs": [
    {
     "name": "stdout",
     "output_type": "stream",
     "text": [
      "-40.549507 1601.7281\n"
     ]
    }
   ],
   "source": [
    "print(Y_final_pred_3.min(), Y_final_pred_3.max())"
   ]
  },
  {
   "cell_type": "markdown",
   "metadata": {},
   "source": [
    "### Model 4"
   ]
  },
  {
   "cell_type": "code",
   "execution_count": 103,
   "metadata": {},
   "outputs": [
    {
     "name": "stderr",
     "output_type": "stream",
     "text": [
      "C:\\Users\\jsaikumar\\Anaconda3\\lib\\site-packages\\sklearn\\preprocessing\\data.py:323: DataConversionWarning: Data with input dtype int32, int64, float64 were all converted to float64 by MinMaxScaler.\n",
      "  return self.partial_fit(X, y)\n"
     ]
    },
    {
     "data": {
      "text/plain": [
       "MinMaxScaler(copy=True, feature_range=(0, 1))"
      ]
     },
     "execution_count": 103,
     "metadata": {},
     "output_type": "execute_result"
    }
   ],
   "source": [
    "scaler.fit(X[features])"
   ]
  },
  {
   "cell_type": "code",
   "execution_count": 104,
   "metadata": {},
   "outputs": [],
   "source": [
    "model = KNeighborsRegressor(n_neighbors=12, n_jobs=-1, algorithm='kd_tree')\n",
    "model.fit(scaler.transform(X[features]), Y)\n",
    "Y_train_pred_4 = model.predict(scaler.transform(X[features]))\n",
    "Y_final_pred_4 = model.predict(scaler.transform(test[features]))"
   ]
  },
  {
   "cell_type": "code",
   "execution_count": 105,
   "metadata": {},
   "outputs": [
    {
     "name": "stdout",
     "output_type": "stream",
     "text": [
      "13.583333333333334 1500.0\n"
     ]
    }
   ],
   "source": [
    "print(Y_final_pred_4.min(), Y_final_pred_4.max())"
   ]
  },
  {
   "cell_type": "markdown",
   "metadata": {},
   "source": [
    "### Model 5"
   ]
  },
  {
   "cell_type": "code",
   "execution_count": 106,
   "metadata": {},
   "outputs": [],
   "source": [
    "model = KNeighborsRegressor(n_neighbors=16, n_jobs=-1, algorithm='kd_tree')\n",
    "model.fit(scaler.transform(X[features]), Y)\n",
    "Y_train_pred_5 = model.predict(scaler.transform(X[features]))\n",
    "Y_final_pred_5 = model.predict(scaler.transform(test[features]))"
   ]
  },
  {
   "cell_type": "code",
   "execution_count": 107,
   "metadata": {},
   "outputs": [
    {
     "name": "stdout",
     "output_type": "stream",
     "text": [
      "14.625 1500.0\n"
     ]
    }
   ],
   "source": [
    "print(Y_final_pred_5.min(), Y_final_pred_5.max())"
   ]
  },
  {
   "cell_type": "markdown",
   "metadata": {},
   "source": [
    "### Model 6"
   ]
  },
  {
   "cell_type": "code",
   "execution_count": 108,
   "metadata": {},
   "outputs": [],
   "source": [
    "model = KNeighborsRegressor(n_neighbors=20, n_jobs=-1, algorithm='kd_tree')\n",
    "model.fit(scaler.transform(X[features]), Y)\n",
    "Y_train_pred_6 = model.predict(scaler.transform(X[features]))\n",
    "Y_final_pred_6 = model.predict(scaler.transform(test[features]))"
   ]
  },
  {
   "cell_type": "code",
   "execution_count": 109,
   "metadata": {},
   "outputs": [
    {
     "name": "stdout",
     "output_type": "stream",
     "text": [
      "14.45 1500.0\n"
     ]
    }
   ],
   "source": [
    "print(Y_final_pred_6.min(), Y_final_pred_6.max())"
   ]
  },
  {
   "cell_type": "markdown",
   "metadata": {},
   "source": [
    "## Final dataset preparation"
   ]
  },
  {
   "cell_type": "code",
   "execution_count": 110,
   "metadata": {
    "scrolled": true
   },
   "outputs": [],
   "source": [
    "X_train_final = pd.concat( \n",
    "                        [    \n",
    "                            pd.DataFrame(X[features], columns=features), \n",
    "                            pd.DataFrame(Y_train_pred_1, columns=['xgb_max_depth_6']),\n",
    "                            pd.DataFrame(Y_train_pred_2, columns=['xgb_max_depth_8']),\n",
    "                            pd.DataFrame(Y_train_pred_3, columns=['xgb_max_depth_10']),\n",
    "                            pd.DataFrame(Y_train_pred_4, columns=['knn_n_neighbors_12']),\n",
    "                            pd.DataFrame(Y_train_pred_5, columns=['knn_n_neighbors_16']),\n",
    "                            pd.DataFrame(Y_train_pred_6, columns=['knn_n_neighbors_20']),\n",
    "                        ]\n",
    "                        , axis=1\n",
    "                    )"
   ]
  },
  {
   "cell_type": "code",
   "execution_count": 111,
   "metadata": {
    "scrolled": true
   },
   "outputs": [],
   "source": [
    "X_test_final = pd.concat( \n",
    "                        [    \n",
    "                            pd.DataFrame(test[features], columns=features), \n",
    "                            pd.DataFrame(Y_final_pred_1, columns=['xgb_max_depth_6']),\n",
    "                            pd.DataFrame(Y_final_pred_2, columns=['xgb_max_depth_8']),\n",
    "                            pd.DataFrame(Y_final_pred_3, columns=['xgb_max_depth_10']),\n",
    "                            pd.DataFrame(Y_final_pred_4, columns=['knn_n_neighbors_12']),\n",
    "                            pd.DataFrame(Y_final_pred_5, columns=['knn_n_neighbors_16']),\n",
    "                            pd.DataFrame(Y_final_pred_6, columns=['knn_n_neighbors_20']),\n",
    "                        ]\n",
    "                        , axis=1\n",
    "                    )"
   ]
  },
  {
   "cell_type": "markdown",
   "metadata": {},
   "source": [
    "## Stacking above model results with Ridge Regressor "
   ]
  },
  {
   "cell_type": "code",
   "execution_count": 112,
   "metadata": {},
   "outputs": [
    {
     "name": "stderr",
     "output_type": "stream",
     "text": [
      "C:\\Users\\jsaikumar\\Anaconda3\\lib\\site-packages\\sklearn\\preprocessing\\data.py:323: DataConversionWarning: Data with input dtype int32, float32, int64, float64 were all converted to float64 by MinMaxScaler.\n",
      "  return self.partial_fit(X, y)\n"
     ]
    },
    {
     "data": {
      "text/plain": [
       "Ridge(alpha=1, copy_X=True, fit_intercept=True, max_iter=1000, normalize=True,\n",
       "   random_state=None, solver='auto', tol=0.001)"
      ]
     },
     "execution_count": 112,
     "metadata": {},
     "output_type": "execute_result"
    }
   ],
   "source": [
    "from sklearn.linear_model import Ridge\n",
    "model = Ridge(alpha=1, copy_X=True, normalize=True, max_iter=1000)\n",
    "model.fit(scaler.fit_transform(X_train_final), Y)"
   ]
  },
  {
   "cell_type": "code",
   "execution_count": 113,
   "metadata": {},
   "outputs": [],
   "source": [
    "Y_test_final_pred = model.predict(scaler.transform(X_test_final))"
   ]
  },
  {
   "cell_type": "code",
   "execution_count": 114,
   "metadata": {},
   "outputs": [
    {
     "name": "stdout",
     "output_type": "stream",
     "text": [
      "3.886868871625385 1337.9882207253\n"
     ]
    }
   ],
   "source": [
    "print(Y_test_final_pred.min(), Y_test_final_pred.max())"
   ]
  },
  {
   "cell_type": "code",
   "execution_count": 115,
   "metadata": {},
   "outputs": [],
   "source": [
    "test['num_orders'] = np.clip(Y_test_final_pred, 0, 2000)\n",
    "test['num_orders'] = np.round(test['num_orders'], 1)\n",
    "test[['id', 'num_orders']].to_csv('genpact_stack_submission.csv', index=False)"
   ]
  },
  {
   "cell_type": "markdown",
   "metadata": {},
   "source": [
    "#### This final submission obtained the score of 62.27"
   ]
  }
 ],
 "metadata": {
  "kernelspec": {
   "display_name": "Python 3",
   "language": "python",
   "name": "python3"
  },
  "language_info": {
   "codemirror_mode": {
    "name": "ipython",
    "version": 3
   },
   "file_extension": ".py",
   "mimetype": "text/x-python",
   "name": "python",
   "nbconvert_exporter": "python",
   "pygments_lexer": "ipython3",
   "version": "3.7.0"
  }
 },
 "nbformat": 4,
 "nbformat_minor": 2
}
